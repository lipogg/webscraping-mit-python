{
 "cells": [
  {
   "attachments": {},
   "cell_type": "markdown",
   "metadata": {},
   "source": [
    "# Semesterplan"
   ]
  },
  {
   "attachments": {},
   "cell_type": "markdown",
   "metadata": {},
   "source": [
    "| Sitzung Nr. | Datum          | Thema                                                                                      |\n",
    "|-------------|----------------|--------------------------------------------------------------------------------------------|\n",
    "| 1           | 14.04.         | Was ist Web Scraping? Was machen wir in diesem Seminar?                                    |\n",
    "| 2           | 28.04.         | Intro Python I: Einfache Datentypen, Operatoren, Variablen                                 |\n",
    "| 3           | 05.05.         | Intro Python II: Zusammengesetzte Datentypen und Kontrollstrukturen                        |\n",
    "| 4           | 12.05.         | Intro Python III: Funktionen, Module, Pakete und Bibliotheken                              |\n",
    "| 5           | 19.05.         | Intro Webscraping mit Python; Installation und Setup                                       |\n",
    "| 6 und 7     | 26.05., 02.06. | Anwendungsfall 1: \"Statische\" Webseiten scrapen mit Python BeautifulSoup                   |\n",
    "| 8 und 9     | 16.06., 23.06. | Anwendungsfall 2: Inhalte aus Bibliotheken u. Archiven mithilfe von APIs beziehen (Exkurs) |\n",
    "| 10 und 11   | 30.06., 07.07. | Anwendungsfall 3: \"Dynamische\" Webseiten scrapen mit Python Selenium                       |\n",
    "| 12          | 14.07.         | Daten bereinigen mit Pandas (Exkurs)                                                       |"
   ]
  },
  {
   "attachments": {},
   "cell_type": "markdown",
   "metadata": {},
   "source": [
    "Die Sitzung am 30.06. findet voraussichtlich REMOTE via Webex statt.\n",
    "\n",
    "Je nachdem, ob und, falls ja, wie viele Vorkenntnisse ihr habt, wird die Lernkurve in den ersten paar Sitzungen recht steil sein. Es ist wichtig, dass ihr euch die Inhalte von Anfang an mithilfe der wöchentlichen Quizze und Übungen einprägt. Wenn wir uns eine Grundlage erarbeitet haben und sich erste Erfolge einstellen, wird sich die anfängliche Arbeit auszahlen!"
   ]
  },
  {
   "cell_type": "code",
   "execution_count": 3,
   "metadata": {
    "tags": [
     "remove-input"
    ]
   },
   "outputs": [],
   "source": [
    "import plotly.express as px\n",
    "import pandas as pd\n",
    "from itertools import repeat"
   ]
  },
  {
   "cell_type": "code",
   "execution_count": null,
   "metadata": {
    "tags": [
     "remove-input"
    ],
    "pycharm": {
     "is_executing": true
    }
   },
   "outputs": [],
   "source": [
    "\n",
    "sitzung = [1, 2, 3, 4, 5, 6, 7, 8, 9, 10, 11, 12, 1, 2, 3, 4, 5, 6, 7, 8, 9, 10, 11, 12]\n",
    "inhalte = [2, 12, 22, 32, 35, 45, 50, 53, 55, 58, 60, 64, 25, 28, 30, 34, 37, 45, 50, 53, 55, 58, 60, 64]\n",
    "vk = list(repeat(\"Ohne Vorkenntnisse\", 12)) + list(repeat(\"Mit Vorkenntnissen\", 12))\n",
    "\n",
    "df = pd.DataFrame(list(zip(sitzung, inhalte, vk)), columns=[\"Sitzung Nr.\", \"Erlernte Inhalte\", \"Vorkenntnisse\"])\n",
    "\n",
    "fig = px.line(df, x=sitzung, y=inhalte, color=vk, labels={\"x\": \"Sitzung Nr.\", \"y\": \"Erlernte Inhalte\", \"color\":\"Vorkenntnisse\"}, title=\"Lernkurve für dieses Seminar\") \n",
    "\n",
    "fig.show()"
   ]
  }
 ],
 "metadata": {
  "kernelspec": {
   "display_name": "Python 3",
   "language": "python",
   "name": "python3"
  },
  "language_info": {
   "codemirror_mode": {
    "name": "ipython",
    "version": 3
   },
   "file_extension": ".py",
   "mimetype": "text/x-python",
   "name": "python",
   "nbconvert_exporter": "python",
   "pygments_lexer": "ipython3",
   "version": "3.9.6"
  },
  "widgets": {
   "application/vnd.jupyter.widget-state+json": {
    "state": {},
    "version_major": 2,
    "version_minor": 0
   }
  }
 },
 "nbformat": 4,
 "nbformat_minor": 4
}
