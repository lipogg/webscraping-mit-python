{
 "cells": [
  {
   "attachments": {},
   "cell_type": "markdown",
   "metadata": {},
   "source": [
    "# Variablen"
   ]
  },
  {
   "attachments": {},
   "cell_type": "markdown",
   "metadata": {},
   "source": [
    "Angenommen, wir wollen den Wert, der ausgegeben wird, wenn der Ausdruck `3 == 3 and \"c\" == \"c\"` evaluiert wird, im Programmverlauf noch einmal verwenden. Dann wäre es unpraktisch, wenn wir jedes Mal den gesamten Ausdruck kopieren müssten. Wenn wir später die 3 durch eine 4 ersetzen, müssten wir dann alle Stellen finden, wo derselbe Ausdruck vorkommt, und überall die Änderung vornehmen. So entstehen schnell Fehler. \n",
    "\n",
    "Aus diesem Grund gibt es Variablen. Variablen werden verwendet, um Werte \"zwischenzuspeichern\", die wiederholt verwendet werden. Werte können mithilfe des **Zuweisungsoperators** `=` einer Variable \"zugewiesen\" werden. **Das heißt, dass ein Name festgelegt wird, der für diesen Wert und für einen Speicherplatz steht. Ganz korrekt ausgedrückt würde man sagen, dass ein Objekt oder Wert an einen Namen \"gebunden\" wird; dieser Name ist sowas wie eine Referenz zu diesem Wert**.  Eine Zuweisung folgt in Python dem Schema `Name = Wert`.\n",
    "\n",
    "So kann mithilfe des Variablennamens auf den damit verknüpften Wert zugegriffen werden, selbst dann, wenn sich der Wert im Programmverlauf verändert hat. **Variablen sind also sowas wie Platzhalter für Werte eines Datentyps.**  \n",
    "\n",
    "Bei der Benennung von Variablen sollten bestimmte **Regeln und die Konventionen** aus unserem Style Guide eingehalten werden: \n",
    "\n",
    "- Variablennamen dürfen kein Leerzeichen enthalten (Regel!).\n",
    "- Variablennamen dürfen keine Sonderzeichen außer Unterstriche enthalten (Regel!).\n",
    "- Zwei Wörter oder ein Wort und eine Zahl können mit Unterstrich oder camelCase getrennt werden. Die Empfehlung des Style Guides ist hier die Verwendung des Unterstrichs.\n",
    "- Variablen dürfen nicht mit einer Zahl anfangen (Regel!). \n",
    "- Python ist \"case sensitive\", das heißt: die Variable `baum` ist nicht dasselbe wie die Variable `Baum`! \n",
    "- Der Style Guide empfiehlt, Variablennamen komplett in Kleinbuchstaben zu schreiben.  \n",
    "\n",
    "Beim Ausführen einer Zuweisung wird nichts auf dem Bildschirm ausgegeben. Nach der Zuweisung können Werte, die einer Variable zugewiesen sind, mithilfe der Funktion `print()` auf dem Bildschirm ausgegeben werden.\n"
   ]
  },
  {
   "attachments": {},
   "cell_type": "markdown",
   "metadata": {},
   "source": [
    "```{note}\n",
    "Eine **Zuweisung** ist eine Art von **Anweisung**. Wenn ein Wert einem Namen zugewiesen wird, \"macht\" der Computer etwas, er ändert den Zustand des Speichers (-> Grundbegriffe).\n",
    "```"
   ]
  },
  {
   "cell_type": "code",
   "execution_count": null,
   "metadata": {},
   "outputs": [],
   "source": [
    "# Zuweisungen\n",
    "zahl = 454\n",
    "satz = \"Eine Rose ist eine Pflanze\"\n",
    "satz_2 = \"Eine zweite Rose ist auch eine Pflanze\"\n",
    "noch_ein_satz = \"Noch eine Rose\"\n",
    "Satz = \"Eine Rose ist keine Pflanze\""
   ]
  },
  {
   "cell_type": "code",
   "execution_count": null,
   "metadata": {},
   "outputs": [],
   "source": [
    "# Variable Satz auf dem Bildschirm ausgeben \n",
    "print(Satz)"
   ]
  },
  {
   "cell_type": "code",
   "execution_count": null,
   "metadata": {},
   "outputs": [],
   "source": [
    "# Variable satz auf dem Bildschirm ausgeben\n",
    "print(satz)"
   ]
  },
  {
   "cell_type": "code",
   "execution_count": null,
   "metadata": {},
   "outputs": [],
   "source": [
    "# Der Variable satz einen neuen Wert zuweisen\n",
    "satz = \"Ein Apfel ist keine Pflanze\"\n",
    "\n",
    "# Variable satz erneut ausgeben\n",
    "print(satz)"
   ]
  },
  {
   "cell_type": "code",
   "execution_count": null,
   "metadata": {},
   "outputs": [],
   "source": [
    "satz == Satz "
   ]
  },
  {
   "cell_type": "code",
   "execution_count": null,
   "metadata": {},
   "outputs": [],
   "source": [
    "# Aussagen als Variablen  \n",
    "aussage_1 = \"c\" == \"c\"\n",
    "aussage_2 = 3 == 5\n",
    "not aussage_1 == aussage_2"
   ]
  },
  {
   "attachments": {},
   "cell_type": "markdown",
   "metadata": {},
   "source": [
    "`````{admonition} Verständnisfragen\n",
    ":class: tip\n",
    "- Warum wird das erste Mal, dass `print(satz)` ausgeführt wird, ein anderer Wert ausgegeben, als beim zweiten Mal?\n",
    "- Warum wird der Ausdruck `satz == Satz` zu `False` evaluiert? \n",
    "- Was passiert im letzten Beispiel? \n",
    "`````"
   ]
  },
  {
   "attachments": {},
   "cell_type": "markdown",
   "metadata": {},
   "source": [
    "Im Beispiel oben haben wir gesehen, dass man Variablen **neu zuweisen** kann. Im Speicher verschwindet dabei das Objekt, das diesen Wert repräsentiert, allerdings nicht, er wird also nicht einfach überschrieben. Das einzige, was sich ändert, ist, dass der Name jetzt nicht mehr auf dieses alte Objekt zeigt, sondern auf ein neues Objekt im Speicher."
   ]
  },
  {
   "attachments": {},
   "cell_type": "markdown",
   "metadata": {},
   "source": [
    "Es ist auch möglich, einer Variable **einen neuen Wert zuzuweisen, aber den neuen Wert dabei mit dem alten Wert zu verrechnen**. Dazu werden die Zuweisungsoperatoren `+=`, `-=`, `*=` und `/=` verwendet. Bei den Operatoren handelt es sich eigentlich um Kurzschreibweisen für zwei verschiedene Operatoren, zum Beispiel ist `+=` eine Kurzschreibweise für `x = x + y`\n",
    "\n",
    "Beispiel: "
   ]
  },
  {
   "cell_type": "code",
   "execution_count": null,
   "metadata": {},
   "outputs": [],
   "source": [
    "alter = 29 \n",
    "alter += 5\n",
    "print(alter)"
   ]
  },
  {
   "attachments": {},
   "cell_type": "markdown",
   "metadata": {},
   "source": [
    "#### Veränderbarkeit und Unveränderbarkeit\n",
    "\n",
    "Der Datentyp eines Objekts bestimmt in Python auch, ob das Objekt veränderbar (mutable) oder unveränderbar (immutable) ist, also ob es nachträglich geändert werden kann. Strings sind zum Beispiel unveränderbar. Das heißt, dass ein Zeichen in einem String nicht nachträglich ausgetauscht werden kann. Ein Beispiel für dieses Verhalten haben wir bereits gesehen, nämlich beim Aufruf von String-Methoden. Methoden waren die speziellen Operationen, die nur für Objekte vom Typ String definiert sind. Beim Ausführen von `print(wort)` wurde der String `\"Hallo\"` unverändert ausgegeben, obwohl wir zuvor die Methode `wort.lower()` aufgerufen haben. Das Objekt wurde also nicht verändert, sondern es wurde eine Kopie davon erzeugt. Das Ergebnis der Operation `wort.lower()` hätten wir also der Variable `wort` erneut zuweisen müssen, um später wieder darauf zugreifen zu können. Dieses Verhalten wird anhand des folgenden Beispiels noch deutlicher. \n",
    "\n",
    "Beispiel: "
   ]
  },
  {
   "cell_type": "code",
   "execution_count": null,
   "metadata": {},
   "outputs": [],
   "source": [
    "vorname = \"Misa\" \n",
    "\n",
    "# Nicht erlaubt: Produziert eine Fehlermeldung\n",
    "# vorname[0] = \"L\" \n",
    "\n",
    "# Erlaubt: Die Variable vorname wird mit einem neuen Objekt verknüpft\n",
    "vorname = \"L\"+vorname[1:len(vorname)]\n",
    "print(vorname)"
   ]
  },
  {
   "attachments": {},
   "cell_type": "markdown",
   "metadata": {},
   "source": [
    "`````{admonition} Verständnisfrage\n",
    ":class: tip\n",
    "- Wie müsste der Ausdruck `\"L\"+vorname[1:len(vorname)]` verändert werden, um den letzten Buchstaben zu verändern? \n",
    "\n",
    "`````"
   ]
  },
  {
   "attachments": {},
   "cell_type": "markdown",
   "metadata": {},
   "source": [
    "Genau wie bei der Neuzuweisung der Variable `satz` im Beispiel vorhin wird in diesem Beispiel ein neues Objekt erzeugt, ohne, dass das Objekt aus dem Speicher verschwindet. \n",
    "Dieses Verhalten lässt sich mithilfe des bereits bekannten Operators `==` und dem sogenannten **Identitätsoperator** `is` nachvollziehen:"
   ]
  },
  {
   "cell_type": "code",
   "execution_count": null,
   "metadata": {},
   "outputs": [],
   "source": [
    "satz == Satz "
   ]
  },
  {
   "cell_type": "code",
   "execution_count": null,
   "metadata": {},
   "outputs": [],
   "source": [
    "satz is Satz"
   ]
  },
  {
   "cell_type": "code",
   "execution_count": null,
   "metadata": {},
   "outputs": [],
   "source": [
    "Satz = \"Ein Apfel ist keine Pflanze\""
   ]
  },
  {
   "cell_type": "code",
   "execution_count": null,
   "metadata": {},
   "outputs": [],
   "source": [
    "satz == Satz"
   ]
  },
  {
   "cell_type": "code",
   "execution_count": null,
   "metadata": {},
   "outputs": [],
   "source": [
    "satz is Satz"
   ]
  },
  {
   "cell_type": "markdown",
   "source": [
    "Die Operatoren `==` und `!=` prüfen zwei Objekte auf **Wertgleichheit**, also ob sie den gleichen Wert haben. Die Identitätsoperatoren `is` und `is not` überprüfen dagegen die **Identität** oder **Verweisgleichheit**, also ob ein Objekt identisch mit einem anderen ist. Identisch heißt hier, dass die beiden Objekte auf denselben Speicherplatz verweisen.  Wenn gewünscht ist, dass die beiden Namen `satz` und `Satz` auf dasselbe Objekt im Speicher zeigen, kann dies erreicht werden, indem der Variable `satz` die Variable `Satz` zugewiesen wird (oder andersherum):"
   ],
   "metadata": {
    "collapsed": false
   }
  },
  {
   "cell_type": "code",
   "execution_count": null,
   "outputs": [],
   "source": [
    "satz = Satz"
   ],
   "metadata": {
    "collapsed": false
   }
  },
  {
   "cell_type": "code",
   "execution_count": null,
   "outputs": [],
   "source": [
    "satz is Satz"
   ],
   "metadata": {
    "collapsed": false
   }
  },
  {
   "cell_type": "markdown",
   "source": [
    "Wenn wie in diesem Beispiel zwei Namen auf dasselbe Objekt im Speicher verweisen, dann nennt man diese Namen **Alias**."
   ],
   "metadata": {
    "collapsed": false
   }
  },
  {
   "cell_type": "markdown",
   "source": [
    "```{note}\n",
    "Im Beispiel oben haben wir zwei Variablen `satz` und `Satz`, denen die Werte \"Eine Rose ist eine Pflanze\" und \"Ein Apfel ist keine Pflanze\" zugewiesen waren, zunächst auf Wertgleichheit und dann auf Identität geprüft. Danach haben wir der Variable `Satz` denselben Wert zugewiesen wie der Variable `satz` und wir haben gesehen, dass die beiden Variablen nun zwar wertgleich waren, aber nicht identisch. Erst durch die Zuweisung `satz = Satz` wurden die beiden Variablen identisch. Es ist wichtig zu beachten, dass dieses Verhalten bei kürzeren Zeichenketten jedoch nicht zum Tragen kommt. Wenn wir das gleiche Beispiel mit den beiden Variablen `wort_1 = \"Hallo\"` und `wort_2 = \"Hallo\"` wiederholen, wird sowohl `wort_1 == wort_2` als auch `wort_1 is wort_2` zu `True` evaluiert. Das liegt daran, dass in diesem Fall in Python ein Mechanismus aktiviert wird, der sich **String Interning** oder Zeichenketten-Internierung nennt: Anstatt dass ein Duplikat der Zeichenkette im Speicher angelegt wird, wird bei der Zuweisungsoperation die Variable `wort_2` automatisch ein Alias zum bereits existierenden Objekt mit dem Namen `wort_1`.\n",
    "```"
   ],
   "metadata": {
    "collapsed": false
   }
  },
  {
   "attachments": {},
   "cell_type": "markdown",
   "metadata": {},
   "source": [
    "### Quellen\n",
    "\n",
    "```{bibliography}\n",
    "   :list: enumerated\n",
    "   :filter: keywords % \"datentypen\" or keywords % \"mit_01\" or keywords % \"mit_03\" or keywords % \"internierung\"\n",
    "```"
   ]
  }
 ],
 "metadata": {
  "kernelspec": {
   "display_name": "Python 3",
   "language": "python",
   "name": "python3"
  },
  "language_info": {
   "codemirror_mode": {
    "name": "ipython",
    "version": 3
   },
   "file_extension": ".py",
   "mimetype": "text/x-python",
   "name": "python",
   "nbconvert_exporter": "python",
   "pygments_lexer": "ipython3",
   "version": "3.9.8"
  },
  "widgets": {
   "application/vnd.jupyter.widget-state+json": {
    "state": {},
    "version_major": 2,
    "version_minor": 0
   }
  }
 },
 "nbformat": 4,
 "nbformat_minor": 4
}
