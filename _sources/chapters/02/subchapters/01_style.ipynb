{
 "cells": [
  {
   "attachments": {},
   "cell_type": "markdown",
   "metadata": {},
   "source": [
    "# Python Style Guide\n"
   ]
  },
  {
   "attachments": {},
   "cell_type": "markdown",
   "metadata": {},
   "source": [
    "Guido van Rossum, der Autor von Python, hat mal bemerkt, dass Code viel öfter gelesen als geschrieben wird. Für das Coden mit Python gibt es deswegen einen allgemein anerkannten [Style Guide](https://peps.python.org/pep-0008/), der Konventionen festlegt, wie Code über die Syntaxregeln hinaus geschrieben werden soll: Zum Beispiel soll jede Zeile Code ungefähr 80 Zeichen haben  und an bestimmten Stellen sollen zur Lesbarkeit Leerzeichen verwendet werden. Nur, wenn die Einhaltung der Richtlinien den Code weniger lesbar oder uneinheitlich machen würde, kann von den Richtlinien abgewichen werden. In diesem Kurs richten wir uns nach den Empfehlungen des Style Guides. Wenn ihr im Laufe des Semesters unsicher seid, wie ihr Code am besten schreibt, dann könnt ihr auch selbst auf den Seiten des Style Guides nachschlagen. Wenn ihr noch tiefer einsteigen wollt, lest euch das Dokument [\"The Elements of Python Style\"](https://github.com/amontalenti/elements-of-python-style) durch. Darin wird diskutiert, wann es sinnvoll ist, von dem Style Guide abzuweichen und es werden Empfehlungen für komplexeren Code gemacht. "
   ]
  },
  {
   "attachments": {},
   "cell_type": "markdown",
   "metadata": {},
   "source": [
    "```{bibliography}\n",
    "   :list: enumerated\n",
    "   :filter: keywords % \"style\" \n",
    "```"
   ]
  },
  {
   "attachments": {},
   "cell_type": "markdown",
   "metadata": {},
   "source": [
    "### Kommentare \n",
    "\n",
    "Ganz grundsätzlich gilt: Um den eigenen Code für andere verständlicher zu gestalten und sich selbst an seinen Code zu erinnern, sollte man diesen immer gut kommentieren. "
   ]
  },
  {
   "cell_type": "code",
   "execution_count": null,
   "metadata": {},
   "outputs": [],
   "source": [
    "# Das ist ein Kommentar"
   ]
  }
 ],
 "metadata": {
  "kernelspec": {
   "display_name": "Python 3",
   "language": "python",
   "name": "python3"
  },
  "language_info": {
   "codemirror_mode": {
    "name": "ipython",
    "version": 3
   },
   "file_extension": ".py",
   "mimetype": "text/x-python",
   "name": "python",
   "nbconvert_exporter": "python",
   "pygments_lexer": "ipython3",
   "version": "3.8.0"
  },
  "widgets": {
   "application/vnd.jupyter.widget-state+json": {
    "state": {},
    "version_major": 2,
    "version_minor": 0
   }
  }
 },
 "nbformat": 4,
 "nbformat_minor": 4
}
