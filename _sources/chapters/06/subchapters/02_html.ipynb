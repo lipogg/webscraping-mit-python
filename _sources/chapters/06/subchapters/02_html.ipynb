{
 "cells": [
  {
   "attachments": {},
   "cell_type": "markdown",
   "metadata": {},
   "source": [
    "# HTML: Hypertext Markup Language"
   ]
  },
  {
   "cell_type": "markdown",
   "source": [
    "\n",
    ":::{figure-md} markdown-fig\n",
    "<img src=\"html_css_js.png\" alt=\"HTML, CSS und JavaScript\" class=\"bg-transparent\" width=\"50%\">\n",
    "\n",
    "Überblick: HTML, CSS und JS. Quelle: [Frank Dopatka (2021)](https://www.youtube.com/watch?v=SQpYAK_IKIo)\n",
    ":::\n",
    "\n",
    "## Einstieg: Webseite im Browser untersuchen\n",
    "\n",
    "Eine einzelne Webseite ist im Grunde einfach ein Dokument im World Wide Web, das über eine eindeutige URL (Uniform Resource Locator) abgerufen werden kann. Ein Webbrowser interpretiert das Dokument und stellt es dar. Das Dokument definiert die Struktur, und gegebenenfalls das Aussehen und/oder Funktionalitäten der Webseite. Der strukturelle Aufbau und die Inhalte einer Webseite werden in der Auszeichnungssprache HTML beschrieben. Das Design einer Webseite wird in der Stylesheet-Sprache CSS beschrieben. Und das Verhalten und interaktive Funktionen, die die Webseite ihren Nutzer:innen bieten soll, können in der Programmiersprache JavaScript beschrieben werden.\n",
    "Ein Webseitendokument hat die Dateiendung .html. Zusätzliche CSS- und JavaScript-Elemente werden in das HTML-Dokument  eingebunden, indem entweder dierkt CSS oder JavaScript-Code in das HTML-Dokument geschrieben wird, oder, indem ein Verweis auf eine externe CSS- oder JavaScript-Datei in das HTML-Dokument eingefügt wird.\n",
    "\n",
    "Wir wollen uns die verschiedenen Komponenten einer Webseite genauer ansehen. Öffnet dazu die folgende Website im Chrome Browser: [https://quotes.toscrape.com/js/](https://quotes.toscrape.com/js/)\n",
    "\n",
    "Wenn wir eine Webseite aufrufen, wird sie uns in der \"gerenderten\" Darstellung angezeigt. Um den Quellcode mit den HTML, CSS und JavaScript-Elementen zu sehen, wählt zunächst im Menü ganz oben im Browserfenster den Menüpunkt View -> Developer -> View Source bzw. Ansicht -> Entwickler -> Quellcode.\n",
    "\n",
    "Diese Ansicht ist etwas unpraktisch. Zum Glück stellen alle gängigen Browser daneben auch spezialisierte **Entwicklertools** (engl. Developer Tools) bereit, mit denen Webseiten untersucht, angepasst und getestet werden können. Öffnet die Entwicklertools, indem ihr aus dem Menü View -> Developer -> Developer Tools auswählt.\n",
    "\n",
    "\n",
    "```{note}\n",
    "Eine **Webseite** ist eine einzelne Seite, also ein einzelnes Dokument im World Wide Web. Eine **Website** ist eine Sammlung mehrerer miteinander verknüpfter Webseiten.\n",
    "```"
   ],
   "metadata": {
    "collapsed": false
   }
  },
  {
   "cell_type": "markdown",
   "source": [
    "## HTML: Aufbau, Elemente und Attribute\n",
    "\n",
    "> \"Die Hypertext Markup Language (HTML), ist eine textbasierte Auszeichnungssprache zur Strukturierung digitaler Dokumente wie Texte mit Hyperlinks, Bildern und anderen Inhalten. HTML-Dokumente sind die Grundlage des World Wide Web und werden von Webbrowsern dargestellt. HTML dient als Auszeichnungssprache dazu, einen Text semantisch zu strukturieren, aber nicht zu formatieren. Die visuelle Darstellung ist nicht Teil der HTML-Spezifikationen und wird durch den Webbrowser mit Gestaltungsvorlagen wie CSS bestimmt.\"\n",
    "\n",
    "Quelle: [Frank Dopatka (2021)](https://www.youtube.com/watch?v=7Zw6Y-22U5o)"
   ],
   "metadata": {
    "collapsed": false
   }
  },
  {
   "cell_type": "markdown",
   "source": [
    "HTML-Dokumente sind als logische Abfolge ineinander verschachtelter **Elemente** aufgebaut. Jedes Element muss mithilfe eines Öffnungs**tags** in eckigen Klammern (z.B. <body>) geöffnet werden und irgendwann wieder mit einem Schließtag geschlossen werden (z.B. </body>). Elemente können andere Elemente enthalten, z.B. kann ein HTML body-Element mehrere Überschriften-Elemente enthalten. In diesem Fall nennt man Elemente, die sich zwischen dem Öffnungs- und Schließtag eines anderen Elements befinden, **Kindelemente**, und das Element, dass die Elemente umschließt, das **Elternelement**.  Es gibt daneben auch ein **Wurzelelement**, das ist immer das html-Element. Wenn ein Element nicht korrekt geöffnet und geschlossen wird, dann ist das HTML-Dokument nicht wohlgeformt.\n",
    "\n",
    ":::{figure-md} markdown-fig\n",
    "<img src=\"html_element.png\" alt=\"HTML Element\" class=\"bg-transparent\" width=\"80%\">\n",
    "\n",
    "Aufbau eines HTML-Elements. Quelle: [MDN Contributors (2023)](https://developer.mozilla.org/en-US/docs/Learn/HTML/Introduction_to_HTML/Getting_started)\n",
    ":::\n",
    "\n",
    "Damit ein HTML-Dokument valide ist, muss es mindestens aus den folgenden Elementen bestehen:\n",
    "\n",
    ":::{figure-md} markdown-fig\n",
    "<img src=\"html_basic.png\" alt=\"HTML, CSS und JavaScript\" class=\"bg-transparent\" width=\"70%\">\n",
    "\n",
    "Grundgerüst eines HTML-Dokuments. Quelle: [Selfhtml (2022)](https://wiki.selfhtml.org/wiki/HTML/Tutorials/Grundger%C3%BCst)\n",
    ":::\n",
    "\n",
    "Das **head-Element** ist unsichtbar, es wird im Browser nicht dargestellt. Es enthält Informationen, die nicht an die Nutzer:innen der Seite, sondern zum Beispiel an den Browser oder Suchmaschinen gerichtet sind. Im head-Element wird zum Beispiel der Titel der Webseite genannt und es können externe CSS-Skripte eingebunden werden.\n",
    "\n",
    "Das **body-Element** definiert den Aufbau der Webseite und enthält den eigentlichen Webseiteninhalt, der im Browser dargestellt werden soll.\n",
    "\n",
    "Welche Elemente können im body stehen?\n",
    "Recherchiert selbst:\n",
    "- https://www.w3schools.com/html/html_basic.asp\n",
    "- https://developer.mozilla.org/en-US/docs/Web/HTML/Element#sectioning_root\n",
    "- https://developer.mozilla.org/en-US/docs/Learn/HTML/Introduction_to_HTML/Getting_started\n",
    "\n",
    "Die HTML-Elemente die für uns erst einmal am wichtigsten sind, sind:\n",
    "\n",
    "- Überschriften-Elemente (\\<h1\\>, \\<h2\\>, ...), für Überschriften in verschiedenen Größen\n",
    "- Text-Elemente (\\<p\\>), für Fließtext auf der Webseite\n",
    "- Listen-Elemente (\\<ol\\> oder \\<ul\\>), für nummerierte (ol) oder nicht nummerierte (ul) Listen\n",
    "- li-Elemente (\\<li\\>), für Kindelemente einer Liste\n",
    "- table-Elemente (\\<table\\>), für Tabellen, mit verschiedenen Kindelementen\n",
    "- a-Elemente (\\<a\\>), die meist zusammen mit dem Attribut href (--> siehe unten) vorkommen, um Verweise auf URLs (Links) in das Dokument einzubinden\n",
    "- div-Elemente (\\<div\\>), die verwendet werden, um mehrere Elemente wie Text, Bilder, Tabellen usw., in einem gemeinsamen Bereich einzuschließen\n",
    "- span-Elemente (\\<span\\>), das selbst nichts bewirkt und nur dazu verwendet werden kann, damit es mithilfe von CSS formatiert werden kann\n",
    "- skript-Elemente (\\<script\\>), zur internen oder externen Einbindung von JavaScript\n",
    "- link-Elemente (\\<link\\>, gewöhnlich im head-Element in Kombination mit den Attributen rel=\"stylesheet\" und href), zur Einbindung von externen CSS-Dateien\n",
    "- style-Elemente (\\<style\\>), zur internen Einbindung von CSS direkt in das HTML-Dokument\n",
    "- main-Element (\\<main\\>), welches verwendet wird, um den Hauptteil einer Webseite zu kennzeichnen\n",
    "- header-Element (\\<header\\>, != head-Element), welches den Header einer Webseite kennzeichnet und bspw. das Logo und den Titel enthält\n",
    "- footer-Element (\\<footer\\>), welches den Footer einer Webseite kennzeichenn und meist Verweise auf Impressum und Copyright-Bestimmungen enthält\n",
    "- nav-Element (\\<nav\\>), für Navigationsseiten und Menüs\n",
    "- ggf. video- und audio-Elemente (\\<video\\> bzw. \\<audio\\>), über die Videos und Audio in Webseiten eingebunden werden kann\n",
    "\n",
    "HTML-Elemente können **Attribute** haben, also Schlüssel-Wert-Paare, die zusätzliche Informationen über Elemente bereitstellen. Mit dem HTML-Attribut **id** kann zum Beispiel einem einzelnen Elemente eine einzigartige Zeichenkette zugeteilt werden, über die das Element später addressiert werden kann. Mit einem **class**-Attribut kann dagegen mehreren gleichartigen Elemente eine Zeichenkette zugeteilt werden, über diese Elemente später addressiert werden können. Die beiden Attribute id und class werden oft in Zusammenhang mit CSS-Stylsheets verwendet (--> nächster Abschnitt).\n",
    "\n",
    ":::{figure-md} markdown-fig\n",
    "<img src=\"html_attribut.png\" alt=\"HTML Attribut\" class=\"bg-transparent\" width=\"80%\">\n",
    "\n",
    "HTML-Elemnent mit Attribut class. Quelle: [MDN Contributors (2023)](https://developer.mozilla.org/en-US/docs/Learn/HTML/Introduction_to_HTML/Getting_started)\n",
    ":::"
   ],
   "metadata": {
    "collapsed": false
   }
  },
  {
   "attachments": {},
   "cell_type": "markdown",
   "metadata": {
    "collapsed": false
   },
   "source": [
    "### Quellen\n",
    "\n",
    "```{bibliography}\n",
    "   :list: enumerated\n",
    "   :filter: keywords % \"html\" or keywords % \"dop_09\" or keywords % \"dop_15\"\n",
    "```"
   ]
  },
  {
   "attachments": {},
   "cell_type": "markdown",
   "metadata": {
    "collapsed": false
   },
   "source": []
  }
 ],
 "metadata": {
  "kernelspec": {
   "display_name": "Python 3",
   "language": "python",
   "name": "python3"
  },
  "language_info": {
   "codemirror_mode": {
    "name": "ipython",
    "version": 3
   },
   "file_extension": ".py",
   "mimetype": "text/x-python",
   "name": "python",
   "nbconvert_exporter": "python",
   "pygments_lexer": "ipython3",
   "version": "3.8.0"
  },
  "widgets": {
   "application/vnd.jupyter.widget-state+json": {
    "state": {},
    "version_major": 2,
    "version_minor": 0
   }
  }
 },
 "nbformat": 4,
 "nbformat_minor": 4
}
