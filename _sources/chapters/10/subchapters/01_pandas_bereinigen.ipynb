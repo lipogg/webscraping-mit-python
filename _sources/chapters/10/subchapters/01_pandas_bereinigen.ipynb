{
 "cells": [
  {
   "cell_type": "markdown",
   "metadata": {
    "collapsed": false
   },
   "source": [
    "# Daten bereinigen mit Pandas\n",
    "\n",
    "Bisher haben wir uns nur der Beschaffung von Daten beschäftigt. Die extrahierten Daten haben wir meist als Pandas Dataframe dargestellt und gespeichert; oder wir haben extrahierte Texte direkt als Plaintextdateien gespeichert. In diesem Kapitel werden wir etwas tiefer in Pandas einsteigen und anhand eines Beispiels einige typische Datenbereinigungs- und -transformationsschritte kennenlernen.\n",
    "\n",
    "### Einstieg Pandas\n",
    "\n",
    "Lest euch zunächst die beiden Anleitungen \"What kind of data does pandas handle?\" und \"How do I select a subset of a DataFrame?\" auf der Seite [Getting Started Tutorials ](https://pandas.pydata.org/docs/getting_started/intro_tutorials/index.html) durch.\n",
    "\n",
    "Ruft anschließend dieses [Pandas Cheatsheet](https://pandas.pydata.org/Pandas_Cheat_Sheet.pdf) auf und beantwortet mithilfe der Tutorial-Seiten und des Cheat Sheets die folgenden Fragen:\n",
    "\n",
    "* Wie hängen Pandas Dataframe- und Series-Objekte zusammen?\n",
    "* Was ist der Unterschied zwischen den Methoden `.loc()`, `.iloc()`, `.at()` und `.iat()`?"
   ]
  },
  {
   "cell_type": "markdown",
   "metadata": {
    "collapsed": false
   },
   "source": [
    "### Daten extrahieren und bereinigen\n",
    "\n",
    "In der Praxisaufgabe auf dem Übungsblatt 12 solltet ihr die Links zu Tierfotos von der Seite https://www.pinterest.com/ideas/animals/925056443165/ extrahieren. In diesem Beispiel scrapen wir nicht die Links zu den Fotos, sondern Kommentare zu den einzelnen Fotos zusammen mit den Usernamen von Kommentator:innen. Anschließend werden wir den Pandas Dataframe mit den extrahierten Daten bereinigen und bearbeiten, und zuletzt erstellen wir zwei beispielhafte Grafiken zur Visualisierung der Daten. "
   ]
  },
  {
   "cell_type": "code",
   "execution_count": null,
   "metadata": {
    "collapsed": false
   },
   "outputs": [],
   "source": [
    "from selenium import webdriver\n",
    "from selenium.webdriver.support.wait import WebDriverWait\n",
    "from selenium.webdriver.common.by import By\n",
    "from selenium.webdriver.support import expected_conditions as EC\n",
    "import pandas as pd"
   ]
  },
  {
   "cell_type": "markdown",
   "metadata": {
    "collapsed": false
   },
   "source": [
    "Als Beispiel verwenden wir zwei Pins, für die zunächst die Kommentare sowie die Usernamen der Kommentator:innen extrahiert werden. Diese Daten speichern wir zusammen mit der URL zum Tierfotopin zunächst als Python Dictionary, das wir in einen Pandas Dataframe umwandeln:"
   ]
  },
  {
   "cell_type": "code",
   "execution_count": null,
   "metadata": {
    "collapsed": false
   },
   "outputs": [],
   "source": [
    "\n",
    "comments_dict = {\"link\":[], \"commentator\":[], \"comment\":[]}\n",
    "tierlinks = [\n",
    "    \"https://www.pinterest.de/pin/206321226666310819/\",\n",
    "    \"https://www.pinterest.de/pin/1108730001991298438/\",\n",
    "    \"https://de.pinterest.com/pin/314759461475004846/\"\n",
    "]\n",
    "driver = webdriver.Chrome()\n",
    "  \n",
    "for link in tierlinks:\n",
    "    driver.get(link)\n",
    "    wait = WebDriverWait(driver, 20)\n",
    "    comment_elems = wait.until(\n",
    "        EC.visibility_of_all_elements_located((By.XPATH, \"//div[@data-test-id='author-and-comment-container']/div/div/span/span[3]/span\"))\n",
    "    )\n",
    "    commentator_elems = wait.until(\n",
    "        EC.visibility_of_all_elements_located((By.XPATH, \"//div[@data-test-id='author-and-comment-container']/div/div/span/span[2]/a\"))\n",
    "    )\n",
    "\n",
    "    if len(comment_elems) > 0: # oder len(commentator_elems); das ist egal\n",
    "        comments = [comment.text for comment in comment_elems]\n",
    "        commentators = [commentator.get_attribute(\"href\") for commentator in commentator_elems]\n",
    "    \n",
    "    comments_dict[\"link\"].extend([link]*len(comments)) # [link] erstellt eine Liste mit einem Element\n",
    "    comments_dict[\"comment\"].extend(comments)\n",
    "    comments_dict[\"commentator\"].extend(commentators)\n",
    "\n",
    "driver.quit()"
   ]
  },
  {
   "cell_type": "code",
   "execution_count": null,
   "metadata": {
    "collapsed": false
   },
   "outputs": [],
   "source": [
    "comments_df = pd.DataFrame.from_dict(comments_dict)\n",
    "comments_df"
   ]
  },
  {
   "cell_type": "markdown",
   "metadata": {
    "collapsed": false
   },
   "source": [
    "Eine kurze Durchsicht der extrahierten Daten zeigt, dass nicht alle Kommentare extrahiert wurden, sondern nur die Kommentare, die beim Aufruf einer Tierfotoseite sichtbar sind. Für unsere Zwecke reichen uns aber diese Kommentare. Wir haben  außerdem nur Kommentare von zwei Tierfotoseiten extrahiert, sodass der Dataframe überschaubar ist. Bei sehr großen Dataframes kann es sinnvoll sein, sich nicht den gesamten Dataframe ausgeben zu lassen, sondern nur eine bestimmte Anzahl von Zeilen. Dazu können die Pandas Dataframe-Methoden `.tail()` und `.head()` verwendet werden, oder eine Slicing-Operation:"
   ]
  },
  {
   "cell_type": "code",
   "execution_count": null,
   "metadata": {
    "collapsed": false
   },
   "outputs": [],
   "source": [
    "comments_df.head(10) # erste 10 Zeilen\n",
    "comments_df.tail(5) # erste 10 Zeilen\n",
    "comments_df.iloc[4:12] # Zeilen 4-11"
   ]
  },
  {
   "cell_type": "markdown",
   "metadata": {
    "collapsed": false
   },
   "source": [
    "Zeilen können auch mithilfe einer logischen Abfrage ausgewählt werden, zum Beispiel:"
   ]
  },
  {
   "cell_type": "code",
   "execution_count": null,
   "metadata": {
    "collapsed": false
   },
   "outputs": [],
   "source": [
    "# Die Spalte commentator benennen wir allerdings erst später in commentator_id um (s.u.)\n",
    "comments_df.loc[comments_df[\"commentator_id\"] == 5] # Zeilen mit commentator_id == 5"
   ]
  },
  {
   "cell_type": "markdown",
   "metadata": {
    "collapsed": false
   },
   "source": [
    "Es können auch einzelne Spalten oder nur bestimmte Spalten ausgewählt werden:"
   ]
  },
  {
   "cell_type": "code",
   "execution_count": null,
   "metadata": {
    "collapsed": false
   },
   "outputs": [],
   "source": [
    "# Spalten commentator bis comment\n",
    "comments_df.loc[:, \"commentator\":\"comment\"]\n",
    "\n",
    "# Zugriff auf einzelne Spalte\n",
    "comments_df[\"comment\"]\n",
    "comments_df.comment\n",
    "comments_df.loc[:, \"comment\"]"
   ]
  },
  {
   "cell_type": "markdown",
   "metadata": {
    "collapsed": false
   },
   "source": [
    "Die Durchsicht des Dataframes zeigt, dass für einige Zellen in der Spalte comment leer zu sein scheinen. Die Kommentare sind immer dann leer, wenn ein:e User:in ein Bild als Kommentar geposted hat anstelle eines Textkommentars. Tatsächlich sind diese Zellen in unserem Dataframe aber nicht leer:"
   ]
  },
  {
   "cell_type": "code",
   "execution_count": null,
   "metadata": {
    "collapsed": false
   },
   "outputs": [],
   "source": [
    "type(comments_df.at[10, \"comment\"])"
   ]
  },
  {
   "cell_type": "markdown",
   "metadata": {
    "collapsed": false
   },
   "source": [
    "Um das Fehlen der Werte in unserem Dataframe zu kennzeichnen, können wir den speziellen Wert `NA` einsetzen:"
   ]
  },
  {
   "cell_type": "code",
   "execution_count": null,
   "metadata": {
    "collapsed": false
   },
   "outputs": [],
   "source": [
    "# Leere Zeichenketten durch NA Werte ersetzen\n",
    "df = comments_df.replace('', pd.NA, inplace=True)"
   ]
  },
  {
   "cell_type": "markdown",
   "metadata": {
    "collapsed": false
   },
   "source": [
    "Der Wert NA markiert das **Fehlen von Werten**. In Pandas können Zellen, die fehlende Werte enthalten, mithilfe spezieller Methoden abgefragt und bearbeitet werden, so zum Beispiel `.isna()` oder `.fillna()`.  [Hier](https://pandas.pydata.org/docs/user_guide/missing_data.html) könnt ihr nachlesen, wie fehlende Werte in Pandas-Datenobjekten allgemein behandelt werden.\n",
    "\n",
    "Als nächstes überprüfen wir eine Zelle mit einem Kommentar und überprüfen, ob sich am Anfang oder Ende der Zeichenkette überflüssige Leerzeichen befinden. Das ist bei der Extraktion von Textinhalt häufig der Fall und diesem Problem sind wir im Laufe des Semesters schon einige Male begegnet (z.B. beim Scrapen der Tags auf der Quotes to Scrape-Seite)."
   ]
  },
  {
   "cell_type": "code",
   "execution_count": null,
   "metadata": {
    "collapsed": false
   },
   "outputs": [],
   "source": [
    "comments_df.at[2, \"comment\"]"
   ]
  },
  {
   "cell_type": "markdown",
   "metadata": {
    "collapsed": false
   },
   "source": [
    "Tatsächlich befindet sich am Anfang des ausgewählten Kommentars **überflüssige Leerzeichen**. Leerzeichen am Anfang und Ende einer einzelnen Zeichenkette können mithilfe der Methode `.strip()` entfernt werden; die Methode `.str.strip()` entfernt Leerzeichen für jedes Element in einer Spalte eines Pandas-Dataframes (bzw. in einem Pandas Series-Objekt, denn das ist ja dasselbe):"
   ]
  },
  {
   "cell_type": "code",
   "execution_count": null,
   "metadata": {
    "collapsed": false
   },
   "outputs": [],
   "source": [
    "# Leading und trailing Whitespace entfernen mit strip()\n",
    "comments_df.at[2, \"comment\"].strip()\n",
    "# Leading und trailing whitespace für eine gesamte Spalte entfernen mit .str.strip()\n",
    "comments_df['comment'] = comments_df['comment'].str.strip()\n",
    "comments_df.at[2, \"comment\"] # überprüfen: hat es geklappt?"
   ]
  },
  {
   "cell_type": "markdown",
   "metadata": {
    "collapsed": false
   },
   "source": [
    "Ein weiterer Verarbeitungsschritt ist die **Anonymisierung der Kommentator:innen**. Je nach Forschungsfrage interessiert nicht unbedingt, welche:r Nutzer:in welchen Kommentar verfasst hat, sondern beispielsweise nur, ob dieselben Kommentator:innen ähnliche Bilder kommentieren oder wie viele Kommentare jede:r Nutzer:in hinterlassen hat. Dazu müssen wir die konkreten Nutzernamen nicht kennen; es reicht aus, wenn wir jeder Kommentator:in eine einzigartige ID zuteilen und in unserer Analyse nur die IDs betrachten. Durch das Anonymisieren der Nutzernamen gehen wir außerdem sicher, dass unser Datensatz nicht die Auflagen zur Speicherung und Nutzung personenbezogener Daten laut DSGVO verletzt (siehe Abschnitt 6.1)."
   ]
  },
  {
   "cell_type": "code",
   "execution_count": null,
   "metadata": {
    "collapsed": false
   },
   "outputs": [],
   "source": [
    "# Die factorize()-Methode ordnet jedem einzigartigen Wert eine eindeutige ID zu und gibt ein Tupel zurück, das aus einem Array von Labels und einem Index mit den einzigartigen Werten besteht.\n",
    "labels, unique = pd.factorize(comments_df['commentator'])\n",
    "labels\n",
    "unique\n",
    "\n",
    "comments_df['commentator'] = labels\n",
    "comments_df # überprüfen"
   ]
  },
  {
   "cell_type": "markdown",
   "metadata": {
    "collapsed": false
   },
   "source": [
    "Nachdem wir die Nutzernamen durch IDs ersetzt haben, passt der Spaltenname commentator nicht mehr so ganz und wir werden die **Spalte umbenennen**. Das Argument inplace=True bewirkt dabei, dass die Änderung direkt im bestehenden Dataframe vorgenommen wird, ohne dass eine Kopie des Objekts erstellt wird."
   ]
  },
  {
   "cell_type": "code",
   "execution_count": null,
   "metadata": {
    "collapsed": false
   },
   "outputs": [],
   "source": [
    "# Spalte commentator in commentator_id umbenennen\n",
    "comments_df.rename(columns={\"commentator\": \"commentator_id\"}, inplace=True)\n",
    "comments_df\n",
    "\n",
    "# Alternative\n",
    "comments_df.columns = [\"link\", \"commentator_id\", \"comment\"]"
   ]
  },
  {
   "cell_type": "markdown",
   "metadata": {},
   "source": [
    "### Daten zwischenspeichern"
   ]
  },
  {
   "cell_type": "markdown",
   "metadata": {
    "collapsed": false
   },
   "source": [
    "Häufig erfolgt die Analyse der extrahierten Daten nicht unmittelbar nach der Datenextraktion, sondern die Daten werden zwischengespeichert und später wieder eingelesen. Den bereinigten und anonymisierten Dataframe speichern wir deswegen im Folgenden auf dem Computer. Neben der bereits bekannten Pandas Dataframe-Methode `.to_csv()` gibt es eine Vielzahl anderer Methoden zum **Schreiben von Pandas-Objekten**. Einen Überblick über alle Datenformate und Methoden zum Schreiben von Daten findet ihr unter https://pandas.pydata.org/docs/user_guide/io.html.\n",
    "\n",
    "CSV-Dateien sind nicht immer die beste Wahl. Wenn Daten nur zwischengespeichert und später wieder eingelesen und weiterverarbeitet werden sollen, dann eignet sich zum Beispiel das Python-spezifische Datenformat pickle. Für größere Dataframes und wenn der Dataframe in einer anderen Programmiersprache wie R weiter bearbeitet werden soll, eignet sich dagegen das Datenformat feather. Um die Methode `.to_feather()` verwenden zu können, muss jedoch zuvor das Modul pyarrow installiert werden. Es muss ausnahmsweise nicht importiert werden, weil die Methode unter der Motorhaube automatisch auf das Modul zurückgreift. Zum Speichern besonders großer Datenobjekte wird häufig das Datenformat HDF5 empfohlen (zum Beispiel in [diesem Blogartikel](https://waterprogramming.wordpress.com/2023/06/22/intro-to-hdf5-h5py-and-comparison-to-csv-for-speed-compression/)."
   ]
  },
  {
   "cell_type": "code",
   "execution_count": null,
   "metadata": {
    "collapsed": false
   },
   "outputs": [],
   "source": [
    "# CSV\n",
    "comments_df.to_csv(\"comments_df.csv\", index=False, encoding=\"utf-8\")\n",
    "\n",
    "# Pickle\n",
    "comments_df.to_pickle(\"comments_df.pkl\")\n",
    "\n",
    "# Feather\n",
    "import sys\n",
    "!conda install --yes --prefix {sys.prefix} pyarrow\n",
    "comments_df.to_feather(\"comments_df.feather\")"
   ]
  },
  {
   "cell_type": "markdown",
   "metadata": {
    "collapsed": false
   },
   "source": [
    "Bei der Arbeit mit sehr großen Datenmengen lohnt sich außerdem gegebenenfalls der Umstieg von Pandas auf **Polars**, eine neue und [deutlich effizientere](https://blog.jetbrains.com/dataspell/2023/08/polars-vs-pandas-what-s-the-difference/) Bibliothek zur Arbeit mit Dataframes. Wer bereits Pandas und/oder R und insbesondere R dplyr kennt, sollte beim Umstieg jedoch keine Probleme haben, denn die Polars-Syntax ist sehr ähnlich. Einen Vergleich zwischen der Polars und Pandas Syntax findet ihr [hier](https://www.rhosignal.com/posts/polars-pandas-cheatsheet/). Für einen Vergleich zwischen Polars und R empfehle ich [diese Seite](https://ddotta.github.io/cookbook-rpolars/)."
   ]
  },
  {
   "cell_type": "markdown",
   "metadata": {
    "collapsed": false
   },
   "source": [
    "### Quellen\n",
    "\n",
    "```{bibliography}\n",
    "   :list: enumerated\n",
    "   :filter: keywords % \"pandas\"\n",
    "```"
   ]
  }
 ],
 "metadata": {
  "kernelspec": {
   "display_name": "Python 3",
   "language": "python",
   "name": "python3"
  },
  "language_info": {
   "codemirror_mode": {
    "name": "ipython",
    "version": 2
   },
   "file_extension": ".py",
   "mimetype": "text/x-python",
   "name": "python",
   "nbconvert_exporter": "python",
   "pygments_lexer": "ipython2",
   "version": "2.7.6"
  }
 },
 "nbformat": 4,
 "nbformat_minor": 0
}
