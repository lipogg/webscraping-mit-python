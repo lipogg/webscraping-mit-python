{
 "cells": [
  {
   "attachments": {},
   "cell_type": "markdown",
   "metadata": {},
   "source": [
    "# Funktionen"
   ]
  },
  {
   "attachments": {},
   "cell_type": "markdown",
   "metadata": {
    "collapsed": false
   },
   "source": [
    "\n",
    "Wir haben im Laufe der vergangenen Stunden bereits einige Funktionen kennengelernt, zum Beispiel die Ausgabe-Funktion `print()`, oder die Funktionen `enumerate()` und `range()`.\n"
   ]
  },
  {
   "cell_type": "markdown",
   "source": [
    "### Was sind Funktionen?\n",
    "\n",
    "Funktionen sind wiederverwendbare Abfolgen von Anweisungen. Sie sind also Codeabschnitte, die mithilfe eines Namens wiederholt ausgeführt werden können. Das Prinzip ist also ein bisschen ähnlich wie Variablen, mit dem Unterschied, dass man mithilfe von Funktionsnamen Anweisungen wiederverwenden kann, während man mithilfe von Variablennamen Objekte wiederverwenden kann. Im Grunde sind Funktionsnamen aber auch zugleich Variablennamen, weil in Python Funktionen auch Objekte sind (-> Grundbegriffe: alles in Python ist ein Objekt).\n",
    "\n",
    "Jede Funktion besteht aus drei Komponenten:\n",
    "\n",
    "- Name\n",
    "- Parameter (in der Funktionsdefinition: formale Parameter)\n",
    "- Rückgabewert\n",
    "\n",
    "Funktionen werden **aufgerufen**. Beim **Funktionsaufruf** werden ihnen **Argumente** übergeben. Welche Argumente eine Funktion annehmen kann, wird in der **Funktionsdefinition** mithilfe von **formalen Parametern** festgelegt. Für Argumente sagt man deswegen auch manchmal **tatsächliche Parameter**. Funktionen **geben immer einen Wert zurück**, der heißt dann **Rückgabewert**. Der Rückgabewert kann in einer Funktionsdefinition mithilfe des **Schlüsselworts `return`** festgelegt werden."
   ],
   "metadata": {
    "collapsed": false
   }
  },
  {
   "attachments": {},
   "cell_type": "markdown",
   "metadata": {
    "collapsed": false
   },
   "source": [
    "### Funktionen definieren"
   ]
  },
  {
   "attachments": {},
   "cell_type": "markdown",
   "metadata": {
    "collapsed": false
   },
   "source": [
    "Funktionen können Nutzer:innen aber auch selbst definieren. Eine **Funktionsdefinition** hat in Python die allgemeine Form:\n",
    "\n",
    "````{div} full-width\n",
    "```{image} funktionsdefinition.png\n",
    ":alt: Klasse str\n",
    ":class: bg-transparent\n",
    ":width: 75%\n",
    "```\n",
    "\n",
    "````"
   ]
  },
  {
   "cell_type": "markdown",
   "source": [
    "Achtung: Zwischen dem Funktionsnamen und der runden Klammer steht KEIN Leerzeichen.\n",
    "\n",
    "- mache_irgendwas ist der Funktions**name**.\n",
    "- Die Funktions**parameter** heißen parameter_1 und parameter_2. Dabei handelt es sich um Variablennamen, die nur innerhalb der Funktionsdefinition verwendet werden und als Platzhalter für die Argumente dienen, die der Funktion beim Funktionsaufruf übergeben werden. Die formalen Parameter sind also ein bisschen ähnlich wie die Laufvariablen in for-Schleifen, die auch nur Platzhalter für die Elemente aus einem iterierbaren Objekt waren.\n",
    "- Genau wie bei Kontrollstrukturen ist auch bei Funktionen der Funktions**körper** alles, was in dem eingeschobenen Block nach dem Doppelpunkt steht, also ein Anweisungsblock und eine return-Anweisung. Im Anweisungsblock stehen irgendwelche Anweisungen, die irgendetwas mit den Parametern der Funktion machen, also im Grunde Verarbeitungsschritte für die Funktionsparameter. Im Laufe der Verarbeitung wird irgendeine Variable definiert, die das “Endergebnis” der Verarbeitung zwischenspeichert. Diese Variable wird dann mithilfe der return-Anweisung zurückgegeben, wenn die Funktion aufgerufen wird. Die return-Anweisung definiert also, welche Variable die Funktion als Rückgabewert beim Funktionsaufruf zurückgeben soll.\n"
   ],
   "metadata": {
    "collapsed": false
   }
  },
  {
   "cell_type": "markdown",
   "source": [
    "Zusätzlich zu diesen unbedingt notwendigen Komponenten können Python-Funktionen einen sogenannten **Docstring** enthalten. Das ist eine Art Kommentar, der den Nutzer:innen der Funktion erläutert, was die Funktion macht, welche Argumente der Funktion beim Funktionsaufruf übergeben werden können und welcher Wert zurückgegeben wird, nachdem die Anweisungen im Funktionskörper ausgeführt worden sind. Docstrings werden durch drei Anführungszeichen eingegrenzt.\n",
    "\n",
    "Ein Beispiel:"
   ],
   "metadata": {
    "collapsed": false
   }
  },
  {
   "cell_type": "code",
   "execution_count": null,
   "metadata": {
    "collapsed": false
   },
   "outputs": [],
   "source": [
    "def is_even(i):\n",
    "    \"\"\"\n",
    "    Input: i, a positive int\n",
    "    Returns True if i is even, otherwise False\n",
    "    \"\"\"\n",
    "    return i%2 == 0\n",
    "\n",
    "is_even(3)"
   ]
  },
  {
   "cell_type": "markdown",
   "source": [
    "Quelle: [Ana Bell](https://ocw.mit.edu/courses/6-0001-introduction-to-computer-science-and-programming-in-python-fall-2016/resources/mit6_0001f16_lec4/) 2016.\n",
    "\n",
    "Für Funktionsnamen gelten laut [Style Guide](https://peps.python.org/pep-0008/#function-and-variable-names) dieselbe Syntaxempfehlungen wie für Variablennamen: Funktionsnamen sollten in Kleinbuchstaben geschrieben werden und einen Unterstrich sollte verwendet werden, um mehrere Wörter voneinander abzutrennen. Allerdings sollten Funktionsnamen immer irgendeine Operation beschreiben, während Variablennamen in der Regel Substantive sind.\n",
    "\n",
    "Für Docstrings gibt es daneben einen eigenen Style Guide: [https://peps.python.org/pep-0257/](https://peps.python.org/pep-0257/).\n",
    "\n",
    "Bei der Definition der Funktion `is_even()` sind zwei Dinge hervorzuheben: Zum einen scheint der Funktionsname nicht so richtig eine Operation auszudrücken, obwohl wir gerade eben besprochen haben, dass Funktionsnamen immer irgendeine Operation beschreiben sollten. Der Name der Funktion `is_even()` stellt tatsächlich einen Sonderfall dar: Da diese Funktion einen Wahrheitswert zurückgibt (also entweder `True` oder `False`), dient die Funktion eigentlich dazu, eine Eigenschaft des Arguments zu überprüfen, das ihr beim Funktionsaufruf übergeben wird, sie liefert also im Grunde eine Antwort auf die Frage, ob das Argument eine gerade oder eine ungerade Zahl ist. Der Funktionsname beschreibt daher die Überprüfung, die vorgenommen wird.\n",
    "\n",
    "Zum anderen wird der gesamte Ausdruck `i%2 == 0` als Rückgabewert definiert. Das erscheint vielleicht im ersten Moment unübersichtlich und vielleicht fallen euch andere Möglichkeiten ein, diese Funktion zu definieren, zum Beispiel:\n"
   ],
   "metadata": {
    "collapsed": false
   }
  },
  {
   "cell_type": "code",
   "execution_count": null,
   "outputs": [],
   "source": [
    "def is_even(i):\n",
    "    \"\"\"\n",
    "    Input: i, a positive int\n",
    "    Prints True if i is even, otherwise False\n",
    "    Returns None\n",
    "    \"\"\"\n",
    "    print(i%2 == 0)\n",
    "    return None\n",
    "\n",
    "is_even(3)"
   ],
   "metadata": {
    "collapsed": false
   }
  },
  {
   "cell_type": "markdown",
   "source": [
    "Was ist der Unterschied zwischen den beiden `is_even()`-Funktionen? Mit der zweiten Funktion kann man nur genau eine Sache machen: Man kann sich das Ergebnis der Operation `i%2 == 0` auf dem Bildschirm anzeigen lassen. Der Wahrheitswert wird nur ausgegeben, nicht zurückgegeben. Um das deutlich zu machen, wird hier explizit `None` als Rückgabewert festgelegt. Der Rückgabewert könnte hier aber theoretisch auch weggelassen werden, denn wenn bei einer Funktionsdefinition kein Rückgabewert angegeben wird, ist der Rückgabewert automatisch `None`.  Mit der ersten Funktion kann man dagegen viel mehr machen, denn diese Funktion gibt den Wahrheitswert selbst zurück. Man kann sich den Wert also nicht nur ausgeben lassen, sondern man kann damit auch weiterarbeiten und den Wert zum Beispiel einer Variable zuweisen oder die Funktion zur Formulierung einer bedingten Anweisung verwenden. In den meisten Fällen würden wir deswegen die erste Funktionsdefinition bevorzugen. Aber für den seltenen Fall, dass ihr eine Funktion definiert, die nur etwas ausgeben und nichts zurückgeben soll, solltet ihr wissen, dass solche Funktionen immer None zurückgeben, und dass es besser ist, dies explizit mit `return None` anzugeben.\n",
    "\n",
    "Der PEP8-Styleguide empfiehlt beim Umgang mit Rückgabewerten:\n",
    "\n",
    "> \"Be consistent in return statements. Either all return statements in a function should return an expression, or none of them should. If any return statement returns an expression, any return statements where no value is returned should explicitly state this as return None, and an explicit return statement should be present at the end of the function [...]\"\n",
    "\n",
    "Quelle: [PEP8 Styleguide](https://peps.python.org/pep-0008/) 2016.\n",
    "\n",
    "Eine Bemerkung zum Schluss: Es wäre keine gute Idee, unsere `is_even()` Funktion so umzuschreiben, dass sie erst das Ergebnis der Operation `i%2 == 0` mit `print(i%2 == 0)` ausgibt und danach den Wert mit `return i%2 == 0`zusätzlich zurückgibt: **Funktionen sollten immer nur genau eine Aufgabe erfüllen!**\n",
    "\n",
    "```{note}\n",
    "In der Informatik unterscheidet man – etwas strenger als wir in dieser kurzen Einführung – zwischen **Funktionen**, die ein Ergebnis liefern und einen Wert zurückgeben, und **Prozeduren**, die lediglich Anweisungen ausführen und keinen Wert (oder nur None) zurückgeben. In anderen Programmiersprachen wie z.B. Pascal muss zur Definition von Prozeduren sogar ein anderes Schlüsselwort verwendet werden, nämlich `procedure` statt `function`.\n",
    "```\n",
    "\n",
    "`````{admonition} Verständnisfrage\n",
    ":class: tip\n",
    "- Was sind Name, Parameter und Rückgabewert der Funktion `is_even()`?\n",
    "\n",
    "`````"
   ],
   "metadata": {
    "collapsed": false
   }
  },
  {
   "cell_type": "markdown",
   "source": [
    "### Funktionen aufrufen"
   ],
   "metadata": {
    "collapsed": false
   }
  },
  {
   "cell_type": "markdown",
   "source": [
    "**Funktionsaufrufe** haben in Python die allgemeine Form:\n",
    "\n",
    "````{div} full-width\n",
    "```{image} funktionsaufruf.png\n",
    ":alt: Klasse str\n",
    ":class: bg-transparent\n",
    ":width: 75%\n",
    "```\n",
    "\n",
    "````"
   ],
   "metadata": {
    "collapsed": false
   }
  },
  {
   "cell_type": "markdown",
   "source": [
    "Achtung: Auch beim Funktionsaufruf steht zwischen dem Funktionsnamen und der runden Klammer KEIN Leerzeichen.\n",
    "\n",
    "Wenn eine Funktion aufgerufen wird, dann werden die formalen Parameter aus der Funktionsdefinition durch die Argumente (also die tatsächlichen Parameter) ersetzt. Die Verarbeitungsschritte, die im Funktionskörper für die formalen Parameter definiert sind, werden dann mit den Argumenten ausgeführt."
   ],
   "metadata": {
    "collapsed": false
   }
  },
  {
   "cell_type": "markdown",
   "source": [
    "Bisher haben wir bereits oft Funktionen aufgerufen und ihnen Argumente übergeben. Zum Beispiel:"
   ],
   "metadata": {
    "collapsed": false
   }
  },
  {
   "cell_type": "code",
   "execution_count": null,
   "outputs": [],
   "source": [
    "print(\"Hallo\")"
   ],
   "metadata": {
    "collapsed": false
   }
  },
  {
   "cell_type": "code",
   "execution_count": null,
   "outputs": [],
   "source": [
    "lst = [1,3,5,2]\n",
    "len(lst)"
   ],
   "metadata": {
    "collapsed": false
   }
  },
  {
   "cell_type": "markdown",
   "source": [
    "Wenn wir die Funktion is_even(), die wir vorhin definiert haben, aufrufen wollen, gehen wir genauso vor:"
   ],
   "metadata": {
    "collapsed": false
   }
  },
  {
   "cell_type": "code",
   "execution_count": null,
   "outputs": [],
   "source": [
    "is_even(5)"
   ],
   "metadata": {
    "collapsed": false
   }
  },
  {
   "cell_type": "markdown",
   "source": [
    "Manche Funktionen nehmen mehrere Argumente an, die in diesem Fall durch Kommata getrennt aufgelistet werden:"
   ],
   "metadata": {
    "collapsed": false
   }
  },
  {
   "cell_type": "code",
   "execution_count": null,
   "outputs": [],
   "source": [
    "print(\"Hallo\", 4)"
   ],
   "metadata": {
    "collapsed": false,
    "is_executing": true
   }
  },
  {
   "cell_type": "markdown",
   "source": [
    "### Funktionen verstehen\n",
    "\n",
    "In Jupyterlab könnt ihr euch direkt den Docstring zu einer bestimmten Funktion anzeigen lassen. So könnt ihr Informationen, welche Argumente der Funktion beim Funktionsaufruf übergeben werden können, und welchen Wert die Funktion nach dem Ausführen der Anweisungen im Funktionsköroer zurückgibt, abrufen, ohne dafür die Funktion zu googeln.\n",
    "\n",
    "Dazu bewegt ihr den Cursor auf eine Funktion und gebt dann die Tastenkombination Cmd + I bzw. Ctrl + I ein, oder ihr klickt auf Help -> Contextual Help in der Menüleiste oben."
   ],
   "metadata": {
    "collapsed": false
   }
  },
  {
   "cell_type": "markdown",
   "source": [
    "### Wozu werden Funktionen verwendet?\n",
    "\n",
    "Allgemein werden Funktionen verwendet…\n",
    "\n",
    "- …um bestimmte Verarbeitungsschritte zu wiederholen, ohne Code ständig kopieren zu müssen.\n",
    "- …um den Code weniger fehleranfällig zu machen: Wenn man den Code kopiert, kopiert man auch mögliche Fehler"
   ],
   "metadata": {
    "collapsed": false
   }
  },
  {
   "cell_type": "markdown",
   "source": [
    "Ein Beispiel, wenn es nützlich ist, eine Funktion zu definieren, wäre zum Beispiel die folgende Situation:\n",
    "\n",
    "Wir wollen die Lieder eine:r Künstler:in analyieren. Hierzu haben wir uns die folgende for-Schleife ausgedacht (eigentlich hat sich allerdings [Eric Grimson](https://ocw.mit.edu/courses/6-0001-introduction-to-computer-science-and-programming-in-python-fall-2016/resources/mit6_0001f16_lec6/) vom Massachusetts Institute of Technology diese Schleife ausgedacht) :"
   ],
   "metadata": {
    "collapsed": false
   }
  },
  {
   "cell_type": "code",
   "execution_count": null,
   "outputs": [],
   "source": [
    "lyrics = \"My mind won't let me rest Voice in my head I hear what it said I can't trust a thing If I picked up and left How fast did you forget? Resting while I'm inside your presence I don't want to think nothing bad This time I won't This time I won't\"\n",
    "lyrics_lst = lyrics.split()\n",
    "lyrics_dct = {}\n",
    "\n",
    "for word in lyrics_lst:\n",
    "    if word in lyrics_dct:\n",
    "        lyrics_dct[word] += 1\n",
    "    else:\n",
    "        lyrics_dct[word] = 1\n",
    "\n",
    "print(lyrics_dct)"
   ],
   "metadata": {
    "collapsed": false
   }
  },
  {
   "cell_type": "markdown",
   "source": [
    "Um die Arbeitsschritte mit mehreren Liedern auszuführen, sähe unser Code so aus:"
   ],
   "metadata": {
    "collapsed": false
   }
  },
  {
   "cell_type": "code",
   "execution_count": null,
   "outputs": [],
   "source": [
    "lyrics_gc = \"My mind won't let me rest Voice in my head I hear what it said I can't trust a thing If I picked up and left How fast did you forget? Resting while I'm inside your presence I don't want to think nothing bad This time I won't This time I won't\"\n",
    "lyrics_gc_lst = lyrics_gc.split()\n",
    "lyrics_gc_dct = {}\n",
    "\n",
    "for word in lyrics_gc_lst:\n",
    "    if word in lyrics_gc_dct:\n",
    "        lyrics_gc_dct[word] += 1\n",
    "    else:\n",
    "        lyrics_gc_dct[word] = 1\n",
    "\n",
    "print(lyrics_gc_dct)\n",
    "\n",
    "lyrics_dd = \"I'm dreamin', ay Truth be told I got the hardest ahead, yeah But I said I never let it get to my head I be in space, in a daze, while you tellin me things I see your face but I never really heard you say it Red light, green light, either I'ma go New place, corner store Ain't that close anymore Yeah let me get the greens, I'll be home by four If you wanna pour up, then I need me a four\"\n",
    "lyrics_dd_lst = lyrics_dd.split()\n",
    "lyrics_dd_dct = {}\n",
    "\n",
    "for word in lyrics_dd_lst:\n",
    "    if word in lyrics_dd_dct:\n",
    "        lyrics_dd_dct[word] += 1\n",
    "    else:\n",
    "        lyrics_dd_dct[word] = 1\n",
    "\n",
    "print(lyrics_dd_dct)"
   ],
   "metadata": {
    "collapsed": false
   }
  },
  {
   "cell_type": "markdown",
   "source": [
    "In der Lösung oben haben wir die for-Schleife einfach kopiert und manuell die Variable lyrics_gc_lst durch die Variable lyrics_dd_lst ersetzt. Das geht bei zwei verschiedenen Liedtexten zwar noch, aber was, wenn wir drei, fünf oder zehn verschiedene Liedtexte haben? Dann produzieren wir extrem viel unnötigen und unübersichtlichen Code, der vielleicht auch noch drei, fünf oder zehnmal denselben Fehler enthält. Eine bessere Lösung ist deswegen hier die Verwendung einer Funktion: die for-Schleife kann damit für alle Liedtexte, die in Python als einfache Zeichenkette repräsentiert werden, verallgemeinert werden:\n"
   ],
   "metadata": {
    "collapsed": false
   }
  },
  {
   "cell_type": "code",
   "execution_count": null,
   "outputs": [],
   "source": [
    "def lyrics_to_frequencies(lyrics):\n",
    "    \"\"\"\n",
    "    Input: lyrics, a string\n",
    "    Return a dictionary with each word in the input string as key and the number of occurrences of the word as value.\n",
    "    \"\"\"\n",
    "    lyrics_lst = lyrics.split()\n",
    "    lyrics_dct = {}\n",
    "\n",
    "    for word in lyrics_lst:\n",
    "        if word in lyrics_dct:\n",
    "            lyrics_dct[word] += 1\n",
    "        else:\n",
    "            lyrics_dct[word] = 1\n",
    "    return lyrics_dct"
   ],
   "metadata": {
    "collapsed": false
   }
  },
  {
   "cell_type": "markdown",
   "source": [
    "Die Funktion kann dann mit wechselndem Input aufgerufen werden:"
   ],
   "metadata": {
    "collapsed": false
   }
  },
  {
   "cell_type": "code",
   "execution_count": null,
   "outputs": [],
   "source": [
    "lyrics_gc = \"My mind won't let me rest Voice in my head I hear what it said I can't trust a thing If I picked up and left How fast did you forget? Resting while I'm inside your presence I don't want to think nothing bad This time I won't This time I won't\"\n",
    "lyrics_dd = \"I'm dreamin', ay Truth be told I got the hardest ahead, yeah But I said I never let it get to my head I be in space, in a daze, while you tellin me things I see your face but I never really heard you say it Red light, green light, either I'ma go New place, corner store Ain't that close anymore Yeah let me get the greens, I'll be home by four If you wanna pour up, then I need me a four\"\n",
    "\n",
    "lyrics_gc_freq = lyrics_to_frequencies(lyrics_gc)\n",
    "lyrics_dd_freq = lyrics_to_frequencies(lyrics_dd)\n",
    "print(lyrics_gc_freq)\n",
    "print(lyrics_dd_freq)"
   ],
   "metadata": {
    "collapsed": false
   }
  },
  {
   "cell_type": "markdown",
   "source": [
    "### Verschachtelte Schleifen durch Funktionen vereinfachen"
   ],
   "metadata": {
    "collapsed": false
   }
  },
  {
   "cell_type": "markdown",
   "source": [
    "Ein weiterer Fall, wenn es Sinn macht, eine Funktion zu definieren, ist, wenn ein Code ineinandergeschachtelte Schleifen enthält.\n",
    "Wenn Schleifen ineinander verschachtelt sind, kann die äußere Schleife nicht unkompliziert abgebrochen werden, sobald die innere Schleife abgebrochen wird.\n",
    "\n",
    "Das Problem kann auch ohne Funktion gelöst werden: zum Beispiel, indem eine \"Break-Out\" Variable verwendet wird, um die äußere Schleife abzubrechen:"
   ],
   "metadata": {
    "collapsed": false
   }
  },
  {
   "cell_type": "code",
   "execution_count": null,
   "outputs": [],
   "source": [
    "# Mit Break-Out Variable\n",
    "einkaufsliste = [\"Tomaten\", \"Kartoffeln\", \"Äpfel\", \"Orangen\"]\n",
    "kilopreise = {\"Tomaten\": 3.99, \"Kartoffeln\": 2.99, \"Möhren\": 0.99, \"Äpfel\": 2.49, \"Orangen\": 2.99, \"Birnen\": 2.19}\n",
    "einkaufsmenge = {\"Tomaten\": 0, \"Kartoffeln\": 0, \"Äpfel\": 0, \"Orangen\": 0}\n",
    "gesamtpreis = 0\n",
    "grenze = 20\n",
    "grenze_erreicht = False # Break-Out Variable\n",
    "\n",
    "while True: # unendliche Schleife\n",
    "    for artikel in einkaufsliste:\n",
    "        preis_aktuell = gesamtpreis + kilopreise[artikel]\n",
    "        if preis_aktuell <= grenze:\n",
    "            einkaufsmenge[artikel] += 1\n",
    "            gesamtpreis = preis_aktuell\n",
    "        else:\n",
    "            grenze_erreicht = True\n",
    "            break\n",
    "    if grenze_erreicht:\n",
    "        break\n",
    "\n",
    "print(einkaufsmenge)\n",
    "print(gesamtpreis)\n"
   ],
   "metadata": {
    "collapsed": false
   }
  },
  {
   "cell_type": "markdown",
   "source": [
    "Beachtet, dass dieser Beispielschcode fehleranfällig und nicht besonders flexibel ist: Die Laufvariable artikel wird verwendet, um drei verschiedene Objekte zu durchlaufen, nämlich einkaufsliste, kilopreise und einkaufsmenge. Das funktioniert nur deswegen, weil alle drei Objekte dieselben Strings als Elemente enthalten. Jedes Mal wurden die Strings manuell eingegeben. Wenn dabei ein Tippfehler passiert, produziert die Schleife nicht mehr den gewünschten Output.\n",
    "\n",
    "Eine andere Möglichkeit ist die Verwendung der sogenannten \"For-Else Syntax\", welche genau für solche Fälle erfunden wurde: Diese Syntax gibt vor, dass der Anweisungsblock unter `Else` nur dann ausgeführt wird, wenn die innere for-Schleife ohne ein `break`-Statement terminiert ist."
   ],
   "metadata": {
    "collapsed": false
   }
  },
  {
   "cell_type": "code",
   "execution_count": null,
   "outputs": [],
   "source": [
    "# Mit For-Else Syntax\n",
    "einkaufsliste = [\"Tomaten\", \"Kartoffeln\", \"Äpfel\", \"Orangen\"]\n",
    "kilopreise = {\"Tomaten\": 3.99, \"Kartoffeln\": 2.99, \"Möhren\": 0.99, \"Äpfel\": 2.49, \"Orangen\": 2.99, \"Birnen\": 2.19}\n",
    "einkaufsmenge = {\"Tomaten\": 0, \"Kartoffeln\": 0, \"Äpfel\": 0, \"Orangen\": 0}\n",
    "gesamtpreis = 0\n",
    "grenze = 20\n",
    "\n",
    "\n",
    "while True:\n",
    "    for artikel in einkaufsliste:\n",
    "        preis_aktuell = gesamtpreis + kilopreise[artikel]\n",
    "        if preis_aktuell <= grenze:\n",
    "            einkaufsmenge[artikel] += 1\n",
    "            gesamtpreis = preis_aktuell\n",
    "        else:\n",
    "            break\n",
    "    else: # wird nur ausgeführt, wenn die for-Schleife ohne `break` terminiert ist\n",
    "        continue\n",
    "    break\n",
    "\n",
    "print(einkaufsmenge)\n",
    "print(gesamtpreis)"
   ],
   "metadata": {
    "collapsed": false
   }
  },
  {
   "cell_type": "markdown",
   "source": [
    "Die Lösungen mit Break-Out Variable und For-Else-Syntax funktionieren zwar, aber sie erfordern zusätzlichen Code und sind etwas unübersichtlich. Eine Lösung, die übersichtlicher ist und keine zusätzlichen Code-Zeilen und Variablen erfordert, sind Funktionen:"
   ],
   "metadata": {
    "collapsed": false
   }
  },
  {
   "cell_type": "code",
   "execution_count": null,
   "outputs": [],
   "source": [
    "# Als Funktion\n",
    "\n",
    "def einkauf_planen(einkaufsliste, kilopreise, grenze):\n",
    "    \"\"\"\n",
    "    Berechnet, wie viele Kilogramm von einem Artikel auf der Einkaufsliste in Abhängigkeit vom aktuellen Kilopreise der Artikel und einem vorgegebenen maximalen Einkaufspreis gekauft werden können, und wieviel der Einkauf kostet.\n",
    "\n",
    "    Parameter:\n",
    "        einkaufsliste, eine Liste mit Elementen vom Typ String, die Einkaufsartikel repräsentieren\n",
    "        kilopreise, ein Dictionary mit den Elementen aus der Einkaufsliste als Schlüssel und dem aktuellen Kilopreise der Artikel als Werte\n",
    "        grenze, ein Integer, der Maximalpreis für den Einkauf in Euro\n",
    "\n",
    "    Gibt ein Tupel mit einem Dictionary einkaufsmenge und einem Float gesamtpreis als Elemente zurück.\n",
    "    \"\"\"\n",
    "    einkaufsmenge = dict(zip(einkaufsliste, [0]*len(einkaufsliste))) # Elemente der Einkaufsliste als Schlüssel\n",
    "    gesamtpreis = 0\n",
    "    while True:\n",
    "        for artikel in einkaufsliste:\n",
    "            preis_aktuell = gesamtpreis + kilopreise[artikel]\n",
    "            if preis_aktuell <= grenze:\n",
    "                einkaufsmenge[artikel] += 1\n",
    "                gesamtpreis = preis_aktuell\n",
    "            else:\n",
    "                return (einkaufsmenge, gesamtpreis) # Rückgabewert ist ein Tupel!\n",
    "\n",
    "einkaufsliste = [\"Tomaten\", \"Kartoffeln\", \"Äpfel\", \"Orangen\"]\n",
    "kilopreise = {\"Tomaten\": 3.99, \"Kartoffeln\": 2.99, \"Möhren\": 0.99, \"Äpfel\": 2.49, \"Orangen\": 2.99, \"Birnen\": 2.19}\n",
    "grenze = 20\n",
    "\n",
    "einkauf = einkauf_planen(einkaufsliste, kilopreise, grenze)\n",
    "print(einkauf)\n"
   ],
   "metadata": {
    "collapsed": false
   }
  },
  {
   "cell_type": "markdown",
   "source": [
    "Eine Änderung, die durch die Funktionsdefinition notwendig geworden ist, ist, dass die Schlüssel des Dictionaries einkaufsmenge aus den Elementen der Einkaufsliste generiert wurden. Das ist hier notwendig, weil die Funktion sonst nur für exakt dieselbe Einkaufsliste verwendet werden könnte (nämlich eine Einkaufsliste mit den Elementen \"Tomaten\", \"Kartoffeln\", \"Äpfel\" und \"Orangen\". Diese Änderung macht unsere Schleife zugleich deutlich flexibler, denn jetzt müssen nicht dreimal dieselben Strings  eingegeben werden, sondern nur zweimal.\n",
    "\n",
    "Beachtet auch, dass die Funktion hier ein Tupel zurückgibt, das aus den beiden Objekten einkaufsmenge und gesamtpreis zusammengesetzt ist. Auf die einzelnen Elemente kann man ganz regulär mit dem Zugriffsoperator [] für sequentielle Datentypen  zugreifen:"
   ],
   "metadata": {
    "collapsed": false
   }
  },
  {
   "cell_type": "code",
   "execution_count": null,
   "outputs": [],
   "source": [
    "einkaufsmenge = einkauf[0]\n",
    "print(einkaufsmenge)\n",
    "gesamtpreis = einkauf[1]\n",
    "print(gesamtpreis)"
   ],
   "metadata": {
    "collapsed": false
   }
  },
  {
   "cell_type": "markdown",
   "source": [
    "```{note}\n",
    "Tupel können also verwendet werden, wenn eine Funktion mehrere Werte zurückgeben soll.\n",
    "```"
   ],
   "metadata": {
    "collapsed": false
   }
  },
  {
   "cell_type": "markdown",
   "source": [
    "Wir haben mit der Funktionsdefinition also unseren Code bereits in zwei Aspekten verbessert: Es ist weniger Code notwendig, um auch die äußere Schleife abzubrechen, und wir haben die Variable einkaufsmenge in Abhängigkeit von der Variable einkaufsliste definiert, sodass Änderungen an der Variable einkaufsliste auch direkt auf die Variable einkaufsmenge übertragen werden, ohne, dass wir den Code kopieren müssen.\n",
    "\n",
    "`````{admonition} Verständnisfragen\n",
    ":class: tip\n",
    "Wie könnte man die Definition der Funktion noch weiter verbessern? Betrachtet dazu verschiedene mögliche Situationen:\n",
    "\n",
    "- Was wird zurückgegeben, wenn `einkaufsliste` eine leere Liste ist?\n",
    "- Was passiert, wenn der Wert der Variable grenze kein Integer, sondern ein Float ist (zum Beispiel bei 10.5)?\n",
    "- Was passiert beim Ausführen der Zugriffsoperation `kilopreise[artikel]`, wenn der entsprechende Artikel nicht im Dictionary `kilopreise` enthalten ist?\n",
    "- Die Schleife terminiert, sobald durch Hinzufügen des aktuellen Artikel in der Einkaufsliste die Grenze überschritten wird. Wie könnte der Code so umgeschrieben werden, dass zunächst überprüft wird, ob es irgendeinen Artikel in der Einkaufsliste gibt, der hinzugefügt werden könnte, ohne, dass die Grenze überschritten wird?\n",
    "- Könnte man das Objekt `einkaufsmenge` auch anders erstellen, zum Beispiel durch Verwenden der Dictionary-Methode `.setdefault()`?\n",
    "\n",
    "`````"
   ],
   "metadata": {
    "collapsed": false
   }
  },
  {
   "cell_type": "markdown",
   "source": [
    "### Sichtbarkeitsbereich von Variablen (Variable Scope)\n",
    "\n",
    "Wenn wir Variablen erstellt haben, sind wir immer davon ausgegangen, dass diese im gesammten Programm mithilfe des Namens abrufbar sind. Wenn wir selbst eine Funktion definieren, und dabei eine Variable vorkommt, dann ist die im restlichen Programm jedoch im Normalfall nicht abrufbar, sie \"existiert\" sozusagen nur in der Funktion und ist im restlichen Programm nicht sichtbar. Die Sichtbarkeit von Variablen im eigenen Code lässt sich leicht mithilfe von [pythontutor.com](https://pythontutor.com/python-debugger.html#mode=edit) nachvollziehen.\n",
    "\n",
    "Kopiert als Beispiel den Code der Funktion einkauf_planen() in PythonTutor und führt ihn dort aus.\n",
    "\n",
    "**Es ist bei der Definition von Funktionen wichtig zu beachten, dass innerhalb der Funktionsdefinition keine Variablen aus dem Bereich außerhalb der Funktion verwendet werden sollten.** Beispielsweise dürfte nicht einfach der Parameter grenze aus der Funktionsdefinition entfernt werden, denn sonst wird beim Aufruf der Funktion eine gleichnamige Variable aus dem Bereich außerhalb der Funktion eingesetzt. Dadurch hat die Funktion ein für Nachnutzer:innen unvorhersehbares Verhalten! **Alle Objekte, welche zum Ausführen der Funktion benötigt werden, sollten deswegen entweder innerhalb der Funktion erstellt werden oder beim Aufruf als Argumente übergeben werden.**"
   ],
   "metadata": {
    "collapsed": false
   }
  },
  {
   "cell_type": "markdown",
   "source": [
    "### Argumente und Parameter\n",
    "\n",
    "Bisher haben wir beim Funktionsaufruf Argumente nach der Reihenfolge der entsprechenden Parameter in der Funktionsdefinition übergeben:"
   ],
   "metadata": {
    "collapsed": false
   }
  },
  {
   "cell_type": "code",
   "execution_count": null,
   "outputs": [],
   "source": [
    "einkaufsliste = [\"Tomaten\", \"Kartoffeln\", \"Äpfel\", \"Orangen\"]\n",
    "kilopreise = {\"Tomaten\": 3.99, \"Kartoffeln\": 2.99, \"Möhren\": 0.99, \"Äpfel\": 2.49, \"Orangen\": 2.99, \"Birnen\": 2.19}\n",
    "grenze = 20\n",
    "\n",
    "einkauf_planen(einkaufsliste, kilopreise, grenze)"
   ],
   "metadata": {
    "collapsed": false
   }
  },
  {
   "cell_type": "markdown",
   "source": [
    "Beachtet, dass dabei der Name der Argumente keine Rolle spielt: Wir haben die Einkaufsliste `einkaufsliste` und das Dictionary mit den Kilopreisen `kilopreise` genannt, genau wie die Funktionsparameter, aber bei der Zuordnung der Argumente zu den Parametern ist diese Benennung nicht entscheidend, sondern einzig die Position der Argumente beim Funktionsaufruf. Das wird deutlich, wenn wir die Argumente umbenennen:"
   ],
   "metadata": {
    "collapsed": false
   }
  },
  {
   "cell_type": "code",
   "execution_count": null,
   "outputs": [],
   "source": [
    "meine_einkaufsliste = [\"Tomaten\", \"Kartoffeln\", \"Äpfel\", \"Orangen\"]\n",
    "aktuelle_kilopreise = {\"Tomaten\": 3.99, \"Kartoffeln\": 2.99, \"Möhren\": 0.99, \"Äpfel\": 2.49, \"Orangen\": 2.99, \"Birnen\": 2.19}\n",
    "obergrenze = 20\n",
    "\n",
    "einkauf_planen(meine_einkaufsliste, aktuelle_kilopreise, obergrenze)"
   ],
   "metadata": {
    "collapsed": false
   }
  },
  {
   "cell_type": "markdown",
   "source": [
    "Um deutlich zu machen, welche Argumente welchen Parametern zugeordnet werden sollen, oder um Argumente in einer anderen Reihenfolge zu übergeben, kann der Name des Parameters beim Funktionsaufruf mit angegeben werden:"
   ],
   "metadata": {
    "collapsed": false
   }
  },
  {
   "cell_type": "code",
   "execution_count": null,
   "outputs": [],
   "source": [
    "einkauf_planen(kilopreise=aktuelle_kilopreise, einkaufsliste=meine_einkaufsliste, grenze=obergrenze)"
   ],
   "metadata": {
    "collapsed": false
   }
  },
  {
   "cell_type": "markdown",
   "source": [
    "Die erste Art der Funktionsargumente nennt sich *positional arguments* (positionale Argumente), die zweite Art *keyword arguments* (Schlüsselwortargumente).\n",
    "Daneben gibt es noch *Defaultargumente*, also Argumente, für die bereits bei der Funktionsdefinition ein Default-Wert festgelegt wird. Wenn der Default-Wert beibehalten werden soll (im Beispiel unten grenze=20), muss beim Funktionsaufruf für diesen Parameter kein Argument angegeben werden:"
   ],
   "metadata": {
    "collapsed": false
   }
  },
  {
   "cell_type": "code",
   "execution_count": null,
   "outputs": [],
   "source": [
    "def einkauf_planen(einkaufsliste, kilopreise, grenze=20):\n",
    "\n",
    "    einkaufsmenge = dict(zip(einkaufsliste, [0]*len(einkaufsliste))) # Elemente der Einkaufsliste als Schlüssel\n",
    "    gesamtpreis = 0\n",
    "    while True:\n",
    "        for artikel in einkaufsliste:\n",
    "            preis_aktuell = gesamtpreis + kilopreise[artikel]\n",
    "            if preis_aktuell <= grenze:\n",
    "                einkaufsmenge[artikel] += 1\n",
    "                gesamtpreis = preis_aktuell\n",
    "            else:\n",
    "                return (einkaufsmenge, gesamtpreis) # Rückgabewert ist ein Tupel!\n",
    "\n",
    "einkaufsliste = [\"Tomaten\", \"Kartoffeln\", \"Äpfel\", \"Orangen\"]\n",
    "kilopreise = {\"Tomaten\": 3.99, \"Kartoffeln\": 2.99, \"Möhren\": 0.99, \"Äpfel\": 2.49, \"Orangen\": 2.99, \"Birnen\": 2.19}\n",
    "\n",
    "einkauf_planen(einkaufsliste, kilopreise)\n"
   ],
   "metadata": {
    "collapsed": false
   }
  },
  {
   "cell_type": "markdown",
   "source": [
    "Wenn ihr den Quellcode professioneller Softwareprojekte auf GitHub oder einer anderen Plattform inspiziert, stoßt ihr in Funktionsdefinitionen häufig auf eine dritte Art von Parametern, die von ein oder zwei Sternchen angeführt werden und meist idiomatisch mit `args` und `kwargs` benannt sind (anders als im folgenden Beispiel):"
   ],
   "metadata": {
    "collapsed": false
   }
  },
  {
   "cell_type": "code",
   "execution_count": null,
   "outputs": [],
   "source": [
    "def einkauf_planen(*einkaufsliste, grenze=20, **kilopreise):\n",
    "\n",
    "    einkaufsmenge = dict(zip(einkaufsliste, [0]*len(einkaufsliste))) # Elemente der Einkaufsliste als Schlüssel\n",
    "    gesamtpreis = 0\n",
    "    while True:\n",
    "        for artikel in einkaufsliste:\n",
    "            preis_aktuell = gesamtpreis + kilopreise[artikel]\n",
    "            if preis_aktuell <= grenze:\n",
    "                einkaufsmenge[artikel] += 1\n",
    "                gesamtpreis = preis_aktuell\n",
    "            else:\n",
    "                return (einkaufsmenge, gesamtpreis) # Rückgabewert ist ein Tupel!\n",
    "\n",
    "einkauf_planen(\"Tomaten\", \"Kartoffeln\",\n",
    "               Tomaten=3.99, Kartoffeln=2.99,)"
   ],
   "metadata": {
    "collapsed": false
   }
  },
  {
   "cell_type": "markdown",
   "source": [
    "Was bewirken die Sternchen? Die Argumente müssen beim Aufruf einer so definierten Funktion nicht als Liste und Dictionary übergeben werden wie in den Beispielen zuvor. Das Sternchen vor dem Parameter `einkaufsliste` bewirkt, dass die beiden Strings \"Tomaten\" und \"Kartoffeln\" beim Funktionsaufruf in ein Tupel mit dem Namen `einkaufsliste` eingesammelt werden; die zwei Sternchen vor dem Parameter `kilopreise` bewirken, dass die angegebenen Keyword-Argumente Tomaten=3.99 und Kartoffeln=2.99 in einem Dictionary mit den Schlüsseln \"Tomaten\" und \"Kartoffeln\" gesammelt werden. In diesem konkreten Beispiel ist es nicht sinnvoll, die Funktion auf diese Weise zu definieren, aber der Unterschied zwischen den verschiedenen Argumenten sollte am Beispiel gut deutlich geworden sein. Wer sich weiter einlesen möchte, dem empfehle ich das Kapitel \"Ch. 18 Arguments. Special Argument Matching Modes\" in [Martin Lutz (2025), Learning Python](https://www.oreilly.com/library/view/learning-python-6th/9781098171292/)."
   ],
   "metadata": {
    "collapsed": false
   }
  },
  {
   "cell_type": "markdown",
   "source": [
    "### Was sind Methoden?"
   ],
   "metadata": {
    "collapsed": false
   }
  },
  {
   "cell_type": "markdown",
   "source": [
    "Wir haben Methoden bisher definiert als die Operationen, die speziell für Objekte eines bestimmten Datentyps definiert sind. Jetzt können wir diese Definition schärfen: Methoden haben genau wie Funktionen einen Namen, Parameter und einen Funktionskörper, und sie geben einen Wert zurück. Aber im Unterschied zu Funktionen sind sie nur für Objekte eines bestimmten Datentyps definiert.\n",
    "\n",
    "Wir haben bereits den Punkt-Operator `.` kennengelernt, mit dem Methoden aufgerufen werden können:"
   ],
   "metadata": {
    "collapsed": false
   }
  },
  {
   "cell_type": "code",
   "execution_count": null,
   "outputs": [],
   "source": [
    "wort = \"Hallo\"\n",
    "wort.lower()"
   ],
   "metadata": {
    "collapsed": false
   }
  },
  {
   "cell_type": "markdown",
   "source": [
    "```{note}\n",
    "In diesem Kapitel wurde häufig der **Begriff \"Fehler\"** verwendet. Während sich umgangssprachlich jede:r etwas darunter vorstellen kann, gibt es für diesen wie für viele andere Begriffe in der professionellen Softwareentwicklung feststehende, wenn auch nicht immer einheitliche Definitionen, für die es zum Teil sogar internationale Normen gibt. Die ISO Norm 24765 unterscheidet beispielsweise zwischen error, fault, defect und failure ([ISO24765:2017](https://www.iso.org/obp/ui/en/#iso:std:iso-iec-ieee:24765:ed-2:v1:en)). Der Unterschied wird durch die deutschsprachige Übersetzung durch das International Software Testing Qualifications Board intuitiv deutlich: Demnach ist ein error eine Fehlhandlung einer Person, welche einen Fehlerzustand, einen Defekt in einem Programm verursachen kann (defect oder fault). Dieser Fehlerzustand kann eine Fehlerwirkung, das Versagen des Programms, herbeiführen (failure) (laut [Glossar des ISTQB](https://glossary.istqb.org/de_DE/home)). Nach dieser Definition ist das, was wir in diesem Kapitel mit Fehler meinen eigentlich der Defekt im Code, der beim Ausführen zu einem Versagen führen kann.\n",
    "```"
   ],
   "metadata": {
    "collapsed": false
   }
  },
  {
   "attachments": {},
   "cell_type": "markdown",
   "metadata": {
    "collapsed": false
   },
   "source": [
    "### Quellen\n",
    "\n",
    "```{bibliography}\n",
    "   :list: enumerated\n",
    "   :filter: keywords % \"functions\" or keywords % \"mit_04\" or keywords % \"mit_06\"\n",
    "```"
   ]
  },
  {
   "attachments": {},
   "cell_type": "markdown",
   "metadata": {
    "collapsed": false
   },
   "source": []
  }
 ],
 "metadata": {
  "kernelspec": {
   "display_name": "Python 3",
   "language": "python",
   "name": "python3"
  },
  "language_info": {
   "codemirror_mode": {
    "name": "ipython",
    "version": 3
   },
   "file_extension": ".py",
   "mimetype": "text/x-python",
   "name": "python",
   "nbconvert_exporter": "python",
   "pygments_lexer": "ipython3",
   "version": "3.8.0"
  },
  "widgets": {
   "application/vnd.jupyter.widget-state+json": {
    "state": {},
    "version_major": 2,
    "version_minor": 0
   }
  }
 },
 "nbformat": 4,
 "nbformat_minor": 4
}
