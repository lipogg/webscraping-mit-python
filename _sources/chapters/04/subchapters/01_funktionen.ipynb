{
 "cells": [
  {
   "attachments": {},
   "cell_type": "markdown",
   "metadata": {},
   "source": [
    "# Funktionen"
   ]
  },
  {
   "attachments": {},
   "cell_type": "markdown",
   "metadata": {
    "collapsed": false
   },
   "source": [
    "\n",
    "Wir haben im Laufe der vergangenen Stunden bereits einige Funktionen kennengelernt, zum Beispiel die Ausgabe-Funktion `print()`, oder die Funktionen `enumerate()` und `range()`.\n"
   ]
  },
  {
   "cell_type": "markdown",
   "source": [
    "### Was sind Funktionen?\n",
    "\n",
    "Funktionen sind wiederverwendbare Abfolgen von Anweisungen. Sie sind also Codeabschnitte, die mithilfe eines Namens wiederholt ausgeführt werden können. Das Prinzip ist also ein bisschen ähnlich wie Variablen, mit dem Unterschied, dass man mithilfe von Funktionsnamen auf Anweisungen zugreifen kann, während man mithilfe von Variablennamen auf Objekte zugreifen kann. Im Grunde sind Funktionsnamen aber auch zugleich Variablennamen, weil in R Funktionen auch Objekte sind (-> Grundbegriffe: alles in R ist ein Objekt).\n",
    "\n",
    "Jede Funktion besteht aus drei Komponenten:\n",
    "\n",
    "- Name\n",
    "- Parameter (in der Funktionsdefinition: formale Parameter)\n",
    "- Körper\n",
    "\n",
    "Funktionen werden **aufgerufen**. Beim **Funktionsaufruf** werden ihnen **Argumente** übergeben. Welche Argumente eine Funktion annehmen kann, wird in der **Funktionsdefinition** mithilfe von **formalen Parametern** festgelegt. Für Argumente sagt man deswegen auch manchmal **tatsächliche Parameter**. Funktionen **geben immer einen Wert zurück**, der heißt dann **Rückgabewert**. Der Rückgabewert kann in einer Funktionsdefinition mithilfe des **Schlüsselworts `return`** festgelegt werden."
   ],
   "metadata": {
    "collapsed": false
   }
  },
  {
   "attachments": {},
   "cell_type": "markdown",
   "metadata": {
    "collapsed": false
   },
   "source": [
    "### Funktionen definieren"
   ]
  },
  {
   "attachments": {},
   "cell_type": "markdown",
   "metadata": {
    "collapsed": false
   },
   "source": [
    "Funktionen können Nutzer:innen aber auch selbst definieren. Eine **Funktionsdefinition** hat in Python die allgemeine Form:\n",
    "\n",
    "````{div} full-width\n",
    "```{image} funktionsdefinition.png\n",
    ":alt: Klasse str\n",
    ":class: bg-transparent\n",
    ":width: 75%\n",
    "```\n",
    "\n",
    "````"
   ]
  },
  {
   "cell_type": "markdown",
   "source": [
    "Achtung: Zwischen dem Funktionsnamen und der runden Klammer steht KEIN Leerzeichen.\n",
    "\n",
    "- mache_irgendwas ist der Funktions**name**.\n",
    "- Die Funktions**parameter** heißen parameter_1 und parameter_2. Dabei handelt es sich um Variablennamen, die nur innerhalb der Funktionsdefinition verwendet werden und als Platzhalter für die Argumente dienen, die der Funktion beim Funktionsaufruf übergeben werden. Die formalen Parameter sind also ein bisschen ähnlich wie die Laufvariablen in for-Schleifen, die auch nur Platzhalter für die Elemente aus einem iterierbaren Objekt waren.\n",
    "- Genau wie bei Kontrollstrukturen ist auch bei Funktionen der Funktions**körper** alles, was in dem eingeschobenen Block nach dem Doppelpunkt steht, also ein Anweisungsblock und eine return-Anweisung. Im Anweisungsblock stehen irgendwelche Anweisungen, die irgendetwas mit den Parametern der Funktion machen, also im Grunde Verarbeitungsschritte für die Funktionsparameter. Im Laufe der Verarbeitung wird irgendeine Variable definiert, die das “Endergebnis” der Verarbeitung zwischenspeichert. Diese Variable wird dann mithilfe der return-Anweisung zurückgegeben, wenn die Funktion aufgerufen wird. Die return-Anweisung definiert also, welche Variable die Funktion als Rückgabewert beim Funktionsaufruf zurückgeben soll.\n"
   ],
   "metadata": {
    "collapsed": false
   }
  },
  {
   "cell_type": "markdown",
   "source": [
    "Zusätzlich zu diesen unbedingt notwendigen Komponenten, kann eine Funktion eine **Spezifikation** enthalten. Spezifikationen nennt man **docstrings**, und sie werden durch drei Anführungszeichen eingegrenzt. Die Funktionsspezifikation erläutert den Nutzer:innen der Funktion, was die Funktion macht, welche Argumente der Funktion beim Funktionsaufruf übergeben werden können und welcher Wert zurückgegeben wird, nachdem die Anweisungen im Funktionskörper ausgeführt worden sind.\n",
    "\n",
    "Ein Beispiel:"
   ],
   "metadata": {
    "collapsed": false
   }
  },
  {
   "cell_type": "code",
   "execution_count": null,
   "metadata": {
    "collapsed": false
   },
   "outputs": [],
   "source": [
    "def is_even(i):\n",
    "    \"\"\"\n",
    "    Input: i, a positive int\n",
    "    Returns True if i is even, otherwise False\n",
    "    \"\"\"\n",
    "    return i%2 == 0\n",
    "is_even(3)"
   ]
  },
  {
   "cell_type": "markdown",
   "source": [
    "Quelle: [Ana Bell](https://ocw.mit.edu/courses/6-0001-introduction-to-computer-science-and-programming-in-python-fall-2016/resources/mit6_0001f16_lec4/) 2016.\n",
    "\n",
    "Für Funktionsnamen gelten laut [Style Guide](https://peps.python.org/pep-0008/#function-and-variable-names) dieselbe Syntaxempfehlungen wie für Variablennamen: Funktionsnamen sollten in Kleinbuchstaben geschrieben werden und einen Unterstrich sollte verwendet werden, um mehrere Wörter voneinander abzutrennen. Allerdings sollten Variablennamen immer irgendeine Operation beschreiben, während Variablennamen in der Regel Substantive sind.\n",
    "\n",
    "Für Docstrings gibt es daneben einen eigenen Style Guide: [https://peps.python.org/pep-0257/](https://peps.python.org/pep-0257/)."
   ],
   "metadata": {
    "collapsed": false
   }
  },
  {
   "cell_type": "markdown",
   "source": [
    "### Funktionen aufrufen"
   ],
   "metadata": {
    "collapsed": false
   }
  },
  {
   "cell_type": "markdown",
   "source": [
    "**Funktionsaufrufe** haben in Python die allgemeine Form:\n",
    "\n",
    "````{div} full-width\n",
    "```{image} funktionsaufruf.png\n",
    ":alt: Klasse str\n",
    ":class: bg-transparent\n",
    ":width: 75%\n",
    "```\n",
    "\n",
    "````"
   ],
   "metadata": {
    "collapsed": false
   }
  },
  {
   "cell_type": "markdown",
   "source": [
    "Achtung: Auch beim Funktionsaufruf steht zwischen dem Funktionsnamen und der runden Klammer KEIN Leerzeichen.\n",
    "\n",
    "Wenn eine Funktion aufgerufen wird, dann werden die formalen Parameter aus der Funktionsdefinition durch die Argumente (also die tatsächlichen Parameter) ersetzt. Die Verarbeitungsschritte, die im Funktionskörper für die formalen Parameter definiert sind, werden dann mit den Argumenten ausgeführt."
   ],
   "metadata": {
    "collapsed": false
   }
  },
  {
   "cell_type": "markdown",
   "source": [
    "Bisher haben wir bereits oft Funktionen aufgerufen und ihnen Argumente übergeben. Zum Beispiel:"
   ],
   "metadata": {
    "collapsed": false
   }
  },
  {
   "cell_type": "code",
   "execution_count": null,
   "outputs": [],
   "source": [
    "print(\"Hallo\")"
   ],
   "metadata": {
    "collapsed": false
   }
  },
  {
   "cell_type": "code",
   "execution_count": null,
   "outputs": [],
   "source": [
    "lst = [1,3,5,2]\n",
    "len(lst)"
   ],
   "metadata": {
    "collapsed": false
   }
  },
  {
   "cell_type": "markdown",
   "source": [
    "Wenn wir die Funktion is_even(), die wir vorhin definiert haben, aufrufen wollen, gehen wir genauso vor:"
   ],
   "metadata": {
    "collapsed": false
   }
  },
  {
   "cell_type": "code",
   "execution_count": null,
   "outputs": [],
   "source": [
    "is_even(5)"
   ],
   "metadata": {
    "collapsed": false
   }
  },
  {
   "cell_type": "markdown",
   "source": [
    "### Funktionen verstehen\n",
    "\n",
    "In Jupyterlab könnt ihr euch direkt die Spezifikation (Docstring) zu einer bestimmten Funktion anzeigen lassen. So könnt ihr Informationen, welche Argumente der Funktion beim Funktionsaufruf übergeben werden können, und welchen Wert die Funktion nach dem Ausführen der Anweisungen im Funktionsköroer zurückgibt, abrufen, ohne dafür die Funktion zu googeln.\n",
    "\n",
    "Dazu bewegt ihr den Cursor auf eine Funktion und gebt dann die Tastenkombination Cmd + I bzw. Ctrl + I ein, oder ihr klickt auf Help -> Contextual Help in der Menüleiste oben."
   ],
   "metadata": {
    "collapsed": false
   }
  },
  {
   "cell_type": "markdown",
   "source": [
    "### Wozu werden Funktionen verwendet?\n",
    "\n",
    "Allgemein werden Funktionen verwendet…\n",
    "\n",
    "- …um bestimmte Verarbeitungsschritte zu wiederholen, ohne Code ständig kopieren zu müssen.\n",
    "- …um den Code weniger fehleranfällig zu machen: Wenn man den Code kopiert, kopiert man auch mögliche Fehler"
   ],
   "metadata": {
    "collapsed": false
   }
  },
  {
   "cell_type": "markdown",
   "source": [
    "Ein Beispiel, wenn es nützlich ist, eine Funktion zu definieren, wäre zum Beispiel die folgende Situation:\n",
    "\n",
    "Wir wollen die Lieder eine:r Künstler:in analyieren. Hierzu haben wir uns die folgende for-Schleife ausgedacht (eigentlich hat sich allerdings [Eric Grimson vom Massachusetts Institute of Technology](https://ocw.mit.edu/courses/6-0001-introduction-to-computer-science-and-programming-in-python-fall-2016/resources/mit6_0001f16_lec6/) diese Schleife ausgedacht) :"
   ],
   "metadata": {
    "collapsed": false
   }
  },
  {
   "cell_type": "code",
   "execution_count": null,
   "outputs": [],
   "source": [
    "lyrics = \"My mind won't let me rest Voice in my head I hear what it said I can't trust a thing If I picked up and left How fast did you forget? Resting while I'm inside your presence I don't want to think nothing bad This time I won't This time I won't\"\n",
    "lyrics_lst = lyrics.split()\n",
    "lyrics_dct = {}\n",
    "\n",
    "for word in lyrics_lst:\n",
    "    if word in lyrics_dct:\n",
    "        lyrics_dct[word] += 1\n",
    "    else:\n",
    "        lyrics_dct[word] = 1\n",
    "\n",
    "print(lyrics_dct)"
   ],
   "metadata": {
    "collapsed": false
   }
  },
  {
   "cell_type": "markdown",
   "source": [
    "Um die Arbeitsschritte mit mehreren Liedern auszuführen, sähe unser Code so aus:"
   ],
   "metadata": {
    "collapsed": false
   }
  },
  {
   "cell_type": "code",
   "execution_count": null,
   "outputs": [],
   "source": [
    "lyrics_gc = \"My mind won't let me rest Voice in my head I hear what it said I can't trust a thing If I picked up and left How fast did you forget? Resting while I'm inside your presence I don't want to think nothing bad This time I won't This time I won't\"\n",
    "lyrics_gc_lst = lyrics_gc.split()\n",
    "lyrics_gc_dct = {}\n",
    "\n",
    "for word in lyrics_gc_lst:\n",
    "    if word in lyrics_gc_dct:\n",
    "        lyrics_gc_dct[word] += 1\n",
    "    else:\n",
    "        lyrics_gc_dct[word] = 1\n",
    "\n",
    "print(lyrics_gc_dct)\n",
    "\n",
    "lyrics_dd = \"I'm dreamin', ay Truth be told I got the hardest ahead, yeah But I said I never let it get to my head I be in space, in a daze, while you tellin me things I see your face but I never really heard you say it Red light, green light, either I'ma go New place, corner store Ain't that close anymore Yeah let me get the greens, I'll be home by four If you wanna pour up, then I need me a four\"\n",
    "lyrics_dd_lst = lyrics_dd.split()\n",
    "lyrics_dd_dct = {}\n",
    "\n",
    "for word in lyrics_dd_lst:\n",
    "    if word in lyrics_dd_dct:\n",
    "        lyrics_dd_dct[word] += 1\n",
    "    else:\n",
    "        lyrics_dd_dct[word] = 1\n",
    "\n",
    "print(lyrics_dd_dct)"
   ],
   "metadata": {
    "collapsed": false
   }
  },
  {
   "cell_type": "markdown",
   "source": [
    "In der Lösung oben haben wir die for-Schleife einfach kopiert und manuell die Variable lyrics_gc_lst durch die Variable lyrics_dd_lst ersetzt. Das geht bei zwei verschiedenen Korpora zwar noch, aber was, wenn wir drei, fünf oder zehn verschiedene Korpora haben? Dann produzieren wir extrem viel unnötigen und unübersichtlichen Code, der vielleicht auch noch drei, fünf oder zehnmal denselben Fehler enthält. Eine bessere Lösung ist deswegen hier die Verwendung einer Funktion: die for-Schleife kann damit für alle Liedtexte, die in Python als einfache Zeichenkette repräsentiert werden, verallgemeinert werden:\n"
   ],
   "metadata": {
    "collapsed": false
   }
  },
  {
   "cell_type": "code",
   "execution_count": null,
   "outputs": [],
   "source": [
    "def lyrics_to_frequencies(lyrics):\n",
    "    \"\"\"\n",
    "    Input: lyrics, a string\n",
    "    Return a dictionary with each word in the input string as key and the number of occurrences of the word as value.\n",
    "    \"\"\"\n",
    "    lyrics_lst = lyrics.split()\n",
    "    lyrics_dct = {}\n",
    "\n",
    "    for word in lyrics_lst:\n",
    "        if word in lyrics_dct:\n",
    "            lyrics_dct[word] += 1\n",
    "        else:\n",
    "            lyrics_dct[word] = 1\n",
    "    return lyrics_dct"
   ],
   "metadata": {
    "collapsed": false
   }
  },
  {
   "cell_type": "markdown",
   "source": [
    "Die Funktion kann dann mit wechselndem Input aufgerufen werden:"
   ],
   "metadata": {
    "collapsed": false
   }
  },
  {
   "cell_type": "code",
   "execution_count": null,
   "outputs": [],
   "source": [
    "lyrics_gc = \"My mind won't let me rest Voice in my head I hear what it said I can't trust a thing If I picked up and left How fast did you forget? Resting while I'm inside your presence I don't want to think nothing bad This time I won't This time I won't\"\n",
    "lyrics_dd = \"I'm dreamin', ay Truth be told I got the hardest ahead, yeah But I said I never let it get to my head I be in space, in a daze, while you tellin me things I see your face but I never really heard you say it Red light, green light, either I'ma go New place, corner store Ain't that close anymore Yeah let me get the greens, I'll be home by four If you wanna pour up, then I need me a four\"\n",
    "\n",
    "lyrics_gc_freq = lyrics_to_frequencies(lyrics_gc)\n",
    "lyrics_dd_freq = lyrics_to_frequencies(lyrics_dd)\n",
    "print(lyrics_gc_freq)\n",
    "print(lyrics_dd_freq)"
   ],
   "metadata": {
    "collapsed": false
   }
  },
  {
   "cell_type": "markdown",
   "source": [
    "### Verschachtelte Schleifen durch Funktionen vereinfachen"
   ],
   "metadata": {
    "collapsed": false
   }
  },
  {
   "cell_type": "markdown",
   "source": [
    "Ein weiterer Fall, wenn es Sinn macht, eine Funktion zu definieren, ist, wenn ein Code ineinandergeschachtelte Schleifen enthält.\n",
    "Wenn Schleifen ineinander verschachtelt sind, kann die äußere Schleife nicht unkompliziert abgebrochen werden, sobald die innere Schleife abgebrochen wird.\n",
    "\n",
    "Das Problem kann auch ohne Funktion gelöst werden: zum Beispiel, indem eine \"Break-Out\" Variable verwendet wird, um die äußere Schleife abzubrechen:"
   ],
   "metadata": {
    "collapsed": false
   }
  },
  {
   "cell_type": "code",
   "execution_count": null,
   "outputs": [],
   "source": [
    "# Mit Break-Out Variable\n",
    "einkaufsliste = [\"Tomaten\", \"Kartoffeln\", \"Äpfel\", \"Orangen\"]\n",
    "kilopreis = {\"Tomaten\": 3.99, \"Kartoffeln\": 2.99, \"Möhren\": 0.99, \"Äpfel\": 2.49, \"Orangen\": 2.99, \"Birnen\": 2.19}\n",
    "einkaufsmenge = {\"Tomaten\": 0, \"Kartoffeln\": 0, \"Äpfel\": 0, \"Orangen\": 0}\n",
    "gesamtpreis = 0\n",
    "grenze = 20\n",
    "grenze_erreicht = False # Break-Out Variable\n",
    "\n",
    "while True: # unendliche Schleife\n",
    "    for artikel in einkaufsliste:\n",
    "        preis_aktuell = gesamtpreis + kilopreis[artikel]\n",
    "        if preis_aktuell <= grenze:\n",
    "            einkaufsmenge[artikel] += 1\n",
    "            gesamtpreis = preis_aktuell\n",
    "        else:\n",
    "            grenze_erreicht = True\n",
    "            break\n",
    "    if grenze_erreicht:\n",
    "        break\n",
    "\n",
    "print(einkaufsmenge)\n",
    "print(gesamtpreis)\n"
   ],
   "metadata": {
    "collapsed": false
   }
  },
  {
   "cell_type": "markdown",
   "source": [
    "Beachtet, dass dieser Beispielschcode fehleranfällig und nicht besonders flexibel ist: Die Laufvariable artikel wird verwendet, um drei verschiedene Objekte zu durchlaufen, nämlich einkaufsliste, kilopreis und einkaufsmenge. Das funktioniert nur deswegen, weil alle drei Objekte dieselben Strings als Elemente enthalten. Jedes Mal wurden die Strings manuell eingegeben. Wenn dabei ein Tippfehler passiert, produziert die Schleife nicht mehr den gewünschten Output.\n",
    "\n",
    "Eine andere Möglichkeit ist die Verwendung der sogenannten \"For-Else Syntax\", welche genau für solche Fälle erfunden wurde: Diese Syntax gibt vor, dass der Anweisungsblock unter `Else` nur dann ausgeführt wird, wenn die innere for-Schleife ohne ein `break`-Statement terminiert ist."
   ],
   "metadata": {
    "collapsed": false
   }
  },
  {
   "cell_type": "code",
   "execution_count": null,
   "outputs": [],
   "source": [
    "# Mit For-Else Syntax\n",
    "einkaufsliste = [\"Tomaten\", \"Kartoffeln\", \"Äpfel\", \"Orangen\"]\n",
    "kilopreis = {\"Tomaten\": 3.99, \"Kartoffeln\": 2.99, \"Möhren\": 0.99, \"Äpfel\": 2.49, \"Orangen\": 2.99, \"Birnen\": 2.19}\n",
    "einkaufsmenge = {\"Tomaten\": 0, \"Kartoffeln\": 0, \"Äpfel\": 0, \"Orangen\": 0}\n",
    "gesamtpreis = 0\n",
    "grenze = 20\n",
    "\n",
    "\n",
    "while True:\n",
    "    for artikel in einkaufsliste:\n",
    "        preis_aktuell = gesamtpreis + kilopreis[artikel]\n",
    "        if preis_aktuell <= grenze:\n",
    "            einkaufsmenge[artikel] += 1\n",
    "            gesamtpreis = preis_aktuell\n",
    "        else:\n",
    "            break\n",
    "    else: # wird nur ausgeführt, wenn die for-Schleife ohne `break` terminiert ist\n",
    "        continue\n",
    "    break\n",
    "\n",
    "print(einkaufsmenge)\n",
    "print(gesamtpreis)"
   ],
   "metadata": {
    "collapsed": false
   }
  },
  {
   "cell_type": "markdown",
   "source": [
    "Die Lösungen mit Break-Out Variable und For-Else-Syntax funktionieren zwar, aber sie erfordern zusätzlichen Code und sind etwas unübersichtlich. Eine Lösung, die übersichtlicher ist und keine zusätzlichen Code-Zeilen und Variablen erfordert, sind Funktionen:"
   ],
   "metadata": {
    "collapsed": false
   }
  },
  {
   "cell_type": "code",
   "execution_count": null,
   "outputs": [],
   "source": [
    "# Als Funktion\n",
    "einkaufsliste = [\"Tomaten\", \"Kartoffeln\", \"Äpfel\", \"Orangen\"]\n",
    "kilopreis = {\"Tomaten\": 3.99, \"Kartoffeln\": 2.99, \"Möhren\": 0.99, \"Äpfel\": 2.49, \"Orangen\": 2.99, \"Birnen\": 2.19}\n",
    "grenze = 20\n",
    "\n",
    "def einkauf_planen(einkaufsliste, kilopreis, grenze):\n",
    "    \"\"\"\n",
    "    Berechnet, wie viele Kilogramm von einem Artikel auf der Einkaufsliste in Abhängigkeit vom aktuellen Kilopreis der Artikel und einem vorgegebenen maximalen Einkaufspreis gekauft werden können, und wieviel der Einkauf kostet.\n",
    "\n",
    "    Parameter:\n",
    "        einkaufsliste, eine Liste mit Elementen vom Typ String, die Einkaufsartikel repräsentieren\n",
    "        kilopreis, ein Dictionary mit den Elementen aus der Einkaufsliste als Schlüssel und dem aktuellen Kilopreis der Artikel als Werte\n",
    "        grenze, ein Integer, der Maximalpreis für den Einkauf in Euro\n",
    "\n",
    "    Gibt ein Tupel mit einem Dictionary einkaufsmenge und einem Float gesamtpreis als Elemente zurück.\n",
    "    \"\"\"\n",
    "    einkaufsmenge = dict(zip(einkaufsliste, [0]*len(einkaufsliste))) # Elemente der Einkaufsliste als Schlüssel\n",
    "    gesamtpreis = 0\n",
    "    while True:\n",
    "        for artikel in einkaufsliste:\n",
    "            preis_aktuell = gesamtpreis + kilopreis[artikel]\n",
    "            if preis_aktuell <= grenze:\n",
    "                einkaufsmenge[artikel] += 1\n",
    "                gesamtpreis = preis_aktuell\n",
    "            else:\n",
    "                return (einkaufsmenge, gesamtpreis) # Rückgabewert ist ein Tupel!\n",
    "\n",
    "\n",
    "einkauf = einkauf_planen(einkaufsliste, kilopreis, grenze)\n",
    "print(einkauf)\n"
   ],
   "metadata": {
    "collapsed": false
   }
  },
  {
   "cell_type": "markdown",
   "source": [
    "Eine Änderung, die durch die Funktionsdefinition notwendig geworden ist, ist, dass die Schlüssel des Dictionaries einkaufsmenge aus den Elementen der Einkaufsliste generiert wurden. Das ist hier notwendig, weil die Funktion sonst nur für exakt dieselbe Einkaufsliste verwendet werden könnte (nämlich eine Einkaufsliste mit den Elementen \"Tomaten\", \"Kartoffeln\", \"Äpfel\" und \"Orangen\". Diese Änderung macht unsere Schleife zugleich deutlich flexibler, denn jetzt müssen nicht dreimal dieselben Strings  eingegeben werden, sondern nur zweimal.\n",
    "\n",
    "Beachtet auch, dass die Funktion hier ein Tupel zurückgibt, das aus den beiden Objekten einkaufsmenge und gesamtpreis zusammengesetzt ist. Auf die einzelnen Elemente kann man ganz regulär mit dem Zugriffsoperator [] für sequentielle Datentypen  zugreifen:"
   ],
   "metadata": {
    "collapsed": false
   }
  },
  {
   "cell_type": "code",
   "execution_count": null,
   "outputs": [],
   "source": [
    "einkaufsmenge = einkauf[0]\n",
    "print(einkaufsmenge)\n",
    "gesamtpreis = einkauf[1]\n",
    "print(gesamtpreis)"
   ],
   "metadata": {
    "collapsed": false
   }
  },
  {
   "cell_type": "markdown",
   "source": [
    "```{note}\n",
    "Tupel können also verwendet werden, wenn eine Funktion mehrere Werte zurückgeben soll.\n",
    "```"
   ],
   "metadata": {
    "collapsed": false
   }
  },
  {
   "cell_type": "markdown",
   "source": [
    "Wir haben mit der Funktionsdefinition also unseren Code bereits in zwei Aspekten verbessert: Es ist weniger Code notwendig, um auch die äußere Schleife abzubrechen, und wir haben die Variable einkaufsmenge in Abhängigkeit von der Variable einkaufsliste definiert, sodass Änderungen an der Variable einkaufsliste auch direkt auf die Variable einkaufsmenge übertragen werden, ohne, dass wir den Code kopieren müssen. Wie könnte man den Code noch weiter verbessern? Überlegt selbst."
   ],
   "metadata": {
    "collapsed": false
   }
  },
  {
   "cell_type": "markdown",
   "source": [
    "### Sichtbarkeitsbereich von Variablen (Variable Scope)\n",
    "\n",
    "Wenn wir Variablen erstellt haben, sind wir immer davon ausgegangen, dass diese im gesammten Programm mithilfe des Namens abrufbar sind. Wenn wir selbst eine Funktion definieren, und dabei eine Variable vorkommt, dann ist die im restlichen Programm jedoch im Normalfall nicht abrufbar, sie \"existiert\" sozusagen nur in der Funktion und ist im restlichen Programm nicht sichtbar. Die Sichtbarkeit von Variablen im eigenen Code lässt sich leicht mithilfe von [pythontutor.com](https://pythontutor.com/python-debugger.html#mode=edit) nachvollziehen.\n",
    "\n",
    "Kopiert als Beispiel den Code der Funktion einkauf_planen in PythonTutor und führt ihn dort aus."
   ],
   "metadata": {
    "collapsed": false
   }
  },
  {
   "cell_type": "markdown",
   "source": [
    "### Was sind Methoden?"
   ],
   "metadata": {
    "collapsed": false
   }
  },
  {
   "cell_type": "markdown",
   "source": [
    "Wir haben Methoden bisher definiert als die Operationen, die speziell für Objekte eines bestimmten Datentyps definiert sind. Jetzt können wir diese Definition schärfen: Methoden haben genau wie Funktionen einen Namen, Parameter und einen Funktionskörper, und sie geben einen Wert zurück. Aber im Unterschied zu Funktionen sind sie nur für Objekte eines bestimmten Datentyps definiert.\n",
    "\n",
    "Wir haben bereits den Punkt-Operator `.` kennengelernt, mit dem Methoden aufgerufen werden können:"
   ],
   "metadata": {
    "collapsed": false
   }
  },
  {
   "cell_type": "code",
   "execution_count": null,
   "outputs": [],
   "source": [
    "wort = \"Hallo\"\n",
    "wort.lower()"
   ],
   "metadata": {
    "collapsed": false
   }
  },
  {
   "attachments": {},
   "cell_type": "markdown",
   "metadata": {
    "collapsed": false
   },
   "source": [
    "### Quellen\n",
    "\n",
    "```{bibliography}\n",
    "   :list: enumerated\n",
    "   :filter: keywords % \"functions\" or keywords % \"mit_04\" or keywords % \"mit_06\"\n",
    "```"
   ]
  },
  {
   "attachments": {},
   "cell_type": "markdown",
   "metadata": {
    "collapsed": false
   },
   "source": []
  }
 ],
 "metadata": {
  "kernelspec": {
   "display_name": "Python 3",
   "language": "python",
   "name": "python3"
  },
  "language_info": {
   "codemirror_mode": {
    "name": "ipython",
    "version": 3
   },
   "file_extension": ".py",
   "mimetype": "text/x-python",
   "name": "python",
   "nbconvert_exporter": "python",
   "pygments_lexer": "ipython3",
   "version": "3.8.0"
  },
  "widgets": {
   "application/vnd.jupyter.widget-state+json": {
    "state": {},
    "version_major": 2,
    "version_minor": 0
   }
  }
 },
 "nbformat": 4,
 "nbformat_minor": 4
}
