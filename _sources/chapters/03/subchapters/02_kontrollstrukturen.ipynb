{
 "cells": [
  {
   "attachments": {},
   "cell_type": "markdown",
   "metadata": {},
   "source": [
    "# Kontrollstrukturen"
   ]
  },
  {
   "attachments": {},
   "cell_type": "markdown",
   "metadata": {
    "collapsed": false
   },
   "source": [
    "In unserem Kafka-Beispiel aus der zweiten Stunde haben wir bereits mit zwei Arten von Kontrollstrukturen zu tun gehabt: mit Fallunterscheidungen (Link öffnen, wenn das Publikationsjahr 1919 ist) und mit Schleifen (dasselbe mit jedem Eintrag in der Publikationsliste machen). Im Folgenden lernen wir die wichtigsten  Kontrollstrukturen in Python kennen."
   ]
  },
  {
   "attachments": {},
   "cell_type": "markdown",
   "metadata": {
    "collapsed": false
   },
   "source": [
    "### Fallunterscheidungen"
   ]
  },
  {
   "attachments": {},
   "cell_type": "markdown",
   "metadata": {
    "collapsed": false
   },
   "source": [
    "#### Bedingte Anweisung\n",
    "Bedingte Anweisungen, oder if-Anweisungen, haben die allgemeine Form:\n",
    "\n",
    "````{div} full-width\n",
    "```{image} Bedingte_Anweisung.png\n",
    ":alt: Klasse str\n",
    ":class: bg-transparent\n",
    ":width: 35%\n",
    "```\n",
    "```{image} verschachtelte_Anweisung.png\n",
    ":alt: Klasse str\n",
    ":class: bg-transparent\n",
    ":width: 35%\n",
    "```\n",
    "\n",
    "````\n",
    "Beispiele:"
   ]
  },
  {
   "cell_type": "code",
   "execution_count": null,
   "metadata": {
    "collapsed": false
   },
   "outputs": [],
   "source": [
    "# Nachricht wird ausgegeben, wenn die Liste autos ein Element mit dem Wert \"Mercedes\" enthält\n",
    "\n",
    "autos = [\"Mercedes\", \"Fiat\", \"Volvo\", \"BMW\"]\n",
    "if \"Mercedes\" in autos:\n",
    "    print(\"Ein Mercedes steht in der Garage!\")"
   ]
  },
  {
   "cell_type": "code",
   "execution_count": null,
   "outputs": [],
   "source": [
    "# Nachricht wird ausgegeben, wenn der Wert, der dem Schlüssel \"Mercedes\" im Dictionary autos zugeordnet ist, größer als 1 ist\n",
    "\n",
    "autos = {\"Mercedes\": 2, \"Fiat\": 1, \"Volvo\": 1, \"BMW\": 3}\n",
    "anzahl_mercedes = autos[\"Mercedes\"]\n",
    "if anzahl_mercedes > 1:\n",
    "    print(\"Du hast \" + str(anzahl_mercedes) + \" Mercedes!\")"
   ],
   "metadata": {
    "collapsed": false
   }
  },
  {
   "cell_type": "markdown",
   "source": [
    "`````{admonition} Verständnisfrage\n",
    ":class: tip\n",
    "- Was passiert, wenn `autos` den Schlüssel \"Mercedes\" nicht enthält?\n",
    "\n",
    "`````"
   ],
   "metadata": {
    "collapsed": false
   }
  },
  {
   "cell_type": "code",
   "execution_count": null,
   "metadata": {
    "collapsed": false
   },
   "outputs": [],
   "source": [
    "# Wenn das Dictionary autos einen Schlüssel \"Mercedes\" enthält, wird überprüft, ob der Wert, der diesem Schlüssel zugeordnet ist, größer als 1 ist.\n",
    "# Falls ja, wird eine Nachricht ausgegeben.\n",
    "\n",
    "autos = {\"Mercedes\": 2, \"Fiat\": 1, \"Volvo\": 1, \"BMW\": 3}\n",
    "if \"Mercedes\" in autos:\n",
    "    anzahl_mercedes = autos[\"Mercedes\"]\n",
    "    if anzahl_mercedes > 1:\n",
    "        print(\"Du hast \" + str(anzahl_mercedes) + \" Mercedes!\")"
   ]
  },
  {
   "cell_type": "markdown",
   "source": [
    "`````{admonition} Verständnisfrage\n",
    ":class: tip\n",
    "- Wie könnte man diesen Code vereinfachen? Hinweis: Im Abschnitt \"Zusammengesetzte Datentypen\" habt ihr eine alternative Methode für den Zugriff auf Werte in einem Dictionary anstelle von `dct[\"key\"]` kennengelernt.\n",
    "\n",
    "`````"
   ],
   "metadata": {
    "collapsed": false
   }
  },
  {
   "cell_type": "code",
   "execution_count": null,
   "outputs": [],
   "source": [
    "anzahl_mercedes = autos.get(\"Mercedes\", 0)\n",
    "if anzahl_mercedes > 1:\n",
    "    print(\"Du hast \" + str(anzahl_mercedes) + \" Mercedes!\")"
   ],
   "metadata": {
    "collapsed": false
   }
  },
  {
   "attachments": {},
   "cell_type": "markdown",
   "metadata": {
    "collapsed": false
   },
   "source": [
    "#### Verzweigung\n",
    "Verzweigungen, oder if-else-Anweisungen, haben die allgemeine Form:\n",
    "\n",
    "````{div} full-width\n",
    "```{image} Verzweigung.png\n",
    ":alt: Klasse str\n",
    ":class: bg-transparent\n",
    ":width: 35%\n",
    "```\n",
    "````\n",
    "\n",
    "_Einfache Verzweigung_\n",
    "\n",
    "Beispiele:"
   ]
  },
  {
   "cell_type": "code",
   "execution_count": null,
   "metadata": {
    "collapsed": false
   },
   "outputs": [],
   "source": [
    "# Wenn der Wert, der dem Schlüssel \"Ibuprofen\" zugeordnet ist, größer 0 ist, wird eine Nachricht ausgegeben.\n",
    "# Wenn der Wert 0 (oder im theoretischen Fall kleiner 0) ist, wird eine Warnung ausgegeben.\n",
    "\n",
    "medikamente = {\"Ibuprofen\": 30, \"Paracetamol\": 23, \"Aspirin\": 28}\n",
    "anzahl_ibus = medikamente[\"Ibuprofen\"]\n",
    "\n",
    "if anzahl_ibus > 0:\n",
    "    print(\"Du hast \" + str(anzahl_ibus) + \" Ibuprofen!\")\n",
    "else:\n",
    "    print(\"Warnung: kein Ibuprofen mehr da!\")"
   ]
  },
  {
   "attachments": {},
   "cell_type": "markdown",
   "metadata": {
    "collapsed": false
   },
   "source": [
    "Eine spezielle Form von Verzweigung sind **bedingte Ausdrücke**. Diese werden verwendet, um einer Variable in Abhängigkeit von einer anderen Variable einen Wert zuzuweisen. Bedingte Ausdrücke stellen eine Kurzschreibweise für die folgende Verzweigung dar:"
   ]
  },
  {
   "cell_type": "code",
   "execution_count": null,
   "metadata": {
    "collapsed": false
   },
   "outputs": [],
   "source": [
    "# Kompliziert\n",
    "x = 1\n",
    "if x == 2:\n",
    "    var = 10\n",
    "else:\n",
    "    var = 20"
   ]
  },
  {
   "cell_type": "code",
   "execution_count": null,
   "metadata": {
    "collapsed": false
   },
   "outputs": [],
   "source": [
    "# Einfach\n",
    "var = (10 if x == 2 else 20)"
   ]
  },
  {
   "attachments": {},
   "cell_type": "markdown",
   "metadata": {
    "collapsed": false
   },
   "source": [
    "#### Mehrfache Verzweigung\n",
    "\n",
    "Wenn mehr als zwei Fälle überprüft werden sollen, kann eine if-else-Anweisung mit beliebig vielen zusätzlichen bedingten Anweisungen kombiniert werden:\n",
    "\n",
    "````{div} full-width\n",
    "```{image} Mehrfache_Verzweigung.png\n",
    ":alt: Klasse str\n",
    ":class: bg-transparent\n",
    ":width: 35%\n",
    "```\n",
    "````\n",
    "_Mehrfache Verzweigung_\n",
    "\n",
    "Beispiele:"
   ]
  },
  {
   "cell_type": "code",
   "execution_count": null,
   "metadata": {
    "collapsed": false
   },
   "outputs": [],
   "source": [
    "# Wenn der Wert, der dem Schlüssel \"Ibuprofen\" zugeordnet ist, größer als 5 ist, wird eine Nachricht mit dem Wert ausgegeben.\n",
    "# Wenn der Wert genau dem Integer 5 entspricht, wird eine Warnung ausgegeben.\n",
    "# In allen anderen Fällen wird die Nachricht \"Achtung! Weniger als 5 Ibuprofen da!\" ausgegeben.\n",
    "\n",
    "medikamente = {\"Ibuprofen\": 30, \"Paracetamol\": 23, \"Aspirin\": 28}\n",
    "anzahl_ibus = medikamente[\"Ibuprofen\"]\n",
    "\n",
    "if anzahl_ibus > 5:\n",
    "    print(\"Du hast \" + str(anzahl_ibus) + \" Ibuprofen!\")\n",
    "elif anzahl_ibus == 5:\n",
    "    print(\"Warnung: Nur noch 5 Ibuprofen da!\")\n",
    "else:\n",
    "    print(\"Achtung! Weniger als 5 Ibuprofen da!\")"
   ]
  },
  {
   "cell_type": "markdown",
   "source": [
    "`````{admonition} Verständnisfrage\n",
    ":class: tip\n",
    "- Welche/n Wert/e muss die Variable `anzahl_ibus` annehmen, damit  die Nachricht \"Achtung! Weniger als 5 Ibuprofen da!\" ausgegeben wird?\n",
    "\n",
    "`````"
   ],
   "metadata": {
    "collapsed": false
   }
  },
  {
   "attachments": {},
   "cell_type": "markdown",
   "metadata": {
    "collapsed": false
   },
   "source": [
    "### Schleifen"
   ]
  },
  {
   "attachments": {},
   "cell_type": "markdown",
   "metadata": {
    "collapsed": false
   },
   "source": [
    "#### while-Schleife\n",
    "\n",
    "while-Schleifen werden verwendet, wenn ein Code-Block so lange ausgeführt werden soll, wie eine bestimmte Bedingung erfüllt ist. Die Bedingung steht im **Schleifenkopf** und wird überprüft, bevor der Code im **Schleifenkörper** ausgeführt wird. Wenn die Bedingung nicht (mehr) erfüllt ist, **terminiert** die Schleife. while-Schleifen haben die allgemeine Form:\n",
    "\n",
    "````{div} full-width\n",
    "\n",
    "```{image} while_1.png\n",
    ":alt: Klasse str\n",
    ":class: bg-transparent\n",
    ":width: 35%\n",
    "```\n",
    "````\n",
    "_while-Schleife_\n",
    "\n",
    "Beispiele:"
   ]
  },
  {
   "cell_type": "code",
   "execution_count": null,
   "metadata": {
    "collapsed": false
   },
   "outputs": [],
   "source": [
    "# In jedem Schleifendurchlauf wird zunächst der Ausdruck anzahl_ibus > 0 ausgewertet.\n",
    "# Wenn der Ausdruck zu True evaluiert wird, wird die Anweisung im Schleifenkörper ausgeführt, d.h. der Wert der Variable anzahl_ibus wird um 1 verringert.\n",
    "# Wenn die Variable anzahl_ibus den Wert 0 annimmt, wird der Ausdruck im Schleifenkopf zu False evaluiert und die Schleife terminiert.\n",
    "# Nach dem Terminieren der Schleife wird eine Warnung ausgegeben.\n",
    "\n",
    "medikamente = {\"Ibuprofen\": 30, \"Paracetamol\": 23, \"Aspirin\": 28}\n",
    "\n",
    "while medikamente[\"Ibuprofen\"] > 0:\n",
    "    medikamente[\"Ibuprofen\"] -= 1\n",
    "\n",
    "print(\"Achtung! Kein Ibuprofen mehr da!\")\n"
   ]
  },
  {
   "attachments": {},
   "cell_type": "markdown",
   "metadata": {
    "collapsed": false
   },
   "source": [
    "Es ist auch möglich, while-Schleifen und bedingte Anweisungen zu kombinieren:"
   ]
  },
  {
   "cell_type": "code",
   "execution_count": null,
   "metadata": {
    "collapsed": false
   },
   "outputs": [],
   "source": [
    "# In jedem Schleifendurchlauf wird zunächst der Ausdruck anzahl_ibus > 0 ausgewertet.\n",
    "# Wenn der Ausdruck zu True evaluiert wird, wird überprüft, ob der Wert dem Integer 5 entspricht.\n",
    "# Falls ja, wird eine Warnmeldung ausgegeben.\n",
    "# Danach wird der Wert der Variable anzahl_ibus um 1 verringert.\n",
    "# Wenn die Variable anzahl_ibus den Wert 0 annimmt, wird der Ausdruck im Schleifenkopf zu False evaluiert und die Schleife terminiert.\n",
    "# Nach dem Terminieren der Schleife wird eine weitere Warnung ausgegeben.\n",
    "\n",
    "medikamente = {\"Ibuprofen\": 30, \"Paracetamol\": 23, \"Aspirin\": 28}\n",
    "\n",
    "while medikamente[\"Ibuprofen\"] > 0:\n",
    "    if medikamente[\"Ibuprofen\"] == 5:\n",
    "        print(\"Warnung: nur noch 5 Ibuprofen da!\")\n",
    "    medikamente[\"Ibuprofen\"] -= 1\n",
    "\n",
    "print(\"Achtung! Kein Ibuprofen mehr da!\")"
   ]
  },
  {
   "cell_type": "markdown",
   "source": [
    "Achtung: while-Schleifen laufen unendlich lange, wenn die Abbruchbedingung nie erfüllt ist:"
   ],
   "metadata": {
    "collapsed": false
   }
  },
  {
   "cell_type": "code",
   "execution_count": null,
   "outputs": [],
   "source": [
    "# while True:\n",
    "#     print(\"Dies ist eine unendliche Schleife\")"
   ],
   "metadata": {
    "collapsed": false
   }
  },
  {
   "cell_type": "markdown",
   "source": [
    "`````{admonition} Verständnisfrage\n",
    ":class: tip\n",
    "- Im Abschnitt \"Mehrfache Verzweigung\" wurde zunächst der Wert des Schlüssels \"Ibuprofen\" einer Variable `anzahl_ibus` zugewiesen. In diesem Abschnitt entfällt dieser Schritt und es wird direkt `medikamente[\"Ibuprofen\"]` verwendet. Was ist der Unterschied?\n",
    "\n",
    "`````"
   ],
   "metadata": {
    "collapsed": false
   }
  },
  {
   "attachments": {},
   "cell_type": "markdown",
   "metadata": {
    "collapsed": false
   },
   "source": [
    "#### for-Schleife\n",
    "\n",
    "for-Schleifen werden verwendet, um **iterierbare Objekte** zu durchlaufen. Strings, Tupel, Listen, Dictionaries und Sets sind alle iterierbar. Im Kopf der for-Schleife steht anders als bei der while-Schleife keine Bedingung, sondern es wird eine Variable festgelegt, die als Platzhalter für den Wert der Elemente des Objekts dient. Diese Variable nennt man auch **Laufvariable**. Die for-Schleife \"durchläuft\" also im Grunde das Objekt, indem in jedem Schleifendurchlauf die Laufvariable den Wert des aktuellen Elements annimmt – und das so lange, bis es keine weiteren Elemente mehr gibt. Mithilfe des Variablennamens kann im Schleifenkörper auf den Wert des aktuellen Elements zugegriffen werden.\n",
    "\n",
    "\n",
    "````{div} full-width\n",
    "\n",
    "```{image} for_1.png\n",
    ":alt: Klasse str\n",
    ":class: bg-transparent\n",
    ":width: 35%\n",
    "```\n",
    "````\n",
    "_for-Schleife_\n",
    "\n",
    "Beispiele:"
   ]
  },
  {
   "cell_type": "code",
   "execution_count": null,
   "metadata": {
    "collapsed": false
   },
   "outputs": [],
   "source": [
    "# In jedem Schleifendurchlauf nimmt die Laufvariable wort den Wert je eines Elements aus der Liste woerter nach der Reihenfolge der Indexpositionen an und es wird der aktuelle Wert der Laufvariable zusammen mit einem Integer, der die Zeichenanzahl des aktuellen Strings repräsentiert, ausgegeben\n",
    "\n",
    "woerter = [\"Netzwerkdurchsetzungsgesetz\", \"Abfallverzeichnisverordnung\", \"Haftpflichtversicherung\", \"Antivirenprogramm\"]\n",
    "\n",
    "for wort in woerter:\n",
    "    print(wort, len(wort))"
   ]
  },
  {
   "cell_type": "markdown",
   "source": [
    "Wenn eine for-Schleife im Zusammenhang mit einem Set verwendet wird, ist die Reihenfolge, in der das Set durchlaufen wird, zufällig. Das hat den Grund, dass die Elemente eines Sets ungeordnet sind."
   ],
   "metadata": {
    "collapsed": false
   }
  },
  {
   "cell_type": "code",
   "execution_count": null,
   "outputs": [],
   "source": [
    "# In jedem Schleifendurchlauf nimmt die Laufvariable zahl den Wert eines Elements aus dem Set zahlen in einer zufälligen Reihenfolge an und es wird der aktuelle Wert der Variable zahl ausgegeben.\n",
    "\n",
    "zahlen = {3, 5, 6, 1}\n",
    "\n",
    "for zahl in zahlen:\n",
    "    print(zahl)"
   ],
   "metadata": {
    "collapsed": false
   }
  },
  {
   "attachments": {},
   "cell_type": "markdown",
   "metadata": {
    "collapsed": false
   },
   "source": [
    "Wie while-Schleifen können auch for-Schleifen mit bedingten Anweisungen kombiniert werden:"
   ]
  },
  {
   "cell_type": "code",
   "execution_count": null,
   "metadata": {
    "collapsed": false
   },
   "outputs": [],
   "source": [
    "# In jedem Schleifendurchlauf nimmt die Laufvariable wort den Wert eines Elements aus der Liste woerter (s.o.) an.\n",
    "# Zunächst wird die Zeichenanzahl des aktuellen Strings der Variable laenge als Wert zugewiesen.\n",
    "# Dann wird geprüft, ob der Wert der Variable laenge größer als 20 ist.\n",
    "# Falls ja, wird dem Dictionary lange_woerter ein Eintrag mit dem aktuellen Wert der Variable wort als Schlüssel und der Zeichenanzahl als Wert hinzugefügt.\n",
    "# Wenn die Liste woerter keine weiteren Elemente mehr enthält, terminiert die Schleife.\n",
    "# Danach wird das Dictionary lange_woerter ausgegeben.\n",
    "\n",
    "lange_woerter = {}\n",
    "for wort in woerter:\n",
    "    laenge = len(wort)\n",
    "    if laenge > 20:\n",
    "        lange_woerter[wort] = laenge\n",
    "print(lange_woerter)"
   ]
  },
  {
   "cell_type": "markdown",
   "source": [
    "Es muss jedoch beachtet werden, dass Elemente eines iterierbaren Objekts im Laufe einer Iteration nicht direkt verändert werden können:"
   ],
   "metadata": {
    "collapsed": false
   }
  },
  {
   "cell_type": "code",
   "execution_count": null,
   "outputs": [],
   "source": [
    "tiere = [\"Hund\", \"Elephant\", \"Igel\", \"Katze\"]\n",
    "for tier in tiere:\n",
    "    tier = tier.lower()\n",
    "# Änderungen wurden nicht übernommen\n",
    "print(tiere)"
   ],
   "metadata": {
    "collapsed": false
   }
  },
  {
   "cell_type": "markdown",
   "source": [
    "Das liegt daran, dass die Laufvariable nur für den Wert des aktuellen Elements steht, nicht für dieses Element selbst.\n",
    "Um Elemente im Schleifendurchlauf zu verändern, gibt es verschiedene Möglichkeiten:\n",
    "\n",
    "**1. Neues Objekt erstellen**"
   ],
   "metadata": {
    "collapsed": false
   }
  },
  {
   "cell_type": "code",
   "execution_count": null,
   "outputs": [],
   "source": [
    "tiere = [\"Hund\", \"Elephant\", \"Igel\", \"Katze\"]\n",
    "tiere_klein = []\n",
    "for tier in tiere:\n",
    "    tiere_klein.append(tier.lower())\n",
    "# Neues Objekt mit Änderungen wurde erstellt\n",
    "print(tiere_klein)"
   ],
   "metadata": {
    "collapsed": false
   }
  },
  {
   "cell_type": "markdown",
   "source": [
    "**2. Funktion `enumerate()`**\n",
    "\n",
    "````{div} full-width\n",
    "\n",
    "```{image} for_4.png\n",
    ":alt: Klasse str\n",
    ":class: bg-transparent\n",
    ":width: 50%\n",
    "```\n",
    "````\n",
    "_for-Schleife mit enumerate()_\n",
    "\n",
    "Mithilfe der Funktion enumerate() können zwei Laufvariablen parallel durch ein Objekt laufen. Das `i` steht im folgenden Beispiel für iterator und dient als Zählvariable: mit jedem Schleifendurchlauf (auch genannt **Iteration**) wird `i` um Eins erhöht; der Zählbeginn ist 0. Die Variable `v` steht für value, also für den Wert des jeweiligen Elements im durchlaufenen Objekt, also genau wie bei der bereits bekannten \"einfachen\" for-Schleife. In jedem Schleifendurchlauf nehmen beide Laufvariablen einen anderen Wert an. Der Unterschied zur bisher bekannten \"einfachen\" for-Schleife ist also, dass zusätzlich zur \"Wertvariable\" eine \"Zählvariable\" als zweite Laufvariable hinzugekommen ist. Mithilfe der Wertvariable kann wie zuvor im Schleifenkörper auf den Wert des aktuellen Elements im durchlaufenen Objekt zugegriffen werden. Mithilfe der Zählvariable kann nun zusätzlich direkt auf die Elemente des durchlaufene Objekts zugegriffen werden, und nicht nur auf den Wert der Elemente."
   ],
   "metadata": {
    "collapsed": false
   }
  },
  {
   "cell_type": "code",
   "execution_count": null,
   "outputs": [],
   "source": [
    "for i, v in enumerate([\"Hund\", \"Elephant\", \"Igel\", \"Katze\"]):\n",
    "    print(i, v)"
   ],
   "metadata": {
    "collapsed": false
   }
  },
  {
   "cell_type": "code",
   "execution_count": null,
   "outputs": [],
   "source": [
    "tiere = [\"Hund\", \"Elephant\", \"Igel\", \"Katze\"]\n",
    "for i, tier in enumerate(tiere):\n",
    "    tiere[i] = tier.lower()\n",
    "# Änderungen wurden übernommen\n",
    "print(tiere)"
   ],
   "metadata": {
    "collapsed": false
   }
  },
  {
   "attachments": {},
   "cell_type": "markdown",
   "metadata": {
    "collapsed": false
   },
   "source": [
    "**3. Funktion `range()`**\n",
    "\n",
    "for-Schleifen können auch als sogenannte **Zählschleife** verwendet werden. Das `i` steht im folgenden Beispiel wieder für iterator und dient wieder als Zählvariable; der Zählbeginn ist ebenfalls 0. In jedem Schleifendurchlauf kann damit auf das `ì`-te Element des durchlaufenen Objekts zugegriffen werden. Mithilfe des Iterators `i` wird also nacheinander in jeder Iteration auf ein Element aus dem Objekt zugegriffen. Der Unterschied zur \"einfachen\" for-Schleife und zur Variante mit enumerate() ist also, dass bei dieser Variante nur eine \"Zählvariable\" und keine \"Wertvariable\" verwendet wird.\n",
    "\n",
    "````{div} full-width\n",
    "\n",
    "```{image} for_3.png\n",
    ":alt: Klasse str\n",
    ":class: bg-transparent\n",
    ":width: 50%\n",
    "```\n",
    "````\n",
    "_for-Schleife als Zählschleife_\n"
   ]
  },
  {
   "cell_type": "code",
   "execution_count": null,
   "metadata": {
    "collapsed": false
   },
   "outputs": [],
   "source": [
    "for i in range(5):\n",
    "    print(i)"
   ]
  },
  {
   "cell_type": "code",
   "execution_count": null,
   "outputs": [],
   "source": [
    "tiere = [\"Hund\", \"Elephant\", \"Igel\", \"Katze\"]\n",
    "for i in range(len(tiere)):\n",
    "    tiere[i] = tiere[i].lower()\n",
    "# Änderungen wurden übernommen\n",
    "print(tiere)"
   ],
   "metadata": {
    "collapsed": false
   }
  },
  {
   "cell_type": "markdown",
   "source": [
    "Zuletzt ist es auch möglich, mithilfe der Funktion `zip()` **zwei Objekte gleichzeitig** zu durchlaufen:"
   ],
   "metadata": {
    "collapsed": false
   }
  },
  {
   "cell_type": "code",
   "execution_count": null,
   "outputs": [],
   "source": [
    "# Elemente aus zwei Listen kombinieren und ausgeben lassen mit zip()\n",
    "\n",
    "artikel = [\"der\", \"der\", \"das\", \"die\"]\n",
    "substantive = [\"Baum\", \"Wald\", \"Meer\", \"Sonne\"]\n",
    "for a, w in zip(artikel, substantive):\n",
    "    print(a + \" \" + w)"
   ],
   "metadata": {
    "collapsed": false
   }
  },
  {
   "cell_type": "code",
   "execution_count": null,
   "outputs": [],
   "source": [
    "# Elemente aus zwei Listen kombinieren mit zip() und eine neue Liste erstellen\n",
    "\n",
    "artikel = [\"der\", \"der\", \"das\", \"die\"]\n",
    "substantive = [\"Baum\", \"Wald\", \"Meer\", \"Sonne\"]\n",
    "wortpaare = []\n",
    "for a, s in zip(artikel, substantive):\n",
    "    wortpaare.append(a + \" \" + s)\n",
    "print(wortpaare)"
   ],
   "metadata": {
    "collapsed": false
   }
  },
  {
   "cell_type": "code",
   "execution_count": null,
   "outputs": [],
   "source": [
    "# Elemente aus zwei Listen kombinieren mit zip() und enumerate()\n",
    "\n",
    "artikel = [\"der\", \"der\", \"das\", \"die\"]\n",
    "substantive = [\"Baum\", \"Wald\", \"Meer\", \"Sonne\"]\n",
    "for i, (a, s) in enumerate(zip(artikel, substantive)):\n",
    "    substantive[i] = a + \" \" + s\n",
    "substantive"
   ],
   "metadata": {
    "collapsed": false
   }
  },
  {
   "cell_type": "markdown",
   "source": [
    "#### Schleifen abbrechen\n",
    "\n",
    "Es ist zudem möglich, einen Schleifendurchlauf (Iteration) oder die gesamte Schleife abhängig von einer Bedingung frühzeitig abzubrechen. Eine `continue`-Anweisung kann verwendet werden, um den aktuellen Schleifendurchlauf abzubrechen und direkt zum Schleifenkopf zu springen (= Iterationsabbruch). Eine `break`-Anweisung wird verwendet, um die Schleife komplett abzubrechen (= Schleifenabbruch). `continue` und `break` können sowohl mit while-Schleifen als auch mit for-Schleifen verwendet werden. Hier ein Beispiel mit einer for-Schleife:\n"
   ],
   "metadata": {
    "collapsed": false
   }
  },
  {
   "cell_type": "code",
   "execution_count": null,
   "outputs": [],
   "source": [
    "# continue Anweisung\n",
    "\n",
    "liste = [\"Baum\", \"Wald\", None, \"Meer\", None, \"Sonne\"]\n",
    "\n",
    "for elem in liste:\n",
    "    if elem is None:\n",
    "        continue\n",
    "    else:\n",
    "        print(elem)\n"
   ],
   "metadata": {
    "collapsed": false
   }
  },
  {
   "cell_type": "code",
   "execution_count": null,
   "outputs": [],
   "source": [
    "# break Anweisung\n",
    "\n",
    "liste = [\"Baum\", \"Wald\", None, \"Meer\", None, \"Sonne\"]\n",
    "\n",
    "for elem in liste:\n",
    "    if elem is None:\n",
    "        break\n",
    "    else:\n",
    "        print(elem)"
   ],
   "metadata": {
    "collapsed": false
   }
  },
  {
   "cell_type": "markdown",
   "source": [
    "Der else-Zweig ist hier aber eigentlich nicht zwingend notwendig, sodass die Schleife vereinfacht werden kann zu:"
   ],
   "metadata": {
    "collapsed": false
   }
  },
  {
   "cell_type": "code",
   "execution_count": null,
   "outputs": [],
   "source": [
    "for elem in liste:\n",
    "    if elem is None:\n",
    "        break\n",
    "    print(elem)"
   ],
   "metadata": {
    "collapsed": false
   }
  },
  {
   "cell_type": "markdown",
   "source": [
    "\n",
    "```{note}\n",
    "Das Objekt `None` repräsentiert in Python die Abwesenheit eines Werts. `None` hat den Datentyp NonType, und von diesem Datentyp gibt es nur ein einziges Objekt, nämlich eben `None`.\n",
    "```\n",
    "\n",
    "In ein paar Wochen lernt ihr ein Konstrukt kennen, das sich \"List comprehension\" nennt und das erlaubt, Schleifen, die zum Erstellen und Manipulieren von Listen verwendet werden, zu vereinfachen. Für den Anfang beschränken wir uns aber auf die hier vorgestellten Kontrollstrukturen."
   ],
   "metadata": {
    "collapsed": false
   }
  },
  {
   "attachments": {},
   "cell_type": "markdown",
   "metadata": {
    "collapsed": false
   },
   "source": [
    "\n",
    "### Quellen\n",
    "\n",
    "```{bibliography}\n",
    "   :list: enumerated\n",
    "   :filter: keywords % \"kontrollstrukturen\" or keywords % \"mit_02\" or keywords % \"none\"\n",
    "```"
   ]
  },
  {
   "attachments": {},
   "cell_type": "markdown",
   "metadata": {
    "collapsed": false
   },
   "source": []
  }
 ],
 "metadata": {
  "kernelspec": {
   "display_name": "Python 3",
   "language": "python",
   "name": "python3"
  },
  "language_info": {
   "codemirror_mode": {
    "name": "ipython",
    "version": 3
   },
   "file_extension": ".py",
   "mimetype": "text/x-python",
   "name": "python",
   "nbconvert_exporter": "python",
   "pygments_lexer": "ipython3",
   "version": "3.8.0"
  },
  "widgets": {
   "application/vnd.jupyter.widget-state+json": {
    "state": {},
    "version_major": 2,
    "version_minor": 0
   }
  }
 },
 "nbformat": 4,
 "nbformat_minor": 4
}
