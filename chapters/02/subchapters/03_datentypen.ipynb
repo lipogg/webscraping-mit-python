{
 "cells": [
  {
   "attachments": {},
   "cell_type": "markdown",
   "metadata": {},
   "source": [
    "# Einfache Datentypen, Strings und Operatoren"
   ]
  },
  {
   "attachments": {},
   "cell_type": "markdown",
   "metadata": {},
   "source": [
    "In Python sind die wichtigsten Datentypen vordefiniert:   \n",
    "\n",
    "- **Ganzzahlen: Integers (int)**, z.B. `3`\n",
    "- **Gleitkommazahlen: Floats (float)**, z.B. `3.0`\n",
    "- **Boolesche Wahrheitswerte: Booleans (bool)**, d.h. `True` und `False`\n",
    "- **Zeichenketten: Strings (str)**, z.B. `\"Kafka\"` oder `'Kafka'` (Anführungszeichen!)\n",
    "- **Listen**, **Tupel**, .... (-> nächste Woche)\n",
    "\n",
    "Manche davon sind **\"einfache Datentypen\"**, das heißt, dass sie nicht weiter unterteilt werden können (Integers, Floats, Booleans). Strings sind dagegen ein **\"sequentieller Datentyp\"**. Dazu kommen wir später.\n",
    "\n",
    "Ähnlich wie bei unserem Beispiel mit der Lampe kann man mit Objekten je nach Datentyp verschiedene Dinge \"tun\". Was genau, das besprechen wir in diesem Abschnitt. Neben den typabhängigen Operationen gilt für alle Integer, Floats, Booleans und Strings: \n",
    "\n",
    "- Mit der Funktion `print()` können Objekte auf der Konsole, also zur Ansicht für die Nutzer:innen, ausgegeben werden. \n",
    "- Der Datentyp eines Objekts kann mit der Funktion `type()` abgefragt werden. \n",
    "- Um den Datentyp eines Objekts zu ändern, gibt es spezialisierte Funktionen, zum Beispiel `int(3.9)` konvertiert die Gleitkommazahl 3.9 zur Ganzzahl 3, und `float(3)` konvertiert die Ganzzahl 3 zur Gleitkommazahl 3.0. \n",
    "\n",
    "Beispiele:"
   ]
  },
  {
   "cell_type": "code",
   "execution_count": null,
   "metadata": {},
   "outputs": [],
   "source": [
    "2 \n",
    "345682389 \n",
    "4.6 # Punkt statt Komma!\n",
    "\"4.6\"\n",
    "True\n",
    "False\n",
    "\"Hello World\" # Anführungszeichen!\n",
    "\"Ein ganz langer Satz! Mit mehreren Satzzeichen. Und einer Zahl: 34.\"\n"
   ]
  },
  {
   "attachments": {},
   "cell_type": "markdown",
   "metadata": {},
   "source": [
    "`````{admonition} Verständnisfragen\n",
    ":class: tip\n",
    "- Haben 4.6 und \"4.6\" denselben Datentyp? \n",
    "- Welchen Datentyp hat der Satz \"Ein ganz langer Satz! ... \"? \n",
    "- Warum wird nur die letzte Zeile aus unserer Codezelle ausgegeben? \n",
    "`````"
   ]
  },
  {
   "cell_type": "code",
   "execution_count": null,
   "metadata": {},
   "outputs": [],
   "source": [
    "# Überprüfen wir es! \n",
    "type(4.6)"
   ]
  },
  {
   "cell_type": "code",
   "execution_count": null,
   "metadata": {},
   "outputs": [],
   "source": [
    "type(\"4.6\")"
   ]
  },
  {
   "cell_type": "code",
   "execution_count": null,
   "metadata": {},
   "outputs": [],
   "source": [
    "type(\"Ein ganz langer Satz! Mit mehreren Satzzeichen. Und einer Zahl: 34.\")"
   ]
  },
  {
   "cell_type": "code",
   "execution_count": null,
   "metadata": {},
   "outputs": [],
   "source": [
    "# Typ ändern (\"Type conversion\")\n",
    "type(int(4.6))"
   ]
  },
  {
   "attachments": {},
   "cell_type": "markdown",
   "metadata": {},
   "source": [
    "```{note}\n",
    "Ein **Ausdruck** besteht aus Objekten und Operatoren und hat immer einen Typ: den Typ des Werts, zu dem er evaluiert wird (-> siehe \"Grundbegriffe\"). \n",
    "```"
   ]
  },
  {
   "attachments": {},
   "cell_type": "markdown",
   "metadata": {},
   "source": [
    "#### Operatoren auf Integers und Floats\n",
    "\n",
    "**Arithmetische Operatoren** sind aus der Schulmathematik bekannt. Es handelt sich dabei um Operatoren wie `-`, `+`, `*`, `/` sowie `%` und `**`. `%` ist der modulo Operator, damit kann bei einer Division der Rest berechnet werden. `**` wird zum Exponieren verwendet. \n",
    "\n",
    "Beispiele: "
   ]
  },
  {
   "cell_type": "code",
   "execution_count": null,
   "metadata": {},
   "outputs": [],
   "source": [
    "5+6 "
   ]
  },
  {
   "cell_type": "code",
   "execution_count": null,
   "metadata": {},
   "outputs": [],
   "source": [
    "4+5/3"
   ]
  },
  {
   "cell_type": "code",
   "execution_count": null,
   "metadata": {},
   "outputs": [],
   "source": [
    "# Klammern legen die Reihenfolge fest, in der der Ausdruck evaluiert wird\n",
    "(4+5)/3 "
   ]
  },
  {
   "cell_type": "code",
   "execution_count": null,
   "metadata": {},
   "outputs": [],
   "source": [
    "50456*4523"
   ]
  },
  {
   "attachments": {},
   "cell_type": "markdown",
   "metadata": {},
   "source": [
    "Die Beispiele oben verwenden Integers. Was passiert aber, wenn Integers und Floats in einem Ausdruck kombiniert werden? \n",
    "\n",
    "Für `+`, `-` und `*` gilt: \n",
    "- wenn beide Werte ints sind, ist das Ergebnis ein int\n",
    "- wenn einer oder beide Werte floats sind, ist das Ergebnis ein float\n",
    "\n",
    "Für `/` gilt: \n",
    "- das Ergebnis ist immer ein float\n",
    "\n",
    "Beispiele: "
   ]
  },
  {
   "cell_type": "code",
   "execution_count": null,
   "metadata": {},
   "outputs": [],
   "source": [
    "type(3+5)"
   ]
  },
  {
   "cell_type": "code",
   "execution_count": null,
   "metadata": {},
   "outputs": [],
   "source": [
    "type(5.0+3)"
   ]
  },
  {
   "cell_type": "code",
   "execution_count": null,
   "metadata": {},
   "outputs": [],
   "source": [
    "type(5.0*3.0)"
   ]
  },
  {
   "cell_type": "code",
   "execution_count": null,
   "metadata": {},
   "outputs": [],
   "source": [
    "type(45/5)"
   ]
  },
  {
   "attachments": {},
   "cell_type": "markdown",
   "metadata": {},
   "source": [
    "#### Logische Operatoren und Vergleichsoperatoren\n",
    "\n",
    "Wir haben gesehen, dass Ausdrücke mit arithmetischen Operatoren immer zu einem Zahlwert ausgewertet werden: entweder zu einem Wert vom Typ int oder zu einem Wert vom Typ float. Daneben gibt es Ausdrücke, die immer zu einem Wahrheitswert, also entweder zu `True` oder zu `False`, evaluiert werden. Solche Ausdrücke werden mithilfe von logischen Operatoren oder Vergleichsoperatoren gebildet. Diese Operatoren können sowohl auf ints und floats als auch auf strings angewendet werden; allerdings nur so, dass es sinnvoll ist zu fragen, ob die Aussage wahr oder falsch ist (-> Grundbegriffe!). \n",
    "\n",
    "- **Logische Operatoren** und **Vergleichsoperatoren** ermöglichen es, Werte zu vergleichen und die Richtigkeit einer logischen Aussage zu überpüfen. \n",
    "  \n",
    "| Operator|  Bedeutung        |\n",
    "|---------|-------------------|\n",
    "| <      |  kleiner |\n",
    "| >      |  kleiner |\n",
    "| <=      |  kleiner oder gleich |\n",
    "| >=      |  größer oder gleich |\n",
    "| ==      |  genau gleich |\n",
    "| !=      |  ungleich       |\n",
    "| not x     |  wenn x falsch ist, dann `True`, sonst `False` |\n",
    "| x or y   |  wenn x wahr ist, x, sonst y  |\n",
    "| x and y   |  wenn x falsch ist, x, sonst y        |\n",
    "| is; is not |  feststellen, ob zwei Namen auf dasselbe Objekt verweisen|\n",
    "  "
   ]
  },
  {
   "cell_type": "code",
   "execution_count": null,
   "metadata": {},
   "outputs": [],
   "source": [
    "-5 < -10"
   ]
  },
  {
   "cell_type": "code",
   "execution_count": null,
   "metadata": {},
   "outputs": [],
   "source": [
    "5 >= 5"
   ]
  },
  {
   "cell_type": "code",
   "execution_count": null,
   "metadata": {},
   "outputs": [],
   "source": [
    "3 != 5 "
   ]
  },
  {
   "cell_type": "code",
   "execution_count": null,
   "metadata": {},
   "outputs": [],
   "source": [
    "\"Hallo\" != \"Hello\""
   ]
  },
  {
   "cell_type": "code",
   "execution_count": null,
   "metadata": {},
   "outputs": [],
   "source": [
    "3 == 3 and 4 == 4"
   ]
  },
  {
   "cell_type": "code",
   "execution_count": null,
   "metadata": {},
   "outputs": [],
   "source": [
    "3 == 3 or 4 == 5"
   ]
  },
  {
   "cell_type": "code",
   "execution_count": 1,
   "metadata": {},
   "outputs": [
    {
     "data": {
      "text/plain": [
       "3"
      ]
     },
     "execution_count": 1,
     "metadata": {},
     "output_type": "execute_result"
    }
   ],
   "source": [
    "# Vorsicht: Wenn keine logische Aussage überprüft wird, dann werden Werte zurückgegeben \n",
    "3 or 5"
   ]
  },
  {
   "cell_type": "code",
   "execution_count": null,
   "metadata": {},
   "outputs": [],
   "source": [
    "not True == False "
   ]
  },
  {
   "cell_type": "code",
   "execution_count": null,
   "metadata": {},
   "outputs": [],
   "source": [
    "True == (not False)"
   ]
  },
  {
   "cell_type": "code",
   "execution_count": null,
   "metadata": {},
   "outputs": [],
   "source": [
    "\"a\" < \"c\""
   ]
  },
  {
   "cell_type": "code",
   "execution_count": null,
   "metadata": {},
   "outputs": [],
   "source": [
    "\"Eine Rose ist eine Pflanze\" == \"Eine Rose ist keine Pflanze\" "
   ]
  },
  {
   "cell_type": "code",
   "execution_count": null,
   "metadata": {},
   "outputs": [],
   "source": [
    "3 == \"c\""
   ]
  },
  {
   "cell_type": "code",
   "execution_count": null,
   "metadata": {},
   "outputs": [],
   "source": [
    "# 3 > \"Hallo\""
   ]
  },
  {
   "attachments": {},
   "cell_type": "markdown",
   "metadata": {},
   "source": [
    "`````{admonition} Verständnisfragen\n",
    ":class: tip\n",
    "- Warum wird der Ausdruck `3 == 3 and 4 == 4` zu `True` evaluiert? \n",
    "- Warum wird auch der Ausdruck `3 == 3 or 4 == 5` zu `True` evaluiert? \n",
    "- Was passiert, wenn man fragt, ob ein String \"größer\" als ein anderer ist? \n",
    "- Gebt den Ausdruck aus dem letzten Beispiel in eine neue Codezelle in eurem Jupyter Notebook ein und führt die Zelle aus. Was passiert?\n",
    "`````"
   ]
  },
  {
   "attachments": {},
   "cell_type": "markdown",
   "metadata": {},
   "source": [
    "#### Zugriffsoperatoren und Operationen auf Strings\n",
    "\n",
    "Wir haben gesehen, dass der Ausdruck `\"a\" < \"c\"` zu `True` evaluiert wird und dass es keine Fehlermeldung gibt. Warum ist das so? Um das zu verstehen, müssen wir uns ansehen, was Strings eigentlich genau sind. \n",
    "\n",
    "Strings sind Zeichenketten, also eine Sequenz von Zeichen. Sie werden deswegen auch als **\"sequentieller Datentyp\"** bezeichnet. Sie sind also eigentlich keine einfachen Datentypen.\n",
    "Jedes Zeichen wird im Computer durch eine Zahlenfolge repräsentiert. Wie genau diese Folge aussieht, hängt davon ab, welche Kodierung (Encoding) dazu verwendet wird. Eine der ersten Kodierungen war ASCII, mit der allerdings nur Zeichen aus dem lateinischen Alphabet repräsentiert werden können. Heutzutage gibt es mit Unicode einen international anerkannten Standard-Zeichensatz. Dieser Zeichensatz ordnet nicht nur allen Zeichen im lateinischen Alphabet, sondern allen Zeichen in allen Schriftsprachen und sogar Symbolen wie Emojis einen einzigartigen Zahlenwert zu. Solche Unicode-Zahlenwerte heißen \"Codepunkte\". Zeichenketten, die als Unicode-Codepunkte repräsentiert werden, können mithilfe von Kodierungen wie UTF-8 in Zahlenfolgen, die nur aus Nullen und Einsen bestehen (Bytes) umgewandelt werden. In Python 2, also der Python-Version vor der aktuellen Version Python 3, wurden Objekte mit dem Datentyp `str` per Default in UTF-8, also als Bytes, dargestellt. In Python 3 ist dagegen der Default Unicode: Objekte mit dem Datentyp `str` behandelt der Computer in Python 3 also als Unicode-Codepunkte. Erst, wenn Strings in einer Datei gespeichert werden, werden die Unicode-Codepunkte mithilfe der Kodierung UTF-8 in eine Folge aus Einsen und Nullen umgewandelt. \n",
    "\n",
    "Daraus folgt für unser Beispiel: Der Computer wertet den Ausdruck `\"a\" < \"c\"` aus, indem er die Zahlenfolge vergleicht, welche die Zeichen `a` und `b` repräsentieren. Unicode-Codepunkte haben die Form `U+irgendeine Hexadezimalzahl`, also z.B. `U+0061` für den Buchstaben `a` und `U+0063` für den Buchstaben `c`. Als Dezimalzahl ausgedrückt ist `0061` dasselbe wie die Zahl `97` und `0063` dasselbe wie die Zahl `99`. Der Computer vergleicht Buchstaben also nicht wie wir \"visuell\", sondern er vergleicht die Zahlenfolge, welche für diesen Buchstaben steht. Und weil 0061 bzw. 97 kleiner ist als 0063 bzw. 99, evaluiert er den Ausdruck zu `True`. \n",
    "\n",
    "- Strings sind \"case sensitive\": d.h. \"Hallo\" == \"hallo\" evaluiert zu `False`\n",
    "- Strings haben eine Länge, die mithilfe der Funktion `len()` abgefragt werden kann (Achtung: Die Länge unterscheidet sich je nach Encoding; das wird [hier](https://dlukes.github.io/unicode.html) diskutiert.)\n",
    "- Mithilfe der Funktion `ord()` kann man einen String in einen Unicode-Codepunkt umwandeln.\n",
    "- Jedes Zeichen hat einen Index, über den mithilfe eines **Zugriffsoperators** auf einzelne Zeichen zugegriffen werden kann. Für den Zugriff auf ein Zeichen werden eckige Klammern mit dem Index des Zeichens verwendet:  `[Index]`. Für den Zugriff auf eine Teilsequenz werden eckige Klammern mit einem Start- und einem Stoppindex sowie einer Schrittgröße verwendet: `[Startindex:Stoppindex:Schritt]`. \n",
    "- Strings können mithilfe des **Konkatenations-Operators** `+` mit anderen Strings verkettet werden. \n",
    "- Strings oder Untersequenzen von Strings können mithilfe des Multiplikationsoperators `*` vervielfacht werden.\n",
    "- Mithilfe den sogenannten **Mitgliedschafts-Operatoren** `in` und `not in` kann überprüft werden, ob ein String eine Untersequenz enthält.\n",
    "- Ein leerer String ist `False`, d.h. `not \"\"` wird zu `False` evaluiert. \n"
   ]
  },
  {
   "cell_type": "code",
   "execution_count": 8,
   "metadata": {},
   "outputs": [
    {
     "data": {
      "text/plain": [
       "'Hallo Welt'"
      ]
     },
     "execution_count": 8,
     "metadata": {},
     "output_type": "execute_result"
    }
   ],
   "source": [
    "# Strings verketten \n",
    "\"Hallo\" + \" \" + \"Welt\""
   ]
  },
  {
   "cell_type": "code",
   "execution_count": 9,
   "metadata": {},
   "outputs": [
    {
     "data": {
      "text/plain": [
       "'HalloHallo'"
      ]
     },
     "execution_count": 9,
     "metadata": {},
     "output_type": "execute_result"
    }
   ],
   "source": [
    "# Strings vervielfachen \n",
    "\n",
    "\"Hallo\"*2"
   ]
  },
  {
   "cell_type": "code",
   "execution_count": 10,
   "metadata": {},
   "outputs": [
    {
     "data": {
      "text/plain": [
       "True"
      ]
     },
     "execution_count": 10,
     "metadata": {},
     "output_type": "execute_result"
    }
   ],
   "source": [
    "# Prüfen, ob ein String eine Zeichenfolge enthält \n",
    "\n",
    "\"o\" in \"Hallo\""
   ]
  },
  {
   "cell_type": "code",
   "execution_count": 11,
   "metadata": {},
   "outputs": [
    {
     "data": {
      "text/plain": [
       "True"
      ]
     },
     "execution_count": 11,
     "metadata": {},
     "output_type": "execute_result"
    }
   ],
   "source": [
    "# Leerer String ist False\n",
    "\n",
    "not \"\""
   ]
  },
  {
   "cell_type": "code",
   "execution_count": 3,
   "metadata": {},
   "outputs": [
    {
     "data": {
      "text/plain": [
       "'H'"
      ]
     },
     "execution_count": 3,
     "metadata": {},
     "output_type": "execute_result"
    }
   ],
   "source": [
    "# Das hier ist eine Variable (-> lernen wir gleich)\n",
    "wort = \"Hallo\"\n",
    "# Zugriff auf das erste Zeichen mit dem Zugriffsoperator []\n",
    "wort[0] "
   ]
  },
  {
   "cell_type": "code",
   "execution_count": null,
   "metadata": {},
   "outputs": [],
   "source": [
    "# Zugriff auf die ersten drei Zeichen mit dem Slicing-Operator [::]\n",
    "wort[2:4:1]"
   ]
  },
  {
   "attachments": {},
   "cell_type": "markdown",
   "metadata": {},
   "source": [
    "Zeichenketten kann man natürlich nicht nur untereinander vergleichen und auf einzelne Zeichen zugreifen, sondern es gibt eine ganze Reihe von Operationen, die darüberhinaus für Strings vordefiniert sind, ganz ähnlich wie in unserem Beispiel mit der Lampe, die man ein- und ausschalten kann. Man kann zum Beispiel alle Zeichen in einem String in Kleinbuchstaben umwandeln, oder den ersten Buchstaben zu einem Großbuchstaben machen. Solche speziellen Operationen, die nur für Objekte vom Typ String definiert sind, heißen Methoden, und Methoden sind eine Art von Funktionen. Was das ist, lernen wir also noch. Ein Überblick über alle Operationen, die speziell für Objekte vom Typ String definiert sind, findet ihr hier: [https://docs.python.org/3/library/stdtypes.html#string-methods](https://docs.python.org/3/library/stdtypes.html#string-methods). \n",
    "\n",
    "````{div} full-width\n",
    "```{image} str_class.png\n",
    ":alt: Klasse str\n",
    ":class: bg-transparent\n",
    ":width: 35%\n",
    "```\n",
    "\n",
    "```{image} str_object.png\n",
    ":alt: Objekt vom Typ str\n",
    ":class: bg-transparent\n",
    ":width: 35%\n",
    "```\n",
    "````\n",
    "<br></br>\n",
    "\n",
    "Beispiele: "
   ]
  },
  {
   "cell_type": "code",
   "execution_count": null,
   "metadata": {},
   "outputs": [],
   "source": [
    "# Methode capitalize()\n",
    "\n",
    "wort.capitalize()"
   ]
  },
  {
   "cell_type": "code",
   "execution_count": null,
   "metadata": {},
   "outputs": [],
   "source": [
    "# Methode lower()\n",
    "\n",
    "wort.lower()"
   ]
  },
  {
   "cell_type": "code",
   "execution_count": null,
   "metadata": {},
   "outputs": [],
   "source": [
    "# Wo sind unsere Änderungen? (-> nächstes Kapitel!)\n",
    "print(wort)"
   ]
  },
  {
   "cell_type": "code",
   "execution_count": 5,
   "metadata": {},
   "outputs": [
    {
     "data": {
      "text/plain": [
       "False"
      ]
     },
     "execution_count": 5,
     "metadata": {},
     "output_type": "execute_result"
    }
   ],
   "source": [
    "# Methode islower()\n",
    "\n",
    "wort.islower()"
   ]
  },
  {
   "attachments": {},
   "cell_type": "markdown",
   "metadata": {},
   "source": [
    "#### Zuweisungsoperatoren\n",
    "\n",
    "Außerdem gibt es **Zuweisungsoperatoren** wie `=` und `+=`, die im Zusammenhang mit Variablen verwendet werden (-> nächstes Kapitel!).\n",
    "  "
   ]
  },
  {
   "attachments": {},
   "cell_type": "markdown",
   "metadata": {},
   "source": [
    "### Auswertungsreihenfolge der Operatoren\n",
    "\n",
    "In Python gibt es eine feste Reihenfolge, in der Operatoren in einem Ausdruck ausgewertet werden. Diese Rangfolge bzw. Präzedenzregeln heißen auf Englisch Operator Precedence (zum Nachgoogeln). Die folgende Tabelle listet die bisher bekannten Operatoren nach Auswertungspriorität: \n",
    "\n",
    "| Rang |  Operator        |\n",
    "|---------|-------------------|\n",
    "| 1 | () Klammern |\n",
    "| 2 | x[Index], x[index:index:schritt], funktion(x), x.attribut |\n",
    "| 3 | ** |\n",
    "| 4 | *, /, %|\n",
    "| 5 | +, -|\n",
    "| 6 | in, not in, is, is not, <, <=, >, >=, !=, == |\n",
    "| 7 | not x |\n",
    "| 8 | and |\n",
    "| 9 | or |"
   ]
  },
  {
   "attachments": {},
   "cell_type": "markdown",
   "metadata": {},
   "source": [
    "```{note}\n",
    "Wenn zwei Operatoren in einem Ausdruck denselben Rang haben und einen Operanden teilen, wird der Ausdruck nach der sogenannten **Assoziativität** der Operatoren ausgeführt: wenn ein Operator linksassoziativ ist, dann heißt dass, dass ein Ausdruck von links nach rechts ausgewertet wird. Wenn ein Operator rechtsassoziativ ist, wird ein Ausdruck von rechts nach links ausgewertet. Daneben gibt es auch Operatoren, die nicht assoziativ sind. Als Daumenregel könnt ihr euch merken: Die meisten Operatoren in Python sind linksassoziativ, außer der Potenzierungsoperator `**` (rechtsassoziativ) und die Vergleichsoperatoren `<`, `<=`, `>`, `>=` (nicht assoziativ). \n",
    "\n",
    "Linksassoziatitvität: ((4+5)+6)+1 = (9+6)+1 = 15+1 = 16 \n",
    "\n",
    "Rechtsassoziativität: 3**(4\\**5) = 3\\**1024 = eine sehr lange Zahl\n",
    "\n",
    "Keine Assoziativität: 4 < 5 < 6 = 4 < 5 and 5 < 6 \n",
    "\n",
    "```"
   ]
  },
  {
   "attachments": {},
   "cell_type": "markdown",
   "metadata": {},
   "source": [
    "### Quellen\n",
    "\n",
    "```{bibliography}\n",
    "   :list: enumerated\n",
    "   :filter: keywords % \"datentypen\" or keywords % \"mit_01\" or keywords % \"mit_03\" or keywords % \"strings\" or keywords % \"operatoren\" or keywords % \"encoding\"\n",
    "```"
   ]
  }
 ],
 "metadata": {
  "kernelspec": {
   "display_name": "Python 3",
   "language": "python",
   "name": "python3"
  },
  "language_info": {
   "codemirror_mode": {
    "name": "ipython",
    "version": 3
   },
   "file_extension": ".py",
   "mimetype": "text/x-python",
   "name": "python",
   "nbconvert_exporter": "python",
   "pygments_lexer": "ipython3",
   "version": "3.9.8"
  },
  "widgets": {
   "application/vnd.jupyter.widget-state+json": {
    "state": {},
    "version_major": 2,
    "version_minor": 0
   }
  }
 },
 "nbformat": 4,
 "nbformat_minor": 4
}
