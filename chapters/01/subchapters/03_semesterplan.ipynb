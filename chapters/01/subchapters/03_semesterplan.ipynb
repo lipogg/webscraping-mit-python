{
 "cells": [
  {
   "attachments": {},
   "cell_type": "markdown",
   "metadata": {},
   "source": [
    "# Semesterplan"
   ]
  },
  {
   "attachments": {},
   "cell_type": "markdown",
   "metadata": {},
   "source": [
    "| Sitzung Nr.   | Datum                  | Thema                                                                                      |\n",
    "|---------------|------------------------|--------------------------------------------------------------------------------------------|\n",
    "| 1             | 13.10.                 | Was ist Web Scraping? Was machen wir in diesem Seminar?                                    |\n",
    "| 2             | 20.10.                 | Intro Python I: Einfache Datentypen, Operatoren, Variablen                                 |\n",
    "| 3             | 27.10.                 | Intro Python II: Zusammengesetzte Datentypen und Kontrollstrukturen                        |\n",
    "| 4             | 03.11.                 | Intro Python III: Funktionen, Module, Pakete und Bibliotheken                              |\n",
    "| 5             | 10.11.                 | Intro Web Scraping mit Python; Installation und Setup                                      |\n",
    "| 6 und 7       | 24.11., 01.12.         | Anwendungsfall 1: \"Statische\" Webseiten scrapen mit Python BeautifulSoup                   |\n",
    "| 8 und 9       | 08.12., 15.12.         | Anwendungsfall 2: Inhalte aus Bibliotheken u. Archiven mithilfe von APIs beziehen (Exkurs) |\n",
    "| 10, 11 und 12 | 05.01., 12.01., 19.01. | Anwendungsfall 3: \"Dynamische\" Webseiten scrapen mit Python Selenium                       |\n",
    "| 13            | 26.01.                 | Daten bereinigen und visualisieren mit Pandas (Exkurs)                                     |\n",
    "| 14 und 15     | 02.02., 09.02.         | Fortgeschrittene Themen                                                       |"
   ]
  },
  {
   "attachments": {},
   "cell_type": "markdown",
   "metadata": {},
   "source": [
    "Je nachdem, ob und, falls ja, wie viele Vorkenntnisse ihr habt, wird die Lernkurve in den ersten paar Sitzungen recht steil sein. Es ist wichtig, dass ihr euch die Inhalte von Anfang an mithilfe der wöchentlichen Quizze und Übungen einprägt. Wenn wir uns eine Grundlage erarbeitet haben und sich erste Erfolge einstellen, wird sich die anfängliche Arbeit auszahlen!"
   ]
  },
  {
   "cell_type": "code",
   "execution_count": 3,
   "metadata": {
    "tags": [
     "remove-input"
    ]
   },
   "outputs": [],
   "source": [
    "import plotly.express as px\n",
    "import pandas as pd\n",
    "from itertools import repeat"
   ]
  },
  {
   "cell_type": "code",
   "execution_count": null,
   "metadata": {
    "tags": [
     "remove-input"
    ],
    "pycharm": {
     "is_executing": true
    }
   },
   "outputs": [],
   "source": [
    "\n",
    "sitzung = [1, 2, 3, 4, 5, 6, 7, 8, 9, 10, 11, 12, 1, 2, 3, 4, 5, 6, 7, 8, 9, 10, 11, 12]\n",
    "inhalte = [2, 12, 22, 32, 35, 45, 50, 53, 55, 58, 60, 64, 25, 28, 30, 34, 37, 45, 50, 53, 55, 58, 60, 64]\n",
    "vk = list(repeat(\"Ohne Vorkenntnisse\", 12)) + list(repeat(\"Mit Vorkenntnissen\", 12))\n",
    "\n",
    "df = pd.DataFrame(list(zip(sitzung, inhalte, vk)), columns=[\"Sitzung Nr.\", \"Erlernte Inhalte\", \"Vorkenntnisse\"])\n",
    "\n",
    "fig = px.line(df, x=sitzung, y=inhalte, color=vk, labels={\"x\": \"Sitzung Nr.\", \"y\": \"Erlernte Inhalte\", \"color\":\"Vorkenntnisse\"}, title=\"Lernkurve für dieses Seminar\") \n",
    "\n",
    "fig.show()"
   ]
  }
 ],
 "metadata": {
  "kernelspec": {
   "display_name": "Python 3",
   "language": "python",
   "name": "python3"
  },
  "language_info": {
   "codemirror_mode": {
    "name": "ipython",
    "version": 3
   },
   "file_extension": ".py",
   "mimetype": "text/x-python",
   "name": "python",
   "nbconvert_exporter": "python",
   "pygments_lexer": "ipython3",
   "version": "3.9.6"
  },
  "widgets": {
   "application/vnd.jupyter.widget-state+json": {
    "state": {},
    "version_major": 2,
    "version_minor": 0
   }
  }
 },
 "nbformat": 4,
 "nbformat_minor": 4
}
