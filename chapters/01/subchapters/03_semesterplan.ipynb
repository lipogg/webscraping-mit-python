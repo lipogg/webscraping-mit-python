{
 "cells": [
  {
   "attachments": {},
   "cell_type": "markdown",
   "metadata": {},
   "source": [
    "# Semesterplan"
   ]
  },
  {
   "attachments": {},
   "cell_type": "markdown",
   "metadata": {},
   "source": [
    "| Sitzung Nr.   | Datum             | Thema                                                                                 |\n",
    "|---------------|-------------------|---------------------------------------------------------------------------------------|\n",
    "| 1             | 14.10.            | Was ist Web Scraping? Was machen wir in diesem Seminar?                               |\n",
    "| 2             | 21.10.            | Intro Python I: Einfache Datentypen, Operatoren, Variablen                            |\n",
    "| 3             | 28.10.            | Intro Python II: Zusammengesetzte Datentypen und Kontrollstrukturen                   |\n",
    "| 4             | 4.11.             | Intro Python III: Funktionen, Module, Pakete und Bibliotheken                         |\n",
    "| 5             | 11.11.            | Installation und Setup      |\n",
    "| 6             | 18.11.            | Intro Webscraping mit Python |\n",
    "| 7 und 8       | 25.11., 2.12.     | Anwendungsfall 1: Statische Webseiten scrapen mit Python Beautiful Soup               |\n",
    "| 9 und 10      | 9.12., 16.12.     | Anwendungsfall 2: Inhalte aus Bibliotheken u. Archiven mithilfe von APIs beziehen (Exkurs) |\n",
    "| 11, 12 und 13 | 6.1., 13.1, 20.1. | Anwendungsfall 3: Dynamische Webseiten scrapen mit Python Selenium                    |\n",
    "| 14 und 15     | 27.1., 3.2.       | Daten bereinigen mit Pandas   |\n",
    "| 16            | 10.2.             | Arbeit an den Projekten / Ausblick für Fortgeschrittene: Scrapy |"
   ]
  },
  {
   "attachments": {},
   "cell_type": "markdown",
   "metadata": {},
   "source": [
    "\n",
    "Je nachdem, ob und, falls ja, wie viele Vorkenntnisse ihr habt, wird die Lernkurve in den ersten paar Sitzungen recht steil sein. Es ist wichtig, dass ihr euch die Inhalte von Anfang an mithilfe der wöchentlichen Quizze und Übungen einprägt. Wenn wir uns eine Grundlage erarbeitet haben und sich erste Erfolge einstellen, wird sich die anfängliche Arbeit auszahlen!"
   ]
  },
  {
   "cell_type": "code",
   "execution_count": 3,
   "metadata": {
    "tags": [
     "remove-input"
    ]
   },
   "outputs": [],
   "source": [
    "import plotly.express as px\n",
    "import pandas as pd\n",
    "from itertools import repeat"
   ]
  },
  {
   "cell_type": "code",
   "execution_count": null,
   "metadata": {
    "tags": [
     "remove-input"
    ],
    "pycharm": {
     "is_executing": true
    }
   },
   "outputs": [],
   "source": [
    "\n",
    "sitzung = [1, 2, 3, 4, 5, 6, 7, 8, 9, 10, 11, 12, 13, 14, 15, 16, 1, 2, 3, 4, 5, 6, 7, 8, 9, 10, 11, 12, 13, 14, 15, 16]\n",
    "inhalte = [2, 12, 22, 32, 35, 45, 50, 53, 55, 58, 60, 64, 66, 68, 69, 71, 25, 28, 30, 34, 37, 45, 50, 53, 55, 58, 60, 64, 66, 68, 69, 71]\n",
    "vk = list(repeat(\"Ohne Vorkenntnisse\", 16)) + list(repeat(\"Mit Vorkenntnissen\", 16))\n",
    "\n",
    "df = pd.DataFrame(list(zip(sitzung, inhalte, vk)), columns=[\"Sitzung Nr.\", \"Erlernte Inhalte\", \"Vorkenntnisse\"])\n",
    "\n",
    "fig = px.line(df, x=sitzung, y=inhalte, color=vk, labels={\"x\": \"Sitzung Nr.\", \"y\": \"Erlernte Inhalte\", \"color\":\"Vorkenntnisse\"}, title=\"Lernkurve für dieses Seminar\") \n",
    "\n",
    "fig.show()"
   ]
  }
 ],
 "metadata": {
  "kernelspec": {
   "display_name": "Python 3",
   "language": "python",
   "name": "python3"
  },
  "language_info": {
   "codemirror_mode": {
    "name": "ipython",
    "version": 3
   },
   "file_extension": ".py",
   "mimetype": "text/x-python",
   "name": "python",
   "nbconvert_exporter": "python",
   "pygments_lexer": "ipython3",
   "version": "3.9.6"
  },
  "widgets": {
   "application/vnd.jupyter.widget-state+json": {
    "state": {},
    "version_major": 2,
    "version_minor": 0
   }
  }
 },
 "nbformat": 4,
 "nbformat_minor": 4
}
