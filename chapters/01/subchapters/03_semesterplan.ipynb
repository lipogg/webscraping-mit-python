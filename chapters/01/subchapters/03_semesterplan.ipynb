{
 "cells": [
  {
   "attachments": {},
   "cell_type": "markdown",
   "metadata": {},
   "source": [
    "# Semesterplan"
   ]
  },
  {
   "attachments": {},
   "cell_type": "markdown",
   "metadata": {},
   "source": [
    "| Sitzung Nr.   | Datum           | Thema                                                                                      |\n",
    "|---------------|-----------------|--------------------------------------------------------------------------------------------|\n",
    "| 1             | 19.10.          | Was ist Web Scraping? Was machen wir in diesem Seminar?                                    |\n",
    "| 2             | 26.10.          | Intro Python I: Einfache Datentypen, Operatoren, Variablen                                 |\n",
    "| 3             | 02.11.          | Intro Python II: Zusammengesetzte Datentypen und Kontrollstrukturen                        |\n",
    "| 4             | 09.11.          | Intro Python III: Funktionen, Pakete, Bibliotheken und Dateien                             |\n",
    "| 5             | 16.11.          | Installation und Setup                                                                     |\n",
    "| 6             | 23.11.          | Intro Webscraping mit Python                                                               |\n",
    "| 7 und 8       | 30.11., 07.12.  | Andwendungsfall 1: Statische Webseiten scrapen mit Python Beautiful Soup                   |\n",
    "| 9 und 10      | 14.12., 21.12.  | Anwendungsfall 2: Inhalte aus Bibliotheken u. Archiven mithilfe von APIs beziehen (Exkurs) |\n",
    "| 11, 12 und 13 | 11., 18., 25.01. | Anwendungsfall 3: Dynamische Webseiten scrapen mit Python Selenium                         |\n",
    "| 14 und 15     | 01., 08.02.     | Daten bereinigen mit Pandas                                                              |\n",
    "| 16            | 15.02.          | Arbeit an den Projekten / Ausblick für Fortgeschrittene: Scrapy                            |"
   ]
  },
  {
   "attachments": {},
   "cell_type": "markdown",
   "metadata": {},
   "source": [
    "Die Sitzung am 21.12. wird ONLINE stattfinden. Die Sitzung am 16.11. wird HYBRID stattfinden.\n",
    "\n",
    "Je nachdem, ob und, falls ja, wie viele Vorkenntnisse ihr habt, wird die Lernkurve in den ersten paar Sitzungen recht steil sein. Es ist wichtig, dass ihr euch die Inhalte von Anfang an mithilfe der wöchentlichen Quizze und Übungen einprägt. Wenn wir uns eine Grundlage erarbeitet haben und sich erste Erfolge einstellen, wird sich die anfängliche Arbeit auszahlen!"
   ]
  },
  {
   "cell_type": "code",
   "execution_count": 3,
   "metadata": {
    "tags": [
     "remove-input"
    ]
   },
   "outputs": [],
   "source": [
    "import plotly.express as px\n",
    "import pandas as pd\n",
    "from itertools import repeat"
   ]
  },
  {
   "cell_type": "code",
   "execution_count": null,
   "metadata": {
    "tags": [
     "remove-input"
    ],
    "pycharm": {
     "is_executing": true
    }
   },
   "outputs": [],
   "source": [
    "\n",
    "sitzung = [1, 2, 3, 4, 5, 6, 7, 8, 9, 10, 11, 12, 13, 14, 15, 16, 1, 2, 3, 4, 5, 6, 7, 8, 9, 10, 11, 12, 13, 14, 15, 16]\n",
    "inhalte = [2, 12, 22, 32, 35, 45, 50, 53, 55, 58, 60, 64, 66, 68, 69, 69, 25, 28, 30, 34, 37, 45, 50, 53, 55, 58, 60, 64, 66, 68, 69, 69]\n",
    "vk = list(repeat(\"Ohne Vorkenntnisse\", 16)) + list(repeat(\"Mit Vorkenntnissen\", 16))\n",
    "\n",
    "df = pd.DataFrame(list(zip(sitzung, inhalte, vk)), columns=[\"Sitzung Nr.\", \"Erlernte Inhalte\", \"Vorkenntnisse\"])\n",
    "\n",
    "fig = px.line(df, x=sitzung, y=inhalte, color=vk, labels={\"x\": \"Sitzung Nr.\", \"y\": \"Erlernte Inhalte\", \"color\":\"Vorkenntnisse\"}, title=\"Lernkurve für dieses Seminar\") \n",
    "\n",
    "fig.show()"
   ]
  }
 ],
 "metadata": {
  "kernelspec": {
   "display_name": "Python 3",
   "language": "python",
   "name": "python3"
  },
  "language_info": {
   "codemirror_mode": {
    "name": "ipython",
    "version": 3
   },
   "file_extension": ".py",
   "mimetype": "text/x-python",
   "name": "python",
   "nbconvert_exporter": "python",
   "pygments_lexer": "ipython3",
   "version": "3.9.6"
  },
  "widgets": {
   "application/vnd.jupyter.widget-state+json": {
    "state": {},
    "version_major": 2,
    "version_minor": 0
   }
  }
 },
 "nbformat": 4,
 "nbformat_minor": 4
}
