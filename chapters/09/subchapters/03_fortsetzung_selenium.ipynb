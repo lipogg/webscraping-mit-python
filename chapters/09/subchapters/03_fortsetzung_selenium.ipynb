{
 "cells": [
  {
   "cell_type": "markdown",
   "source": [
    "# Fortsetzung Selenium"
   ],
   "metadata": {
    "collapsed": false
   }
  },
  {
   "cell_type": "markdown",
   "source": [
    "In der letzten Woche haben wir uns angesehen, wie wir Zitate von der Seite https://quotes.toscrape.com/js/ mithilfe von Selenium scrapen können. Dabei haben wir Selenium in der Version 3 und den Python webdriver-manager verwendet. Wir haben uns dazu ein Beispielskript von Lewis Kori angesehen, das ebenfalls Selenium 3-Funktionen verwendet. Im Internet findet man zudem viele Tutorials und Beispielskripte, die Selenium 3 verwenden. In dieser Stunde werden wir aber nun doch auf Selenium 4 umsteigen. Denn in Selenium ab der Version 4.6 gibt es einige Verbesserungen: Es gibt zum Beispiel einen eigenen Selenium Manager, der den Python webdriver-manager ersetzt. Daneben gibt es Möglichkeiten, vor dem Aufruf der Seite einen geografischen Standort anzugeben. So kann eine Webseite in verschiedenen Versionen aufgerufen werden.  Leider haben sich auch einige Funktions- bzw. Methodennamen in Selenium 4 gegenüber Selenium 3 geändert, zum Beispiel die Methode find_element_by_class_name(), die wir bereits verwendet haben.\n",
    "\n",
    "### Upgrade von Selenium 3 auf 4\n",
    "\n",
    "Das Upgrade auf Selenium 4 birgt allerdings einige Fallstricke, weswegen ich mich zunächst dagegen entschieden hatte: Zum einen kann es sein, dass Selenium 4 bei euch langsamer ist als Selenium 3. Zum anderen kann der Selenium Manager aktuell noch nicht in der Anaconda-Distribution von Selenium 4 verwendet werden (siehe dazu [diese Diskussion](https://github.com/SeleniumHQ/selenium/issues/11234)). Und zuletzt kann es sein, dass ihr zunächst Anaconda aktualisieren müsst, um Selenium 4 installieren zu können. Um Anaconda zu aktualisieren, müsst ihr über das Terminal / Command Prompt zunächst den Befehl `conda update conda` ausführen, danach könnt ihr die virtuelle Umgebung aktivieren und Jupyter Lab wieder wie gewohnt starten.\n",
    "\n",
    "Um von Selenium 3 auf Selenium 4 umzusteigen, muss leider zunächst den webdriver-manager wieder deinstalliert werden. Das geht mit dem folgenden Code:"
   ],
   "metadata": {
    "collapsed": false
   }
  },
  {
   "cell_type": "code",
   "execution_count": null,
   "outputs": [],
   "source": [
    "# import sys\n",
    "# !conda remove --yes --prefix {sys.prefix} webdriver-manager"
   ],
   "metadata": {
    "collapsed": false
   }
  },
  {
   "cell_type": "markdown",
   "source": [
    "Jetzt könnt ihr versuchen, direkt Selenium 4 zu installieren. Da es wie bereits erwähnt ein Problem bei der Verwendung von Selenium Manager in der Anaconda-Distribution von Selenium 4 gibt, installieren wir Selenium 4 ausnahmsweise via pip, den Standard-Paketmanager für Python-Pakete. Das Ausrufezeichen vor pip braucht ihr, wenn ihr pip aus dem Jupyter Notebook heraus verwendet:"
   ],
   "metadata": {
    "collapsed": false
   }
  },
  {
   "cell_type": "code",
   "execution_count": null,
   "outputs": [],
   "source": [
    "# !pip install selenium==4.6.0"
   ],
   "metadata": {
    "collapsed": false
   }
  },
  {
   "cell_type": "markdown",
   "source": [
    "Jetzt solltet ihr überprüfen, ob webdriver-manager erfolgreich deinstalliert und Selenium 4 installiert wurde:"
   ],
   "metadata": {
    "collapsed": false
   }
  },
  {
   "cell_type": "code",
   "execution_count": null,
   "outputs": [],
   "source": [
    "# !conda list # wurden die Pakete aktualisiert?\n",
    "# selenium.__version__ # Selenium-Version überprüfen"
   ],
   "metadata": {
    "collapsed": false
   }
  },
  {
   "cell_type": "markdown",
   "source": [
    "Wenn in der Liste immer noch Selenium 3 steht, müsst ihr zunächst Selenium 3 deinstallieren, und dann Selenium 4 via pip installieren:"
   ],
   "metadata": {
    "collapsed": false
   }
  },
  {
   "cell_type": "code",
   "execution_count": null,
   "outputs": [],
   "source": [
    "# !conda remove --yes --prefix {sys.prefix} selenium"
   ],
   "metadata": {
    "collapsed": false
   }
  },
  {
   "cell_type": "markdown",
   "source": [
    "Manchmal gibt es ein Problem mit der Installation von Paketen via pip im Zusammenhang mit Anaconda. Falls das bei euch der Fall sein sollte, schaut euch diese Lösungsstrategien an: https://stackoverflow.com/questions/41060382/using-pip-to-install-packages-to-anaconda-environment."
   ],
   "metadata": {
    "collapsed": false
   }
  },
  {
   "cell_type": "markdown",
   "source": [
    "\n",
    "### Ortsangaben zu Unterkünften von airbnb.com scrapen\n",
    "\n",
    "Bei der Bearbeitung des Übungsblatts zur heutigen Stunde habt ihr Ortstangaben zu Unterkünften auf der Startseite von https://www.airbnb.com/ extrahiert. Die Lösung mit Selenium 3 sah bei euch wahrscheinlich in etwa so aus:"
   ],
   "metadata": {
    "collapsed": false
   }
  },
  {
   "cell_type": "code",
   "execution_count": null,
   "outputs": [],
   "source": [
    "# from selenium import webdriver\n",
    "# from webdriver_manager.chrome import ChromeDriverManager\n",
    "# import time\n",
    "\n",
    "# driver = webdriver.Chrome(ChromeDriverManager().install())\n",
    "# driver.get(\"https://www.airbnb.com/\")\n",
    "# time.sleep(5)\n",
    "# unterkuenfte = driver.find_elements_by_class_name(\"t1jojoys.dir.dir-ltr\") #t1jojoys dir dir-ltr\n",
    "# unterkuenfte_orte = [unterkunft.text for unterkunft in unterkuenfte]\n",
    "# unterkuenfte_orte"
   ],
   "metadata": {
    "collapsed": false
   }
  },
  {
   "cell_type": "markdown",
   "source": [
    "Jetzt reproduzieren wir die Aufgabe mit Selenium 4. Beachtet, dass die Methode find_element_by_class_name(\"name_der_klasse\") in Selenium 4 ersetzt wurde durch find_elements(By.CLASS_NAME, \"name_der_klasse\"). Beachtet auch, dass anstelle des Python webdriver-managers jetzt der  Selenium Manager verwendet wird, sodass die Funktion webdriver.Chrome() ohne Argument aufgerufen wird. Alles andere ist genau so wie vorher."
   ],
   "metadata": {
    "collapsed": false
   }
  },
  {
   "cell_type": "code",
   "execution_count": null,
   "outputs": [],
   "source": [
    "# from selenium import webdriver\n",
    "# from selenium.webdriver.common.selenium_manager import SeleniumManager\n",
    "# from selenium.webdriver.common.by import By\n",
    "# import time\n",
    "\n",
    "# driver = webdriver.Chrome()\n",
    "# driver.get(\"https://www.airbnb.com/\")\n",
    "# time.sleep(5) # hier reichen 5 Sekunden eventuell nicht\n",
    "# unterkuenfte = driver.find_elements(By.CLASS_NAME, \"t1jojoys.dir.dir-ltr\")\n",
    "# unterkuenfte_orte = [unterkunft.text for unterkunft in unterkuenfte]\n",
    "# unterkuenfte_orte"
   ],
   "metadata": {
    "collapsed": false
   }
  },
  {
   "cell_type": "markdown",
   "source": [
    "Unser Ortsnamen-Scraper hat aber nicht alle Ortsangaben extrahiert, sondern nur die ersten 20. Woran liegt das? Die Seite verwendet infinite scrolling; Seiteninhalte werden also erst geladen, wenn auf der Seite heruntergescrollt wird."
   ],
   "metadata": {
    "collapsed": false
   }
  },
  {
   "cell_type": "markdown",
   "source": [
    "### Infinite Scrolling simulieren\n",
    "\n",
    "Wir müssen also zunächst das Durchscrollen der Seite simulieren, damit alle Inhalte geladen werden. Dazu können wir wieder den Code von jemand anderem verwenden, denn das Scrolling funktioniert immer genau gleich. Wir richten uns nach dem Blogbeitrag von [Kuan Wei](https://medium.com/analytics-vidhya/using-python-and-selenium-to-scrape-infinite-scroll-web-pages-825d12c24ec7):"
   ],
   "metadata": {
    "collapsed": false
   }
  },
  {
   "cell_type": "code",
   "execution_count": null,
   "outputs": [],
   "source": [
    "# scroll_pause_time = 1 # You can set your own pause time. My laptop is a bit slow so I use 1 sec\n",
    "# screen_height = driver.execute_script(\"return window.screen.height;\")   # get the screen height of the web\n",
    "# i = 1"
   ],
   "metadata": {
    "collapsed": false
   }
  },
  {
   "cell_type": "markdown",
   "source": [
    "Im Code oben wird zunächst im Browser das JavaScript Code-Snippet return window.screen.height ausgeführt, um  die Höhe des Bildschirms, auf dem das aktuelle Browserfenster angezeigt wird, in Pixeln abzurufen. Bei window.screen handelt es sich um ein JavaScript-Objekt, bei .height um ein Attribut des Objekts window.screen, und return ist das JavaScript-Pendant zur return-Anweisung in Python, die in Funktionsaufrufen verwendet wird, um einen Wert zurückzugeben. Wie genau diese Werte extrahiert werden, müssen wir nicht unbedingt wissen, um den Code zu verwenden. Aber wenn sich jemand nähergehend damit beschäftigen möchte, empfehle ich diese Seite: https://www.webtechnologien.com/advanced-tutorials/javascript-bom/."
   ],
   "metadata": {
    "collapsed": false
   }
  },
  {
   "cell_type": "code",
   "execution_count": null,
   "outputs": [],
   "source": [
    "# screen_height"
   ],
   "metadata": {
    "collapsed": false
   }
  },
  {
   "cell_type": "code",
   "execution_count": null,
   "outputs": [],
   "source": [
    "# while True:\n",
    "#     # scroll one screen height each time\n",
    "#     driver.execute_script(\"window.scrollTo(0, {screen_height}*{i});\".format(screen_height=screen_height, i=i))\n",
    "#     i += 1\n",
    "#     time.sleep(scroll_pause_time)\n",
    "#     # update scroll height each time after scrolled, as the scroll height can change after we scrolled the page\n",
    "#     scroll_height = driver.execute_script(\"return document.body.scrollHeight;\")\n",
    "#     # Break the loop when the height we need to scroll to is larger than the total scroll height\n",
    "#     if (screen_height) * i > scroll_height:\n",
    "#         break"
   ],
   "metadata": {
    "collapsed": false
   }
  },
  {
   "cell_type": "markdown",
   "source": [
    "Was macht die while-Schleife? Es wird wieder auf die Methode execute_script() des Webdriver-Objekts driver zurückgegriffen, um ein JavaScript-Code-Snippet auszuführen. Danach wird die Zählvariable i erhöht und die mit der Variable scroll_pause_time festgelegte Wartezeit eingeleitet, und anschließend wird ein weiteres JavaScript-Code-Snippet ausgeführt. Das erste JavaScript Code Snippet führt das eigentliche Scrollen aus, wobei in jedem Schleifendurchlauf genau so weit gescrollt wird, wie der Bildschirm hoch ist (= screen_height): Im ersten Durchlauf bis screen_height, im zweiten Durchlauf bis 2*screen_height, usw. Das zweite Snippet ruft die Höhe des scrollbaren Seiteninhalts auf, also sowohl der sichtbare als auch der noch unsichtbare, durch Scrollen erreichbare Seiteninhalt.\n",
    "Zuletzt wird überprüft, ob im nachfolgenden Schleifendurchlauf (also mit i+=1) der geplante zu scrollende Bereich größer ist als der insgesamt scrollbare Seiteninhalt. Wenn dies der Fall ist, wird die Schleife terminiert.\n",
    "\n",
    "Wenn die while-Schleife terminiert, ist der gesamte Seiteninhalt durchscrollt und gerendert. Anschließend können wieder die Ortsangaben extrahiert werden: find_elements() findet jetzt nicht nur die ersten 20 Suchergebnisse, sondern alle Ergebnisse."
   ],
   "metadata": {
    "collapsed": false
   }
  },
  {
   "cell_type": "code",
   "execution_count": null,
   "outputs": [],
   "source": [
    "# unterkuenfte = driver.find_elements(By.CLASS_NAME, \"t1jojoys.dir.dir-ltr\")\n",
    "# unterkuenfte_orte = [unterkunft.text for unterkunft in unterkuenfte]\n",
    "# unterkuenfte_orte"
   ],
   "metadata": {
    "collapsed": false
   }
  },
  {
   "cell_type": "markdown",
   "source": [
    "Zuletzt schließen wir das aktuelle Browserfenster und die Session, also die Sitzung, welche durch den Aufruf des Chrome Webdrivers gestartet wird:"
   ],
   "metadata": {
    "collapsed": false
   }
  },
  {
   "cell_type": "code",
   "execution_count": null,
   "outputs": [],
   "source": [
    "# driver.quit()"
   ],
   "metadata": {
    "collapsed": false
   }
  },
  {
   "cell_type": "markdown",
   "source": [
    "### Suche benutzen, Mausklick und Tastatureingabe simulieren"
   ],
   "metadata": {
    "collapsed": false
   }
  },
  {
   "cell_type": "markdown",
   "source": [
    "Als nächstes sehen wir uns an, wie mithilfe von Selenium 4 die Suchmaske auf airbnb.com verwendet werden kann und, wie Buttons via Mausklick betätigt und eine Tastatureingabe getätigt werden können.\n",
    "\n",
    "Zunächst starten wir wieder den Webdriver und senden eine Anfrage für die Seite https://www.airbnb.com/."
   ],
   "metadata": {
    "collapsed": false
   }
  },
  {
   "cell_type": "code",
   "execution_count": null,
   "outputs": [],
   "source": [
    "# from selenium import webdriver\n",
    "# from selenium.webdriver.common.selenium_manager import SeleniumManager\n",
    "# from selenium.webdriver.common.by import By\n",
    "# import time\n",
    "\n",
    "# driver = webdriver.Chrome()\n",
    "# driver.get(\"https://www.airbnb.com/\")"
   ],
   "metadata": {
    "collapsed": false
   }
  },
  {
   "cell_type": "markdown",
   "source": [
    "Als nächstes wollen wir nach Unterkünften in Berlin suchen. Dazu führen wir die Suche einmal in unserem regulären Chrome Browser aus, um herauszufinden, mit welchen Bestandteilen des User Interfaces bei der Suche interagiert werden muss. Als erstes muss auf den Suchbutton geklickt werden:\n",
    "\n",
    ":::{figure-md}\n",
    "<img src=\"beispiel_airbnb_1.png\" alt=\"Airbnb Beispiel\" class=\"bg-transparent\" width=\"75%\">\n",
    "\n",
    "Abb. 1: Beispiel Airbnb\n",
    ":::\n",
    "\n",
    "Um den Mausklick auf den Button zu simulieren, müssen wir erst das Element finden und anschließend mithilfe der Methode .click() den Mausklick simulieren. In diesem Fall suchen wir das Element mithilfe des class-Attributs, weil wir mithilfe einer Suche im Quelltext (Strg+F) leicht feststellen können, dass es kein weiteres Element mit dem Attribut class=\"s19wqnbx dir dir-ltr\" gibt."
   ],
   "metadata": {
    "collapsed": false
   }
  },
  {
   "cell_type": "code",
   "execution_count": null,
   "outputs": [],
   "source": [
    "# Auf den Suchbutton klicken: Sonst ist das Suchfeld nicht sichtbar\n",
    "# driver.find_element(By.CLASS_NAME, \"s19wqnbx.dir.dir-ltr\").click()"
   ],
   "metadata": {
    "collapsed": false
   }
  },
  {
   "cell_type": "markdown",
   "source": [
    "Nach dem Klick auf den Suchbutton öffnet sich ein Suchfeld, in dem wir unseren Suchbegriff eingeben können. Im regulären Chrome-Browser können wir, wieder mithilfe der Entwicklertools, feststellen, dass das Suchfeld über ein HTML-input-Element dargestellt wird:\n",
    "\n",
    ":::{figure-md}\n",
    "<img src=\"beispiel_airbnb_2.png\" alt=\"Airbnb Beispiel\" class=\"bg-transparent\" width=\"75%\">\n",
    "\n",
    "Abb. 2: Beispiel Airbnb\n",
    ":::"
   ],
   "metadata": {
    "collapsed": false
   }
  },
  {
   "cell_type": "markdown",
   "source": [
    "Um einen Suchbegriff eingeben zu können, muss das input-Element zunächst gefunden werden. In diesem Fall hat das gesuchte HTML-Element nicht nur ein Attribut class, sondern auch ein Attribut id mit dem Wert, \"bigsearch-query-location-input\", welches erlaubt, das Element eindeutig zu identifizieren. Zur Suche können wir nun entweder find_element(By.ID, \"id_des_elements\") oder find_element(By.XPATH, \"xpath_ausdruck\") verwenden. XPath ist eine sogenannte Pfadbeschreibungssprache, die zur Suche in XML- und HTML-Dokumenten verwendet wird. Um XPath-Ausdrücke zu verwenden, müssen wir uns aber nicht mit XPath auskennen, denn auch dabei helfen die Browser-Entwicklertools. Der XPath-Ausdruck, der den Pfad zu einem bestimmten Element beschreibt, kann ganz einfach mit Rechtsklick auf ein Element und die Option Copy -> Copy XPath kopiert werden.\n",
    "\n",
    ":::{figure-md}\n",
    "<img src=\"beispiel_airbnb_3.png\" alt=\"Airbnb Beispiel\" class=\"bg-transparent\" width=\"75%\">\n",
    "\n",
    "Abb. 3: Beispiel Airbnb\n",
    ":::\n",
    "\n",
    "Der XPath zum gesuchten input-Element ist //*\\[@id=\"bigsearch-query-location-input\"\\]. Das * steht für ein beliebiges HTML-Element, aber wir können auch den Namen des HTML-Elements einsetzen, um bei vielen XPath-Ausdrücken den Überblick zu behalten:"
   ],
   "metadata": {
    "collapsed": false
   }
  },
  {
   "cell_type": "code",
   "execution_count": null,
   "outputs": [],
   "source": [
    "# Input-Element finden, in das die Suchbgegriffe eingegeben werden können\n",
    "# suchfeld = driver.find_element(By.XPATH, \"//input[@id='bigsearch-query-location-input']\")"
   ],
   "metadata": {
    "collapsed": false
   }
  },
  {
   "cell_type": "markdown",
   "source": [
    "Beachtet, dass im Code oben die inneren Anführungszeichen angepasst wurden, um sie von den doppelten äußeren Anführungszeichen zu unterscheiden. Das ist unbedingt notwendig, weil sonst der XPath-Ausdruck nicht richtig interpretiert werden kann.\n",
    "\n",
    "Wenn das Element gefunden ist, kann es mithilfe der Methode send_keys() zur Eingabe eines Suchbegriffs addressiert werden."
   ],
   "metadata": {
    "collapsed": false
   }
  },
  {
   "cell_type": "code",
   "execution_count": null,
   "outputs": [],
   "source": [
    "# Suchbegriff eingeben\n",
    "# suchfeld.send_keys(\"Berlin\")"
   ],
   "metadata": {
    "collapsed": false
   }
  },
  {
   "cell_type": "markdown",
   "source": [
    "Die Suche muss anschließend noch durch Betätigung der Enter-Taste bestätigt werden:"
   ],
   "metadata": {
    "collapsed": false
   }
  },
  {
   "cell_type": "code",
   "execution_count": null,
   "outputs": [],
   "source": [
    "# Tasteneingabe ENTER\n",
    "# from selenium.webdriver.common.keys import Keys\n",
    "# suchfeld.send_keys(Keys.ENTER)"
   ],
   "metadata": {
    "collapsed": false
   }
  },
  {
   "cell_type": "markdown",
   "source": [
    "Durch Bestätigung der Suche mit Enter wird automatisch ein Fenster zur Auswahl eines Reisetermins geöffnet. Hier wollen wir die Option \"flexible\" auswählen. Dazu müssen wir zunächst wieder das gesuchte Element identifizieren:\n",
    "\n",
    ":::{figure-md}\n",
    "<img src=\"beispiel_airbnb_4.png\" alt=\"Airbnb Beispiel\" class=\"bg-transparent\" width=\"75%\">\n",
    "\n",
    "Abb. 4: Beispiel Airbnb\n",
    ":::\n",
    "\n",
    "Das gesuchte HTML-Element hat wieder eine ID, über die es eindeutig identifiziert werden kann. Diesmal verwenden wir find_element(By.ID, \"id_des_elements\"), damit ihr diese Verwendung der find_element-Methode auch einmal gesehen habt. Die Id könnt ihr einfach aus den Browser-Entwicklertools mit Doppelklick auf das Id-Attribut kopieren."
   ],
   "metadata": {
    "collapsed": false
   }
  },
  {
   "cell_type": "code",
   "execution_count": null,
   "outputs": [],
   "source": [
    "# Zeit aussuchen: Flexible\n",
    "# driver.find_element(By.ID, \"tab--tabs--2\").click()"
   ],
   "metadata": {
    "collapsed": false
   }
  },
  {
   "cell_type": "markdown",
   "source": [
    "Zuletzt müssen wir unsere Suche noch mit Klick auf den Suchbutton bestätigen. In diesem Fall wird über Rechtsklick auf den Suchbutton und Auswahl der Option \"Inspect\" allerdings nicht ganz das richtige Element gefunden: Gefunden wird das span-Element mit dem Attribut class=\"t1dqvypu dir dir-ltr\"; gesucht haben wir aber eigentlich den gesamten Suchbutton, also das button-Element mit dem Attribut class=\"brqqy3t bd1b9vv dir dir-ltr\". Bei der Verwendung von \"Inspect\" ist also immer Mitdenken erforderlich, denn nicht immer wird ganz genau das Element getroffen, das gesucht wird.\n",
    "\n",
    ":::{figure-md}\n",
    "<img src=\"beispiel_airbnb_5.png\" alt=\"Airbnb Beispiel\" class=\"bg-transparent\" width=\"75%\">\n",
    "\n",
    "Abb. 5: Beispiel Airbnb\n",
    ":::\n",
    "\n",
    "Um den Suchbutton zu klicken, überprüfen wir erst, ob die Klasse \"brqqy3t bd1b9vv dir dir-ltr\" noch einmal verwendet wird. Dies ist nicht der Fall, sodass wir das class-Attribut auch in diesem Fall zur eindeutigen Suche nach dem button-Element verwenden können:"
   ],
   "metadata": {
    "collapsed": false
   }
  },
  {
   "cell_type": "code",
   "execution_count": null,
   "outputs": [],
   "source": [
    "# Auf den Suchbutton klicken: Suche bestätigen\n",
    "# driver.find_element(By.CLASS_NAME, \"brqqy3t.bd1b9vv.dir.dir-ltr\").click() # Punkte statt Leerzeichen"
   ],
   "metadata": {
    "collapsed": false
   }
  },
  {
   "cell_type": "markdown",
   "source": [
    "Zuallerletzt führen wir wieder den Code aus der Übungsaufgabe aus, um alle Ortsangaben von den ersten 20 vorgeladenen Suchergebnissen zu extrahieren, und beenden die Session:"
   ],
   "metadata": {
    "collapsed": false
   }
  },
  {
   "cell_type": "code",
   "execution_count": null,
   "outputs": [],
   "source": [
    "# Orte extrahieren\n",
    "# unterkuenfte = driver.find_elements(By.CLASS_NAME, \"t1jojoys.dir.dir-ltr\")\n",
    "# unterkuenfte_orte = [unterkunft.text for unterkunft in unterkuenfte]\n",
    "# unterkuenfte_orte"
   ],
   "metadata": {
    "collapsed": false
   }
  },
  {
   "cell_type": "code",
   "execution_count": null,
   "outputs": [],
   "source": [
    "# driver.quit()"
   ],
   "metadata": {
    "collapsed": false
   }
  },
  {
   "cell_type": "markdown",
   "source": [
    "### Quellen\n",
    "\n",
    "```{bibliography}\n",
    "   :list: enumerated\n",
    "   :filter: keywords % \"sel_2\"\n",
    "```"
   ],
   "metadata": {
    "collapsed": false
   }
  }
 ],
 "metadata": {
  "kernelspec": {
   "name": "python3",
   "language": "python",
   "display_name": "Python 3 (ipykernel)"
  },
  "language_info": {
   "codemirror_mode": {
    "name": "ipython",
    "version": 3
   },
   "file_extension": ".py",
   "mimetype": "text/x-python",
   "name": "python",
   "nbconvert_exporter": "python",
   "pygments_lexer": "ipython3",
   "version": "3.8.0"
  },
  "widgets": {
   "application/vnd.jupyter.widget-state+json": {
    "state": {},
    "version_major": 2,
    "version_minor": 0
   }
  }
 },
 "nbformat": 4,
 "nbformat_minor": 4
}
