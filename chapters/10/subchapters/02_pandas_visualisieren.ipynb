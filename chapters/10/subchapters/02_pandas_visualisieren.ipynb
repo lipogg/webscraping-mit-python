{
 "cells": [
  {
   "cell_type": "markdown",
   "metadata": {
    "collapsed": false
   },
   "source": [
    "# Daten visualisieren\n",
    "\n",
    "In diesem Abschnitt betrachten wir, wie die Daten in einem Pandas Dataframe visualisiert werden können. Dazu lesen wir zunächst den Dataframe `comments_df` aus dem vorhergehenden Abschnitt ein. Den Dataframe hatten wir im Pickleformat zur Weiterverarbeitung in Python gespeichert."
   ]
  },
  {
   "cell_type": "code",
   "execution_count": null,
   "metadata": {
    "collapsed": false
   },
   "outputs": [],
   "source": [
    "import pandas as pd\n",
    "\n",
    "comments_df = pd.read_pickle(\"comments_df.pkl\")"
   ]
  },
  {
   "cell_type": "markdown",
   "metadata": {},
   "source": [
    "Wie genau die extrahierten Daten visualisiert und analysiert werden sollen, hängt natürlich vor allem von der Forschungsfrage und der Art der Daten ab. Im Folgenden betrachten wir deswegen nur ganz allgemein zwei Beispiele, wie unsere Kommentardaten visualisiert werden könnten, um einen ersten Überblick über die Zusammensetzung der Daten zu gewinnen. Hierfür verwenden wir beispielhaft die beiden Bibliotheken Matplotlib und Seaborn. Beide werden zunächst installiert:"
   ]
  },
  {
   "cell_type": "code",
   "execution_count": null,
   "metadata": {},
   "outputs": [],
   "source": [
    "# import sys\n",
    "# !conda install --yes --prefix {sys.prefix} matplotlib\n",
    "# !conda install --yes --prefix {sys.prefix} seaborn"
   ]
  },
  {
   "cell_type": "markdown",
   "metadata": {},
   "source": [
    "Zuerst visualisieren wir mit Matplotlib die Anzahl der Kommentare je Pin. Dazu muss zuerst eine neue Spalte erstellt werden, welche die Anzahl der Kommentare je Pin enthält. "
   ]
  },
  {
   "cell_type": "code",
   "execution_count": null,
   "metadata": {},
   "outputs": [],
   "source": [
    "# Anzahl Kommentare je Pin\n",
    "comments_per_pin = comments_df.groupby(by=\"link\")[\"comment\"].nunique()\n",
    "type(comments_per_pin)"
   ]
  },
  {
   "cell_type": "code",
   "execution_count": null,
   "metadata": {},
   "outputs": [],
   "source": [
    "comments_per_pin"
   ]
  },
  {
   "cell_type": "markdown",
   "metadata": {},
   "source": [
    "Durch diese Operation hat sich aber die Struktur des Dataframes verändert. Bevor die Visualisierung erstellt werden kann, muss erst die Struktur des Dataframes angepasst werden:  "
   ]
  },
  {
   "cell_type": "code",
   "execution_count": null,
   "metadata": {},
   "outputs": [],
   "source": [
    "pin_comments_df = comments_per_pin.to_frame(name=\"comments_no\") # Spaltenname setzen\n",
    "pin_comments_df"
   ]
  },
  {
   "cell_type": "code",
   "execution_count": null,
   "metadata": {},
   "outputs": [],
   "source": [
    "pin_comments_df.columns"
   ]
  },
  {
   "cell_type": "code",
   "execution_count": null,
   "metadata": {},
   "outputs": [],
   "source": [
    "pin_comments_df = pin_comments_df.reset_index()\n",
    "pin_comments_df"
   ]
  },
  {
   "cell_type": "code",
   "execution_count": null,
   "metadata": {},
   "outputs": [],
   "source": [
    "max(pin_comments_df[\"comments_no\"])\n",
    "min(pin_comments_df[\"comments_no\"])"
   ]
  },
  {
   "cell_type": "markdown",
   "metadata": {},
   "source": [
    "Jetzt kann die Visualisierung erzeugt werden. Mit der Pandas-Methode .plot() können verschiedene einfache Visualisierungen der Daten in einem Pandas Dataframe oder Series-Objekt erstellt werden, hier ein Säulendiagramm:"
   ]
  },
  {
   "cell_type": "code",
   "execution_count": null,
   "metadata": {},
   "outputs": [],
   "source": [
    "# Gesamter Link wird auf der x-Achse angezeigt\n",
    "pin_comments_df.plot(kind=\"bar\", x=\"link\", y=\"comments_no\", legend=False)"
   ]
  },
  {
   "cell_type": "markdown",
   "metadata": {},
   "source": [
    "Diese Visualisierung ist jedoch nicht besonders gut lesbar, da die Links auf der X-Achse sehr lang sind. Außerdem fehlen Titel für die x- und y-Achse und ein Diagrammtitel. Um die Links auf der x-Achse zu verkürzen, erstellen wir eine neue Spalte pin_id, welche nur die ID des jeweiligen Pins enthält, und erstellen die Visualisierung dann erneut:"
   ]
  },
  {
   "cell_type": "code",
   "execution_count": null,
   "metadata": {},
   "outputs": [],
   "source": [
    "# Neue Spalte pin_id erstellen, damit nur Pin-Nummer auf der x-Achse angezeigt werden kann\n",
    "pin_comments_df[\"pin_id\"] = pin_comments_df['link'].str.extract('(\\d+)')\n",
    "pin_comments_df"
   ]
  },
  {
   "cell_type": "code",
   "execution_count": null,
   "metadata": {},
   "outputs": [],
   "source": [
    "# Pin-ID auf der x-Achse anzeigen\n",
    "pin_comments_df.plot(kind=\"bar\", x=\"pin_id\", y=\"comments_no\", legend=False)"
   ]
  },
  {
   "cell_type": "markdown",
   "source": [
    "Dieses Diagramm sieht schon besser aus, aber es fehlen immer noch die Titel. Um dem Diagramm Titel hinzuzufügen, kann auf Matplotlib zurückgegriffen werden. Laut der Dokumentationsseite zur Methode .plot() greift Pandas unter der Motorhaube auf das Paket Matplotlib zurück, um die Diagramme zu erzeugen. Der Rückgabewert der .plot()-Methode ist dementsprechend ein spezielles Matplotlib-Objekt, und zwar ein [Matplotlib Axes-Objekt](https://matplotlib.org/stable/api/_as_gen/matplotlib.axes.Axes.html#matplotlib.axes.Axes)."
   ],
   "metadata": {
    "collapsed": false
   }
  },
  {
   "cell_type": "code",
   "execution_count": null,
   "outputs": [],
   "source": [
    "type(pin_comments_df.plot(kind=\"bar\", x=\"pin_id\", y=\"comments_no\", legend=False))"
   ],
   "metadata": {
    "collapsed": false
   }
  },
  {
   "cell_type": "markdown",
   "source": [
    "Das Axes-Objekt wird im Hintergrund aufgerufen und kann dann mithilfe von Matplotlib-Methoden angepasst werden. Ein ähnliches Prinzip kennt ihr bereits von Selenium, wo wir ebenfalls Objekte nicht explizit an Funktionen übergeben mussten, da implizit die Referenz zu dem jeweiligen Objekt gespeichert wurde. Der folgende Code fügt dem mithilfe der Pandas .plot()-Methode erzeugten Matplotlib-Objekt die Titel hinzu:"
   ],
   "metadata": {
    "collapsed": false
   }
  },
  {
   "cell_type": "code",
   "execution_count": null,
   "outputs": [],
   "source": [
    "import matplotlib.pyplot as plt\n",
    "\n",
    "pin_comments_df.plot(kind=\"bar\", x=\"pin_id\", y=\"comments_no\", legend=False)\n",
    "plt.xlabel(\"Pin ID\")\n",
    "plt.ylabel(\"Anzahl Kommentare\")\n",
    "plt.title(\"Kommentare je Pin\")\n",
    "plt.show()"
   ],
   "metadata": {
    "collapsed": false
   }
  },
  {
   "cell_type": "markdown",
   "source": [
    "Die Methoden plt.xlabel(), plt.ylabel() usw. beziehen sich hier aber immer nur auf das zuletzt erzeugte Objekt. Wenn viele Diagramme erstellt werden sollen oder zu einem späteren Zeitpunkt ein Diagramm angepasst werden soll, muss die Referenz zu dem Axes-Objekt explizit übergeben werden. Die [Pandas-Dokumentationsseiten](https://pandas.pydata.org/docs/getting_started/intro_tutorials/04_plotting.html) empfehlen in diesem Fall das folgende Vorgehen:"
   ],
   "metadata": {
    "collapsed": false
   }
  },
  {
   "cell_type": "code",
   "execution_count": null,
   "outputs": [],
   "source": [
    "fig, axs = plt.subplots() # Leere Matplotlib Figure und Axes-Objekte erstellen\n",
    "pin_comments_df.plot(ax=axs, kind=\"bar\", x=\"pin_id\", y=\"comments_no\", legend=False) # Das Pandas-Plot-Objekt auf das Axes-Objekt legen\n",
    "axs.set_xlabel(\"Pin ID\") # Titel hinzufügen\n",
    "axs.set_ylabel(\"Anzahl Kommentare\")\n",
    "axs.set_title(\"Kommentare je Pin\")"
   ],
   "metadata": {
    "collapsed": false
   }
  },
  {
   "cell_type": "markdown",
   "source": [
    "Während zum Anpassen des Diagramms das Axes-Objekt verwendet wird, wird das Figure-Objekt zum Speichern des Diagramm verwendet:"
   ],
   "metadata": {
    "collapsed": false
   }
  },
  {
   "cell_type": "code",
   "execution_count": null,
   "outputs": [],
   "source": [
    "fig.savefig(\"comments_df.png\")"
   ],
   "metadata": {
    "collapsed": false
   }
  },
  {
   "cell_type": "markdown",
   "metadata": {},
   "source": [
    "Als nächstes interessiert uns, wie lang die Kommentare unter den beiden Pins sind. Um die Länge der Kommentare für die beiden Pins zu vergleichen, wollen wir einen Boxplot erstellen. Bevor die Visualisierung erstellt werden kann, muss jedoch erst wieder eine neue Spalte mit der Länge der Kommentare hinzugefügt werden: "
   ]
  },
  {
   "cell_type": "code",
   "execution_count": null,
   "metadata": {},
   "outputs": [],
   "source": [
    "# Länge der Kommentare bestimmen und neue Spalte comment_length erstellen\n",
    "length_per_comment = comments_df.groupby(by=\"commentator_id\")[\"comment\"]\n",
    "length_per_comment"
   ]
  },
  {
   "cell_type": "code",
   "execution_count": null,
   "metadata": {},
   "outputs": [],
   "source": [
    "# Länge der Kommentare bestimmen und neue Spalte comment_length erstellen\n",
    "comments_df[\"comment_length\"] = comments_df[\"comment\"].apply(len)\n",
    "# Fehlermeldung: hier wäre es doch besser, wir hätten die leeren Zeichenketten anstelle der NA-Werte gelassen"
   ]
  },
  {
   "cell_type": "markdown",
   "metadata": {},
   "source": [
    "Beim Versuch die Funktion len() auf die Einträge in der Spalte comment anzuwenden, bekommen wir eine Fehlermeldung, da wir zuvor leere Strings durch NA-Werte ausgetauscht haben. Das stellt sich also jetzt als voreilig heraus, und wir machen die Operation zunächst rückgängig: "
   ]
  },
  {
   "cell_type": "code",
   "execution_count": null,
   "metadata": {},
   "outputs": [],
   "source": [
    "# NA Werte durch leere Zeichenkette ersetzen\n",
    "comments_df.replace(pd.NA, \"\", inplace=True)"
   ]
  },
  {
   "cell_type": "code",
   "execution_count": null,
   "metadata": {},
   "outputs": [],
   "source": [
    "# Länge der Kommentare bestimmen und neue Spalte comment_length erstellen\n",
    "comments_df[\"comment_length\"] = comments_df[\"comment\"].apply(len)\n",
    "comments_df"
   ]
  },
  {
   "cell_type": "markdown",
   "metadata": {},
   "source": [
    "Jetzt können wir den Boxplot erstellen. Das geht wieder mit der Methode .plot() und dem Argument `kind=\"box\"`. Wir verwenden aber stattdessen diesmal die Bibliothek Seaborn, da diese die Erstellung von komplexeren Diagrammen erleichtert und der Code zum Erzeugen der Diagramme etwas kompakter ist:"
   ]
  },
  {
   "cell_type": "code",
   "execution_count": null,
   "metadata": {},
   "outputs": [],
   "source": [
    "import seaborn as sns\n",
    "\n",
    "# Dokumentation zur Funktion catplot():  https://seaborn.pydata.org/generated/seaborn.catplot.html#seaborn.catplot\n",
    "sns.catplot(data=comments_df, x=\"link\", y=\"comment_length\", kind=\"box\")"
   ]
  },
  {
   "cell_type": "markdown",
   "source": [
    "Wir haben hier dasselbe Problem, auf das wir auch beim Erzeugen des Säulendiagramms mit der Pandas plot()-Methode gestoßen sind: die langen URLs eignen sich nicht gut zur Beschriftung der x-Achse. Wir erstellen deswegen wieder eine neue Spalte, die nur die Pin-IDs enthält und erstellen dann die Grafik erneut:"
   ],
   "metadata": {
    "collapsed": false
   }
  },
  {
   "cell_type": "code",
   "execution_count": null,
   "outputs": [],
   "source": [
    "# Neue Spalte pin_id erstellen, damit nur Pin-Nummer auf der x-Achse angezeigt werden kann\n",
    "comments_df[\"pin_id\"] = comments_df['link'].str.extract('(\\d+)')\n",
    "comments_df"
   ],
   "metadata": {
    "collapsed": false
   }
  },
  {
   "cell_type": "code",
   "execution_count": null,
   "outputs": [],
   "source": [
    "sns.catplot(data=comments_df, x=\"pin_id\", y=\"comment_length\", kind=\"box\")"
   ],
   "metadata": {
    "collapsed": false
   }
  },
  {
   "cell_type": "markdown",
   "metadata": {},
   "source": [
    "Wenn auf der x-Achse mehrere längere Wörter stehen müssen, kann die Beschriftung der x-Achse zum Beispiel um 90 Grad rotiert werden:"
   ]
  },
  {
   "cell_type": "code",
   "execution_count": null,
   "outputs": [],
   "source": [
    "sns.catplot(data=comments_df, x=\"pin_id\", y=\"comment_length\", kind=\"box\").set_xticklabels(rotation=90)"
   ],
   "metadata": {
    "collapsed": false
   }
  },
  {
   "cell_type": "markdown",
   "source": [
    "Für mehr Beispiele zur Erstellung von Diagrammen in Pandas/Matplotlib empfehle ich den [Pandas Userguide](https://pandas.pydata.org/docs/user_guide/visualization.html). Für Beispiele zur Erstellung von Seaborn-Diagrammen lohnt sich ein Blick in die [Seaborn-Dokumentationsseiten](https://seaborn.pydata.org/tutorial/function_overview.html)."
   ],
   "metadata": {
    "collapsed": false
   }
  },
  {
   "cell_type": "markdown",
   "metadata": {
    "collapsed": false
   },
   "source": [
    "### Quellen\n",
    "\n",
    "```{bibliography}\n",
    "   :list: enumerated\n",
    "   :filter: keywords % \"dataviz\"\n",
    "```"
   ]
  }
 ],
 "metadata": {
  "kernelspec": {
   "display_name": "Python 3",
   "language": "python",
   "name": "python3"
  },
  "language_info": {
   "codemirror_mode": {
    "name": "ipython",
    "version": 2
   },
   "file_extension": ".py",
   "mimetype": "text/x-python",
   "name": "python",
   "nbconvert_exporter": "python",
   "pygments_lexer": "ipython2",
   "version": "2.7.6"
  }
 },
 "nbformat": 4,
 "nbformat_minor": 0
}
