{
 "cells": [
  {
   "attachments": {},
   "cell_type": "markdown",
   "metadata": {},
   "source": [
    "# Pakete"
   ]
  },
  {
   "cell_type": "markdown",
   "source": [
    "### Was sind Pakete?\n",
    "\n",
    "Die Python-Dokumentation werden **Pakete (engl. packages)** einfach als \"a collection of modules\" definiert. Um zu verstehen, was Pakete sind, müssen wir also zunächst verstehen, was **Module** sind. In der Python-Dokumentation sind Module wie folgt definiert:\n",
    "\n",
    "> \"A module is a file containing Python definitions and statements.\"\n",
    "\n",
    "Quelle: Python 3.11.3 [Documentation](https://docs.python.org/3/tutorial/modules.html).\n",
    "\n",
    "Mit Datei (file) ist einfach ein Python-Skript gemeint, das verschiedene Anweisungen (statements) und Definitionen, zum Beispiel Funktionsdefinitionen, enthält. Module können Python-Nutzer:innen also selbst erstellen. Wenn man viele Funktionen zu einem bestimmten Anwendungszweck selbst definiert hat, möchte man diese nicht im Skript stehen haben, sondern speichert sie in einem separaten Skript, das dann \"importiert\" werden kann. Diese Skripte können auch online gestellt werden, damit andere Nutzer:innen die Funktionen auch importieren und nutzen können. Dieses Prinzip, den eigenen Quelltext in Module aufzuteilen, die je einen unterschiedlichen Zweck haben, nennt man auch **Modularisierung**.\n",
    "\n",
    "Module und Pakete werden also dazu verwendet, um seinen eigenen Code zu organisieren, oder um auf bestimmte Funktionalitäten zuzugreifen, die in Python nicht vordefiniert sind und die andere Python-Nutzer:innen definiert und veröffentlicht haben. Pakete enthalten vor allem Funktionen, aber auch zusätzliche Datentypen oder ganze Datensätze. Um darauf zuzugreifen, müssen Python-Pakete zuerst **installiert** und danach **importiert** werden.\n",
    "\n",
    "Besonders komplexe Pakete, die verschiedene Unterpakete enthalten, werden auch **Bibliothek (engl. library)** genannt. BeautifulSoup zum Beispiel ist eigentlich eine Bibliothek. Manchmal wird der Begriff \"Bibliothek\" aber auch einfach als Oberbegriff für verschiedene Arten von wiederverwendbarem Code verwendet.\n",
    "\n",
    "Der Einfachheit halber sprechen wir aber im Folgenden einfach von Paketen, auch dann, wenn eigentlich Bibliotheken gemeint sind.\n",
    "\n",
    "Die Funktionen, die wir bisher kennengelernt haben, waren alle in Python vordefiniert. Wir mussten deswegen kein Paket installieren und laden, um sie zu nutzen."
   ],
   "metadata": {
    "collapsed": false
   }
  },
  {
   "cell_type": "markdown",
   "source": [
    "### Pakete installieren\n",
    "\n",
    "Es gibt verschiedene Wege, Python-Pakete zu installieren. Da wir unser JupyterLab in einer virtuellen Umgebung ausführen und hierzu unseren eigenen Kernel erstellt haben, verwenden wir den folgenden Code, um Pakete zu installieren:"
   ],
   "metadata": {
    "collapsed": false
   }
  },
  {
   "cell_type": "code",
   "execution_count": null,
   "outputs": [],
   "source": [
    "# Install a conda package in the current Jupyter kernel\n",
    "# import sys\n",
    "# !conda install --yes --prefix {sys.prefix} pandas"
   ],
   "metadata": {
    "collapsed": false
   }
  },
  {
   "cell_type": "markdown",
   "source": [
    "Wenn ihr den Code in euer Jupyter Notebook kopiert, müsst ihr natürlich die Kommentarzeichen entfernen.\n",
    "\n",
    "Mit `!conda list` kann anschließend eine Liste aller in der aktuellen Umgebung installierten Pakete ausgegeben werden."
   ],
   "metadata": {
    "collapsed": false
   }
  },
  {
   "cell_type": "markdown",
   "source": [
    "### Pakete importieren"
   ],
   "metadata": {
    "collapsed": false
   }
  },
  {
   "cell_type": "markdown",
   "source": [
    "Installierte Pakete müssen immer am Anfang eines Jupyter Notebooks immer importiert werden, bevor sie verwendet werden können:"
   ],
   "metadata": {
    "collapsed": false
   }
  },
  {
   "cell_type": "code",
   "execution_count": null,
   "outputs": [],
   "source": [
    "# import sys"
   ],
   "metadata": {
    "collapsed": false
   }
  },
  {
   "cell_type": "markdown",
   "source": [
    "Es ist auch möglich, nur einzelne Funktionen oder einen kleine Menge der Funktionen aus einem Paket zu importieren. Das erfordert weniger Ladezeit und ist somit effizienter. Um das zu tun, werden die Schlüsselworte **`from ... import...`** verwendet.\n"
   ],
   "metadata": {
    "collapsed": false
   }
  },
  {
   "cell_type": "code",
   "execution_count": null,
   "outputs": [],
   "source": [
    "# from bs4 import BeautifulSoup"
   ],
   "metadata": {
    "collapsed": false
   }
  },
  {
   "cell_type": "markdown",
   "source": [
    "Für manche Pakete wird beim Importieren der Konvention nach ein Alias verwendet, also eine Kurzform des Paketnamens:"
   ],
   "metadata": {
    "collapsed": false
   }
  },
  {
   "cell_type": "code",
   "execution_count": null,
   "outputs": [],
   "source": [
    "# import pandas as pd"
   ],
   "metadata": {
    "collapsed": false
   }
  },
  {
   "cell_type": "markdown",
   "source": [
    "Durch die import-Anweisung wird ein **Namensraum (engl. namespace)** mit dem Namen des Pakets erstellt. In der Anweisung `import sys` hat der Namenraum des importierten Pakets den Namen `sys`. In der Anweisung `import pandas as pd` wird dagegen der Name des Namensraums manuell festgelegt, nämlich als `pd`.\n",
    "\n",
    "Funktionen aus dem importierten Paket oder Modul können aufgerufen werden, indem zuerst der Name des Namensraums adressiert wird, gefolgt von einem Punkt und dem Funktionsnamen, also zum Beispiel könnten wir die Funktion `getsizeof()` aus dem Modul `sys` verwenden, um uns die Größe eines Objekts im Speicher in Bytes ausgeben zu lassen:"
   ],
   "metadata": {
    "collapsed": false
   }
  },
  {
   "cell_type": "code",
   "execution_count": null,
   "outputs": [],
   "source": [
    "# wort = \"Hallo\"\n",
    "# sys.getsizeof(wort)"
   ],
   "metadata": {
    "collapsed": false
   }
  },
  {
   "cell_type": "markdown",
   "source": [
    "### Welche Pakete gibt es denn alles?\n",
    "\n",
    "Wenn ihr nach einer bestimmten Funktionalität sucht, dann empfiehlt es sich, zunächst auf der Seite https://pypi.org/ nach einem Stichwort zu suchen. Diese Seite durchsucht verschiedene Online-Plattformen, auf denen Python Nutzer:innen ihre Pakete veröffentlicht haben.\n",
    "\n",
    "Zu den meisten Paketen gibt es eigene Dokumentationsseiten, die von den Python Nutzer:innen gepflegt werden, die die Pakete entwickelt haben. Um zu verstehen, welche Funktionalitäten ein bestimmtes Paket zur Verfügung stellt, solltet ihr euch die Dokumentationsseiten zu dem Paket durchlesen.\n",
    "\n",
    "- Dokumentationsseiten zum Paket pandas: https://pandas.pydata.org/docs/index.html\n"
   ],
   "metadata": {
    "collapsed": false
   }
  },
  {
   "cell_type": "markdown",
   "source": [
    "### Pakete: Mehr als nur Funktionen"
   ],
   "metadata": {
    "collapsed": false
   }
  },
  {
   "cell_type": "markdown",
   "source": [
    "Eingangs habe ich erwähnt, dass Pakete neben Funktionen auch nutzerdefinierte Datentypen enthalten können.\n",
    "\n",
    "Zum Beispiel hat Wes McKinney, ein US-amerikanischer Data Scientist, bei seiner Arbeit mit ökonometrischen Daten bemerkt, dass er immer wieder bestimmte Abläufe benötigte, um seine Daten zu analysieren. Er hat auch bemerkt, dass die existierenden Python-Datentypen nicht besonders effizient waren, um seine Daten zu verarbeiten und zu speichern. Da McKinney vor allem mit Daten gearbeitet hat, die in Tabellenform vorlagen, wollte er auch in Python mit Objekten arbeiten, auf die dieselben Operationen angewendet werden können wie auf Exceltabellen. Er hat deswegen einen neuen Datentyp definiert: einen DataFrame. Das Python-Skript, in dem er seinen DataFrame-Datentyp definiert hat, hat er zusammen mit den Skripten, in denen er die Funktionen zur Datenanalyse definiert hat, als neues Paket mit dem Namen pandas veröffentlicht. Damit andere Nutzer:innen auch verstehen, was die Funktionen machen und wie sein neuer Datentyp zu verwenden ist, hat er sein Paket online dokumentiert. Hier ist z.B. die Dokumentationsseite zum pandas-DataFrame: https://pandas.pydata.org/docs/reference/api/pandas.DataFrame.html\n",
    "\n",
    ":::{figure-md} markdown-fig\n",
    "<img src=\"pandas_dataframe.png\" alt=\"pandas Dataframe Dokumentation\" class=\"bg-transparent\" width=\"80%\">\n",
    "\n",
    "Auszug aus der Dokumentationsseite zum pandas-DataFrame\n",
    ":::\n",
    "\n",
    "\n",
    "Auf der Dokumentationsseite stoßt ihr auf drei Begriffe, die wir bisher nicht erwähnt haben: Datenstruktur (data structure), Klasse (class) und Attribute (attributes).\n",
    "\n",
    "**Datenstruktur** ist ein Begriff, der oft nicht ganz klar definiert verwendet wird. Auf den Pandas-Dokumentationsseiten können wir nachlesen, wie McKinney diesen Begriff definiert:\n",
    "\n",
    "> \"The best way to think about the pandas data structures is as flexible containers for lower dimensional data. For example, DataFrame is a container for Series, and Series is a container for scalars. We would like to be able to insert and remove objects from these containers in a dictionary-like fashion.\"\n",
    "\n",
    "Quelle: pandas 2.0.1 [Documentation](https://pandas.pydata.org/docs/getting_started/overview.html#data-structures)\n",
    "\n",
    "Eine pandas-Datenstruktur ist also eigentlich einfach ein zusammengesetzter Datentyp.\n",
    "\n",
    "Jetzt zum zweiten Begriff. Wenn Nutzer:innen eigene Datentypen definieren wollen, dann verwenden sie dazu **Klassen**.\n",
    "In der Python-Dokumentation werden Klassen wie folgt definiert:\n",
    "\n",
    "> \"Classes provide a means of bundling data and functionality together. Creating a new class creates a new type of object, allowing new instances of that type to be made. Each class instance can have attributes attached to it for maintaining its state. Class instances can also have methods (defined by its class) for modifying its state.\"\n",
    "\n",
    "Quelle: Python 3.11.3 [Documentation](https://docs.python.org/3/tutorial/classes.html)\n",
    "\n",
    "Zur Definition von Klassen wird das Signalwort `class` verwendet statt das Signalwort `def`, das wir von der Definition von Funktionen kennen. Bei der Klassendefinition wird wie bei Funktionsdefinitionen auch ein Name der Klasse festgelegt. Diesen Namen verwenden wir, um den Typ eines Objekts zu benennen: Also im Beispiel unten ist df ein Objekt vom Typ DataFrame. Wir haben ja zu Anfang erwähnt, dass alles in Python ein Objekt ist, und dass jedes Objekt einen Typ hat, der bestimmt, welche Eigenschaften das Objekt hat und welche Operationen darauf angewendet werden können. In der Klassendefinition werden genau diese Eigenschaften und Operationen festgelegt. Wir haben schon mehrmals besprochen, dass die Operationen, die für Objekte eines Datentyps definiert sind, Methoden genannt werden. Die Eigenschaften, die für Objekte eines Datentyps definiert sind, heißen dagegen **Attribute**.\n",
    "\n",
    "```{note}\n",
    "In der Python-Dokumentation heißen diese Eigenschaften genau genommen \"Data Attributes\", um sie von Methoden zu unterscheiden, die nämlich auch eine Art von Attributen sind, und zwar eigentlich \"Prozedurale Attribute\". In der Alltagssprache wird aber oft einfach nur von Attributen und Methoden gesprochen.\n",
    "```\n",
    "\n",
    "Mithilfe des Klassennamens können dann neue Instanzen (Exemplare) der Klasse erstellt werden, also eben Objekte vom Typ X.\n",
    "\n",
    "Beispiel: Erstellt ein Objekt vom Typ Dictionary, das irgendwelche Strings als Schlüssel und Listen als Werte enthält. Nennt das Dictionary daten.\n",
    "Erstellt dann ein Objekt vom Typ DataFrame, indem ihr den folgenden Code ausführt (ohne die Kommentarzeichen):"
   ],
   "metadata": {
    "collapsed": false
   }
  },
  {
   "cell_type": "code",
   "execution_count": null,
   "outputs": [],
   "source": [
    "# df = pd.DataFrame(daten)\n",
    "# print(df)"
   ],
   "metadata": {
    "collapsed": false
   }
  },
  {
   "cell_type": "markdown",
   "source": [
    "Jetzt können wir Methoden auf dieses Objekt anwenden, welche für pandas-DataFrames definiert sind. Zum Beispiel die Methode head, welche per Default die ersten fünf Zeilen des Dataframes ausgibt:"
   ],
   "metadata": {
    "collapsed": false
   }
  },
  {
   "cell_type": "code",
   "execution_count": null,
   "outputs": [],
   "source": [
    "# Die ersten 5 Zeilen des DataFrames ausgeben lassen\n",
    "# df.head()\n",
    "\n",
    "# Erste 2 Zeilen ausgeben lassen\n",
    "# df.head(2)"
   ],
   "metadata": {
    "collapsed": false
   }
  },
  {
   "cell_type": "markdown",
   "source": [
    "Es ist auch möglich, Attribute (Eigenschaften) des Objekts abzufragen. Dazu wird genau wie beim Zugriff auf Methoden der Punkt-Operator verwendet. **Aber anders als beim Aufruf von Methoden werden aber beim Zugriff auf Attribute keine runden Klammern verwendet!** Für Objekte vom Typ DataFrame ist zum Beispiel das Attribut `columns` definiert, welches die Spaltennamen des DataFrames beschreibt:"
   ],
   "metadata": {
    "collapsed": false
   }
  },
  {
   "cell_type": "code",
   "execution_count": null,
   "outputs": [],
   "source": [
    "# Auf Attribut columns des DataFrames df zugreifen\n",
    "# df.columns"
   ],
   "metadata": {
    "collapsed": false
   }
  },
  {
   "attachments": {},
   "cell_type": "markdown",
   "metadata": {
    "collapsed": false
   },
   "source": [
    "### Quellen\n",
    "\n",
    "```{bibliography}\n",
    "   :list: enumerated\n",
    "   :filter: keywords % \"packages\" or keywords % \"mit_09\"\n",
    "```"
   ]
  },
  {
   "attachments": {},
   "cell_type": "markdown",
   "metadata": {
    "collapsed": false
   },
   "source": []
  }
 ],
 "metadata": {
  "kernelspec": {
   "display_name": "Python 3",
   "language": "python",
   "name": "python3"
  },
  "language_info": {
   "codemirror_mode": {
    "name": "ipython",
    "version": 3
   },
   "file_extension": ".py",
   "mimetype": "text/x-python",
   "name": "python",
   "nbconvert_exporter": "python",
   "pygments_lexer": "ipython3",
   "version": "3.8.0"
  },
  "widgets": {
   "application/vnd.jupyter.widget-state+json": {
    "state": {},
    "version_major": 2,
    "version_minor": 0
   }
  }
 },
 "nbformat": 4,
 "nbformat_minor": 4
}
