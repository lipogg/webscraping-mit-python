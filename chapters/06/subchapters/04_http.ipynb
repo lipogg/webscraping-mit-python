{
 "cells": [
  {
   "attachments": {},
   "cell_type": "markdown",
   "metadata": {},
   "source": [
    "# HTTP: Hypertext Transfer Protocol"
   ]
  },
  {
   "cell_type": "markdown",
   "source": [
    "</br>\n",
    "\n",
    ":::{figure-md} markdown-fig\n",
    "<img src=\"get_request.png\" alt=\"Client sendet GET-Request an Webserver\" class=\"bg-transparent\" width=\"70%\">\n",
    "\n",
    "Client sendet GET-Request an Webserver. Quelle: [Practical Networking (2022)](https://www.youtube.com/watch?v=E5bSumTAHZE)\n",
    ":::\n",
    "\n",
    "\n",
    "## Host, Client, Server\n",
    "\n",
    "Im Rahmen der Übungsaufgabe 4 habt ihr zwei Videos aus der Reihe \"Networking Fundamentals\" geschaut. Hier noch einmal eine Zusammenfassung einiger Grundbegriffe aus den Videos:\n",
    "\n",
    "- **Host**: Jedes Gerät, das Datenpakete über ein Netzwerk sendet oder empfängt (Bsp. Laptop, Desktop-Computer, Handy, Drucker, Server,...)\n",
    "- **Client**: Hosts, die Anfragen stellen\n",
    "- **Server**: Hosts, die Anfragen beantworten\n",
    "- **Webserver**: Server sind im Grunde einfach Computer, auf denen eine spezielle Software installiert ist, die Anfragen von Clients entgegennimmt und bearbeitet. Ein Webserver ist also ein Computer, auf dem Webserver-Software installiert ist. Mit dieser Software werden Webseiten bereitgestellt.\n",
    "\n",
    "Beachtet jedoch die Anmerkung aus dem Video \"Network Devices\": Die Begriffe Client und Server sind relativ: Wenn der Webserver eine Anfrage an einen Datenbankserver stellt, um Daten auf dem Server zu aktualisieren, ist in dieser Kommunikation der Webserver der Client und der Datenbankserver der Server.\n",
    "\n",
    "- **IP-Adresse**: Identität eines Hosts, also eine einzigartige numerische Kennung, die einem Host in einem Netzwerk zugewiesen ist. Eine IP-Adresse ist Voraussetzung für die Kommunikation über das Netzwerk.\n",
    "- **Netzwerk**: Eine Verbindung von Hosts, die miteinander kommunizieren und Datenpakete austauschen können. Ein Netzwerk ist also das, was die Datenpakete transportiert. Formell gesprochen eine logische Gruppierung von Hosts, die ähnliche Anforderungen und Eigenschaften in Bezug auf ihre Netzwerkverbindungen haben, also zum Beispiel an die Netzwerkprotokolle, die sie verwenden. Netzwerke können andere Netzwerke enthalten, die dann Teilnetze oder Unternetze heißen.\n",
    "- **Internet**: Vielzahl miteinander verbundener (Computer)netzwerke.\n",
    "- **Protokoll**: Sammlung von Regeln und Verfahren, die festlegen, wie die Kommunikation zwischen verschiedenen Geräten in einem Netzwerk abläuft, und die einen Internetstandard bilden.\n",
    "\n",
    "```{note}\n",
    "Obwohl **Internet** und **World Wide Web** oft als Synonyme verwendet werden, handelt es sich eigentlich um verschiedene Dinge: Das World Wide Web ist nämlich nur ein Dienst des Internets, also eine Nutzungsmöglichkeit des Internets. Neben dem WWW gibt es auch andere Internetdienste, zum Beispiel E-Mail.\n",
    "```"
   ],
   "metadata": {
    "collapsed": false
   }
  },
  {
   "cell_type": "markdown",
   "source": [
    "## HTTP\n",
    "\n",
    "> \"Das Hypertext Transfer Protocol ist ein Protokoll auf Anwendungsebene zur Übertragung von Daten über ein Netzwerk. Es wird hauptsächlich eingesetzt, um Webseiten aus dem World Wide Web in einen Webbrowser zu laden.\"\n",
    "\n",
    "Quelle: [Frank Dopatka (2021)](https://www.youtube.com/watch?v=fkbwGJT5iH0)\n",
    "\n",
    "Das Hyptertext Transfer Protocol wird also immer dann verwendet, wenn ein Client mit einem Webserver kommuniziert.\n",
    "\n",
    "- **HTTP-Request**: Anfrage eines Clients an einen Server über das Protokoll HTTP\n",
    "\n",
    "Es wird unterschieden zwischen verschiedenen **Anfrage-Methoden (request methods)**. Eine Methode beschreibt in diesem Kontext eine Aktion, die mit der angefragten Ressource durchgeführt werden soll (also z.B. darstellen, ändern, löschen, ...). HTTP-Methoden sind immer Verben also zum Beispiel GET, POST, DELETE.\n",
    "\n",
    "Die **GET-Methode** wird verwendet, um eine bestimmte Ressource (wie eine Webseite, ein Bild oder ein CSS-Stylesheet) von einem Webserver anzufordern. Da die GET-Methode ausschließlich zum Abrufen von Daten verwendet wird, handelt es sich also um eine \"lesende\" Methode, die Daten vom Server abruft, um sie dem Client (in dem Fall dem Webbrowser) zur Anzeige oder Verarbeitung zur Verfügung zu stellen. Eine GET-Methode besteht nur aus einem **Header**, in dem Parameter spezifiziert werden. Zum einen wird dort festgelegt unter welcher URL welche Ressource angefragt wird. Über die URL kann der Host, von dem die Ressource angefragt wird, identifiziert werden. Und es wird auch angegeben, von welchem User-Agent (in dem Fall ist ein User Agent ein Browser) die Anfrage ausgeht.\n",
    "\n",
    "Bei einer HTTP-Anfrage können optional noch weitere Parameter übergeben werden, zum Beispiel, welche Sprache angezeigt werden soll oder welcher Datentyp als Antwort akzeptiert wird.\n",
    "\n",
    "- **HTTP-Response**: Antwort eines Servers auf eine Anfrage über HTTP\n",
    "\n",
    "Eine HTTP-Antwort besteht aus einem Header und einem Body. Im **Header** übermittelt der Server Metadaten wie zum Beispiel den Datentyp der Ressource und einen **Statuscode**, der mitteilt, ob die Anfrage erfolgreich war. Es gibt fünf verschiedene Arten von Statuscodes:\n",
    "\n",
    "> - Informational responses (100 – 199)\n",
    "> - Successful responses (200 – 299) - z.B. 200 OK\n",
    "> - Redirection messages (300 – 399)\n",
    "> - Client error responses (400 – 499) - z.B. 404 Not Found\n",
    "> - Server error responses (500 – 599)\n",
    "\n",
    "Quelle: [MDN Contributors 2023](https://developer.mozilla.org/en-US/docs/Web/HTTP/Status)\n",
    "\n",
    "Die beiden Statuscodes 200 und 404 sind allgemein bekannt. In diesen Fällen muss nichts unternommen werden: Die Ressource wurde erfolgreich übermittelt (Statuscode 200) oder aber sie wurde nicht gefunden, weil z.B. die URL gar nicht existiert (Statuscode 404). Manche Statuscodes informieren jedoch darüber, dass eine Handlung erforderlich ist: Der Statuscode 402 Unauthorized deutet beispielsweise darauf hin, dass der Client sich gegenüber dem Server authentifizieren muss, bevor er auf die Ressource zugreifen darf. In diesem Fall könnte die Anfrage erneut gestellt werden, aber diesmal gibt man bei der Anfrage zusätzlich einen Authentication-Parameter mit an, welcher den Client authentifiziert. Im Request-Header können zum Beispiel aber auch Cookies mit übermittelt werden, welche den Client einer Sitzung zuordnen. Cookies werden zum Beispiel verwendet, um Waren im Warenkorb zu speichern.\n",
    "\n",
    "Im Körper (**Body**) der Anwort wird die angefragte Ressource geliefert. Wenn bei der Anfrage eine HTML-Datei angefragt wurde, dann wird im Body der Antwort das HTML-Dokument als Textdatei übermittelt.\n",
    "\n",
    "Beispiel:\n",
    "\n",
    ":::{figure-md} markdown-fig\n",
    "<img src=\"get_bsp.png\" alt=\"Client sendet GET-Request an Webserver\" class=\"bg-transparent\" width=\"70%\">\n",
    "\n",
    "GET-Anfrage (oben) und HTTP Response (unten). Quelle: [Frank Dopatka (2021)](https://www.youtube.com/watch?v=ZJxIolyt36k)\n",
    ":::\n",
    "\n",
    "\n",
    "Welche Anfragen der Browser beim Aufrufen einer Website an den Server stellt, könnt ihr ebenfalls in den Browser-Entwicklertools sehen, und zwar unter dem Tab \"Netzwerk\".\n",
    "\n",
    "Welche HTTP-Anfragen werden beim Aufrufen der Webseite [https://quotes.toscrape.com](https://quotes.toscrape.com) gestellt?"
   ],
   "metadata": {
    "collapsed": false
   }
  },
  {
   "attachments": {},
   "cell_type": "markdown",
   "metadata": {
    "collapsed": false
   },
   "source": [
    "### Quellen\n",
    "\n",
    "```{bibliography}\n",
    "   :list: enumerated\n",
    "   :filter: keywords % \"http\" or keywords % \"dop_02\" or keywords % \"dop_04\"\n",
    "```"
   ]
  },
  {
   "attachments": {},
   "cell_type": "markdown",
   "metadata": {
    "collapsed": false
   },
   "source": []
  }
 ],
 "metadata": {
  "kernelspec": {
   "display_name": "Python 3",
   "language": "python",
   "name": "python3"
  },
  "language_info": {
   "codemirror_mode": {
    "name": "ipython",
    "version": 3
   },
   "file_extension": ".py",
   "mimetype": "text/x-python",
   "name": "python",
   "nbconvert_exporter": "python",
   "pygments_lexer": "ipython3",
   "version": "3.8.0"
  },
  "widgets": {
   "application/vnd.jupyter.widget-state+json": {
    "state": {},
    "version_major": 2,
    "version_minor": 0
   }
  }
 },
 "nbformat": 4,
 "nbformat_minor": 4
}
