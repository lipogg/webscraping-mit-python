{
 "cells": [
  {
   "attachments": {},
   "cell_type": "markdown",
   "metadata": {},
   "source": [
    "# CSS: Cascading Style Sheets"
   ]
  },
  {
   "cell_type": "markdown",
   "source": [
    "\n",
    ":::{figure-md} markdown-fig\n",
    "<img src=\"html_css_js.png\" alt=\"HTML, CSS und JavaScript\" class=\"bg-transparent\" width=\"50%\">\n",
    "\n",
    "Überblick: HTML, CSS und JS. Quelle: [Frank Dopatka (2021)](https://www.youtube.com/watch?v=SQpYAK_IKIo)\n",
    ":::\n",
    "\n",
    "## CSS\n",
    "\n",
    "> \"Cascading Style Sheets (CSS) ist eine Stylesheet-Sprache für elektronische Dokumente und zusammen mit HTML eine der Kernsprachen des World Wide Webs. Mit CSS werden Gestaltungsanweisungen erstellt, die zusammen mit HTML [...] eingesetzt werden. CSS wurde entworfen, um Darstellungsvorgaben von den Inhalten zu trennen. Wenn diese Trennung konsequent vollzogen wird, werden nur noch die inhaltliche Gliederung eines Dokumentes und die Bedeutung seiner Teile in HTML [...] beschrieben. Mit CSS werden dann die Definitionen zur Darstellung der Inhalte gesondert festgelegt, insbesondere Layout, Farben und Typografie.\"\n",
    "\n",
    "Quelle: [Frank Dopatka (2021)](https://www.youtube.com/watch?v=AVQRppa4434)\n",
    "\n",
    "Die Funktion von CSS könnt ihr selbst nachvollziehen, indem ihr die Entwickler Tools zu der Webseite [https://quotes.toscrape.com](https://quotes.toscrape.com) im Chrome-Browser öffnet. Wenn ihr das Fenster etwas vergrößert, seht ihr unter dem Tab \"Style\" einige CSS-Formatierungen mit einem Häkchen daneben. Wenn ihr das Häkchen entfernt, könnt ihr beobachten, wie sich das Aussehen der Webseite verändert. Wenn ihr die Seite neu ladet, wird das ursprüngliche Aussehen wieder hergestellt.\n",
    "\n",
    "Ein Cascading Style Sheet wird in Webseiten auf drei verschiedene Arten eingebunden:\n",
    "\n",
    "...intern für ein einziges HTML-Element mithilfe des HTML-Attributs style im body:\n",
    "\n",
    ":::{figure-md} markdown-fig\n",
    "<img src=\"css_inline.png\" alt=\"Interne Einbindung von CSS\" class=\"bg-transparent\" width=\"50%\">\n",
    "\n",
    "Beispiel: Interne Einbindung von CSS mithilfe des HTML-Attributs style im body:\n",
    ":::\n",
    "\n",
    "...intern für eine Webseite und alle HTML-Elemente eines bestimmten Typs mithilfe des HTML style-Elements im head:\n",
    "\n",
    ":::{figure-md} markdown-fig\n",
    "<img src=\"css_intern.png\" alt=\"Interne Einbindung von CSS\" class=\"bg-transparent\" width=\"50%\">\n",
    "\n",
    "Beispiel: Interne Einbindung von CSS mithilfe des style-Elements im head.\n",
    ":::\n",
    "\n",
    "...extern für alle Webseiten einer Website, in die die CSS-Datei eingebunden wird:\n",
    "\n",
    ":::{figure-md} markdown-fig\n",
    "<img src=\"css_extern.png\" alt=\"Externe Einbindung von CSS\" class=\"bg-transparent\" width=\"50%\">\n",
    "\n",
    "Beispiel: Externe Einbindung von CSS.\n",
    ":::\n",
    "\n",
    "Wie wird CSS auf der Webseite [https://quotes.toscrape.com](https://quotes.toscrape.com) eingebunden?\n",
    "\n",
    "HTML-Elemente werden also mithilfe von CSS irgendwie formatiert und positioniert. Für uns ist im Grunde nicht so wichtig, welche Gestaltungsmöglichkeiten CSS bereitstellt. Was für uns interessant ist, sind eigentlich die beiden HTML-Attribute `class` und `id`, die dazu verwendet werden, um im CSS-Stylesheet verschiedene HTML-Elemente separat zu addressieren. Dadurch können verschiedene Elemente der Webseite mithilfe von CSS unterschiedlich formatiert werden. Beim WebScraping machen wir uns diesen Umstand zu Nutze und verwenden die beiden Attribute `id` und `class`, um speziell nach HTML-Elementen zu suchen, die ein Attribut `id` oder `class` mit einem bestimmten Wert haben. Da auf Webseiten Elemente, die einen ähnlichen Inhalt haben, oft gleich formatiert sind, sind HTML-Elemente, deren Attribut `class` denselben Wert hat, oft nicht nur gleich formatiert, sie enthalten auch diselbe Art von Inhalt. Das klingt noch etwas abstrakt, aber wird an einem Beispiel direkt deutlicher.\n",
    "\n",
    "- **id**: Mit dem HTML-Attribut id kann einem einzelnen Elemente eine einzigartige Zeichenkette zugeteilt werden, über die das Element später addressiert werden kann.\n",
    "\n",
    ":::{figure-md} markdown-fig\n",
    "<img src=\"css_id.png\" alt=\"CSS ID\" class=\"bg-transparent\" width=\"50%\">\n",
    "\n",
    "Addressierung eines HTML-Elements über das Attribut id.\n",
    ":::\n",
    "\n",
    "- **class**: Mit einem class-Attribut kann dagegen mehreren gleichartigen Elemente eine Zeichenkette zugeteilt werden, über diese Elemente später addressiert werden können.\n",
    "\n",
    ":::{figure-md} markdown-fig\n",
    "<img src=\"css_class.png\" alt=\"CSS Class\" class=\"bg-transparent\" width=\"50%\">\n",
    "\n",
    "Addressierung mehrere HTML-Elemente über das Attribut class.\n",
    ":::\n",
    "\n",
    "Untersucht den HTML-body der Webseite [https://quotes.toscrape.com](https://quotes.toscrape.com). Welche Klassen gibt es?"
   ],
   "metadata": {
    "collapsed": false
   }
  },
  {
   "attachments": {},
   "cell_type": "markdown",
   "metadata": {
    "collapsed": false
   },
   "source": [
    "### Quellen\n",
    "\n",
    "```{bibliography}\n",
    "   :list: enumerated\n",
    "   :filter: keywords % \"css\" or keywords % \"dop_11\" or keywords % \"dop_12\"\n",
    "```"
   ]
  },
  {
   "attachments": {},
   "cell_type": "markdown",
   "metadata": {
    "collapsed": false
   },
   "source": []
  }
 ],
 "metadata": {
  "kernelspec": {
   "display_name": "Python 3",
   "language": "python",
   "name": "python3"
  },
  "language_info": {
   "codemirror_mode": {
    "name": "ipython",
    "version": 3
   },
   "file_extension": ".py",
   "mimetype": "text/x-python",
   "name": "python",
   "nbconvert_exporter": "python",
   "pygments_lexer": "ipython3",
   "version": "3.8.0"
  },
  "widgets": {
   "application/vnd.jupyter.widget-state+json": {
    "state": {},
    "version_major": 2,
    "version_minor": 0
   }
  }
 },
 "nbformat": 4,
 "nbformat_minor": 4
}
